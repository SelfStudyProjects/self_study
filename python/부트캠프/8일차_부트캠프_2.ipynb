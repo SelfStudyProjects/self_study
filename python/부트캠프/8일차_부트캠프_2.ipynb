{
  "nbformat": 4,
  "nbformat_minor": 0,
  "metadata": {
    "colab": {
      "provenance": []
    },
    "kernelspec": {
      "name": "python3",
      "display_name": "Python 3"
    },
    "language_info": {
      "name": "python"
    }
  },
  "cells": [
    {
      "cell_type": "code",
      "execution_count": 11,
      "metadata": {
        "colab": {
          "base_uri": "https://localhost:8080/"
        },
        "id": "xEZTw0Xvh3So",
        "outputId": "fd125950-7f9c-4445-c29a-b9a29f1aa006"
      },
      "outputs": [
        {
          "output_type": "stream",
          "name": "stdout",
          "text": [
            "2024-01-13 11:28:13.130119\n"
          ]
        }
      ],
      "source": [
        "import datetime\n",
        "\n",
        "r = datetime.datetime.now()\n",
        "print(r)"
      ]
    },
    {
      "cell_type": "code",
      "source": [
        "import datetime\n",
        "\n",
        "current_datetime = datetime.datetime.now()\n",
        "print(\"현재 날짜와 시간:\", current_datetime)"
      ],
      "metadata": {
        "colab": {
          "base_uri": "https://localhost:8080/"
        },
        "id": "-kx0lx8ik9NG",
        "outputId": "84b28ce6-49e8-4188-b6bf-3b59e674bf2a"
      },
      "execution_count": 15,
      "outputs": [
        {
          "output_type": "stream",
          "name": "stdout",
          "text": [
            "현재 날짜와 시간: 2024-01-13 11:42:09.404259\n"
          ]
        }
      ]
    },
    {
      "cell_type": "code",
      "source": [
        "import datetime\n",
        "\n",
        "birth_date = input(\"생년월일을 YYYY-MM-DD 형식으로 입력하세요: \")\n",
        "birth_date = datetime.datetime.strptime(birth_date, \"%Y-%m-%d\")\n",
        "print(\"당신이 태어난 요일은 \" + birth_date.strftime(\"%A\") + \"입니다.\")"
      ],
      "metadata": {
        "colab": {
          "base_uri": "https://localhost:8080/"
        },
        "id": "YHC_yoAYnALu",
        "outputId": "c8fcde81-f3f7-4abe-943b-922eec445e95"
      },
      "execution_count": 16,
      "outputs": [
        {
          "output_type": "stream",
          "name": "stdout",
          "text": [
            "생년월일을 YYYY-MM-DD 형식으로 입력하세요: 1999-08-16\n",
            "당신이 태어난 요일은 Monday입니다.\n"
          ]
        }
      ]
    },
    {
      "cell_type": "code",
      "source": [
        "import random\n",
        "secret_number = random.randint(1, 100)\n",
        "\n",
        "for attempt in range(1, 10):\n",
        "    guess = int(input(f\"{attempt}번째 시도: 1부터 100 사이의 숫자를 입력하세요: \"))\n",
        "    if guess == secret_number:\n",
        "      330\n",
        "        print(f\"정답입니다! {attempt}번 만에 맞췄어요!\")\n",
        "        break\n",
        "    elif guess < secret_number:\n",
        "        print(\"더 높은 숫자입니다.\")\n",
        "    else:\n",
        "        print(\"더 낮은 숫자입니다.\")\n",
        "\n",
        "print(f\"아쉽게도 실패했습니다. 정답은 {secret_number}였습니다.\")"
      ],
      "metadata": {
        "colab": {
          "base_uri": "https://localhost:8080/"
        },
        "id": "R0V2tc6prPeu",
        "outputId": "8755cb6b-cc86-492d-c258-e1fead8063ec"
      },
      "execution_count": 20,
      "outputs": [
        {
          "output_type": "stream",
          "name": "stdout",
          "text": [
            "1번째 시도: 1부터 100 사이의 숫자를 입력하세요: 30\n",
            "더 낮은 숫자입니다.\n",
            "2번째 시도: 1부터 100 사이의 숫자를 입력하세요: 30\n",
            "더 낮은 숫자입니다.\n",
            "3번째 시도: 1부터 100 사이의 숫자를 입력하세요: 30\n",
            "더 낮은 숫자입니다.\n",
            "4번째 시도: 1부터 100 사이의 숫자를 입력하세요: 30\n",
            "더 낮은 숫자입니다.\n",
            "5번째 시도: 1부터 100 사이의 숫자를 입력하세요: 30\n",
            "더 낮은 숫자입니다.\n",
            "6번째 시도: 1부터 100 사이의 숫자를 입력하세요: 30\n",
            "더 낮은 숫자입니다.\n",
            "7번째 시도: 1부터 100 사이의 숫자를 입력하세요: 30\n",
            "더 낮은 숫자입니다.\n",
            "8번째 시도: 1부터 100 사이의 숫자를 입력하세요: 30\n",
            "더 낮은 숫자입니다.\n",
            "9번째 시도: 1부터 100 사이의 숫자를 입력하세요: 0\n",
            "더 높은 숫자입니다.\n",
            "아쉽게도 실패했습니다. 정답은 4였습니다.\n"
          ]
        }
      ]
    },
    {
      "cell_type": "code",
      "source": [
        "import random\n",
        "\n",
        "def compare_choices(user_choice, computer_choice) :\n",
        "      if user_choice == computer_choice:\n",
        "          return \"무승부입니다.\"\n",
        "      elif (user_choice == \"가위\" and computer_choice == \"보\") or \\\n",
        "           (user_choice == \"바위\" and computer_choice == \"가위\") or \\\n",
        "           (user_choice == \"보\" and computer_choice == \"바위\"):\n",
        "          return \"승리했습니다!\"\n",
        "      else:\n",
        "          return \"패배했습니다.\"\n",
        "\n",
        "while True:\n",
        "    computer_choice = random.choice(['가위', '바위', '보'])\n",
        "    user_choice = input(\"가위, 바위, 보 중 하나를 선택하세요 (게임 종료: '종료'): \")\n",
        "    if user_choice == \"종료\":\n",
        "          break\n",
        "    if user_choice not in [\"가위\", \"바위\", \"보\"]:\n",
        "          print(\"잘못된 입력입니다. 다시 선택하세요.\")\n",
        "          continue\n",
        "\n",
        "    result = compare_choices(user_choice, computer_choice)\n",
        "    print(result)"
      ],
      "metadata": {
        "colab": {
          "base_uri": "https://localhost:8080/"
        },
        "id": "MJlLKRGdweEI",
        "outputId": "460ca68e-b977-4a3c-dcd7-7c1e6140e4bc"
      },
      "execution_count": 24,
      "outputs": [
        {
          "name": "stdout",
          "output_type": "stream",
          "text": [
            "가위, 바위, 보 중 하나를 선택하세요 (게임 종료: '종료'): 가위\n",
            "무승부입니다.\n",
            "가위, 바위, 보 중 하나를 선택하세요 (게임 종료: '종료'): 가위\n",
            "패배했습니다.\n",
            "가위, 바위, 보 중 하나를 선택하세요 (게임 종료: '종료'): 가위\n",
            "무승부입니다.\n",
            "가위, 바위, 보 중 하나를 선택하세요 (게임 종료: '종료'): 가위\n",
            "무승부입니다.\n",
            "가위, 바위, 보 중 하나를 선택하세요 (게임 종료: '종료'): 가위\n",
            "무승부입니다.\n",
            "가위, 바위, 보 중 하나를 선택하세요 (게임 종료: '종료'): 가위\n",
            "무승부입니다.\n",
            "가위, 바위, 보 중 하나를 선택하세요 (게임 종료: '종료'): 가위\n",
            "승리했습니다!\n",
            "가위, 바위, 보 중 하나를 선택하세요 (게임 종료: '종료'): 종ㅇㄹㄹ\n",
            "잘못된 입력입니다. 다시 선택하세요.\n",
            "가위, 바위, 보 중 하나를 선택하세요 (게임 종료: '종료'): 종료\n"
          ]
        }
      ]
    },
    {
      "cell_type": "code",
      "source": [
        "class Book:\n",
        "    def __init__(self, title, author, price):\n",
        "        self.title = str(title)\n",
        "        self.author = str(author.replace('저자: ', ''))\n",
        "        self.price = int(price)\n",
        "\n",
        "    def convert_to_dollars(self):\n",
        "        return f\"${self.price}\"\n",
        "\n",
        "    def discount(self, discount_percentage):\n",
        "        if 0 <= discount_percentage <= 100:\n",
        "            discounted_price = self.price * (1 - discount_percentage / 100)\n",
        "            return f\"${discounted_price:.2f}\"\n",
        "        else:\n",
        "            return \"유효하지 않은 할인율입니다.\"\n",
        "\n",
        "# 예제 사용\n",
        "book_info = {\n",
        "    'title': '습자전',\n",
        "    'author': '저자: 정진영',\n",
        "    'price': '5000'\n",
        "}\n",
        "\n",
        "my_book = Book(**book_info)"
      ],
      "metadata": {
        "colab": {
          "base_uri": "https://localhost:8080/"
        },
        "id": "jk4LSPwsyGog",
        "outputId": "5c660002-6278-432a-d37a-b3b8901191bf"
      },
      "execution_count": 27,
      "outputs": [
        {
          "output_type": "stream",
          "name": "stdout",
          "text": [
            "<__main__.Book object at 0x7d5dfb669210>\n"
          ]
        }
      ]
    },
    {
      "cell_type": "code",
      "source": [
        "books = []\n",
        "\n",
        "class Book:\n",
        "    def __init__(self, author, price, info):\n",
        "        self.name = str(name)  # 요구사항 1\n",
        "        self.price = int(price.strip())  # 요구사항 2\n",
        "        self.author = author.replace('저자: ', '').strip()  # 요구사항 3\n",
        "        self.info = info.strip()  # 요구사항 1\n",
        "\n",
        "    def __str__(self):\n",
        "        return self.name\n",
        "\n",
        "    def __repr__(self):\n",
        "        return self.name\n",
        "\n",
        "    def convert_to_dollars(self):\n",
        "        # 가격을 달러로 바꿔주는 메서드 (요구사항 4)\n",
        "        return self.price * 0.00089\n",
        "\n",
        "    def discount(self, discount_rate):\n",
        "        # 할인 메서드 (요구사항 5)\n",
        "        discounted_price = self.price - (self.price * discount_rate / 100)\n",
        "        return discounted_price\n",
        "\n",
        "for i, _ in enumerate(book_name):\n",
        "    books.append(Book(\n",
        "        book_name[i].text,\n",
        "        book_info[i].select_one('.price').text,  # 수정된 부분\n",
        "        book_info[(i*3)+1].text,\n",
        "        book_info[(i*3)+2].text,\n",
        "    ))\n",
        "\n",
        "# 결과 출력\n",
        "for book in books:\n",
        "    print(f'책 제목: {book.name}')\n",
        "    print(f'가격: {book.price}원, 달러로 변환: {book.convert_to_dollars():.2f}달러')\n",
        "    print(f'저자: {book.author}')\n",
        "    print(f'추가 정보: {book.info}')\n",
        "    print()"
      ],
      "metadata": {
        "colab": {
          "base_uri": "https://localhost:8080/",
          "height": 260
        },
        "id": "E-flMAOe1QH2",
        "outputId": "c6c31a1d-e51f-4f53-efe8-333525114d0e"
      },
      "execution_count": 29,
      "outputs": [
        {
          "output_type": "error",
          "ename": "NameError",
          "evalue": "name 'book_name' is not defined",
          "traceback": [
            "\u001b[0;31m---------------------------------------------------------------------------\u001b[0m",
            "\u001b[0;31mNameError\u001b[0m                                 Traceback (most recent call last)",
            "\u001b[0;32m<ipython-input-29-b27fd44d4988>\u001b[0m in \u001b[0;36m<cell line: 25>\u001b[0;34m()\u001b[0m\n\u001b[1;32m     23\u001b[0m         \u001b[0;32mreturn\u001b[0m \u001b[0mdiscounted_price\u001b[0m\u001b[0;34m\u001b[0m\u001b[0;34m\u001b[0m\u001b[0m\n\u001b[1;32m     24\u001b[0m \u001b[0;34m\u001b[0m\u001b[0m\n\u001b[0;32m---> 25\u001b[0;31m \u001b[0;32mfor\u001b[0m \u001b[0mi\u001b[0m\u001b[0;34m,\u001b[0m \u001b[0m_\u001b[0m \u001b[0;32min\u001b[0m \u001b[0menumerate\u001b[0m\u001b[0;34m(\u001b[0m\u001b[0mbook_name\u001b[0m\u001b[0;34m)\u001b[0m\u001b[0;34m:\u001b[0m\u001b[0;34m\u001b[0m\u001b[0;34m\u001b[0m\u001b[0m\n\u001b[0m\u001b[1;32m     26\u001b[0m     books.append(Book(\n\u001b[1;32m     27\u001b[0m         \u001b[0mbook_name\u001b[0m\u001b[0;34m[\u001b[0m\u001b[0mi\u001b[0m\u001b[0;34m]\u001b[0m\u001b[0;34m.\u001b[0m\u001b[0mtext\u001b[0m\u001b[0;34m,\u001b[0m\u001b[0;34m\u001b[0m\u001b[0;34m\u001b[0m\u001b[0m\n",
            "\u001b[0;31mNameError\u001b[0m: name 'book_name' is not defined"
          ]
        }
      ]
    },
    {
      "cell_type": "code",
      "source": [
        "from bs4 import BeautifulSoup\n",
        "\n",
        "# 가상의 HTML 데이터\n",
        "html_data = \"\"\"\n",
        "<html>\n",
        "    <body>\n",
        "        <div class=\"book_name\">Book 1</div>\n",
        "        <div class=\"book_info\">가격: 5000원</div>\n",
        "        <div class=\"book_info\">저자: Author 1</div>\n",
        "        <div class=\"book_info\">Info 1</div>\n",
        "        <!-- ... -->\n",
        "    </body>\n",
        "</html>\n",
        "\"\"\"\n",
        "\n",
        "soup = BeautifulSoup(html_data, 'html.parser')\n",
        "\n",
        "# 'book_name' 변수 정의\n",
        "book_name = soup.select('.book_name')\n",
        "\n",
        "# 'book_info' 변수 정의 (리스트)\n",
        "book_info = soup.select('.book_info')\n",
        "\n",
        "books = []\n",
        "\n",
        "class Book:\n",
        "    def __init__(self, name='', price='', author='', info=''):\n",
        "        self.name = name.strip()\n",
        "        self.price = self.parse_price(price.strip())\n",
        "        self.author = author.replace('저자: ', '').strip()\n",
        "        self.info = info.strip()\n",
        "\n",
        "    def parse_price(self, price_str):\n",
        "        if price_str.replace('가격: ', '').replace('원', '').replace(',', '') == '무료':\n",
        "            return 0\n",
        "        else:\n",
        "            return int(price_str.replace('가격: ', '').replace('원', '').replace(',', ''))\n",
        "\n",
        "    def __str__(self):\n",
        "        return self.name\n",
        "\n",
        "    def __repr__(self):\n",
        "        return self.name\n",
        "\n",
        "    def convert_to_dollar(self, exchange = 1200):\n",
        "        return self.price // exchange\n",
        "\n",
        "    def discount(self, discount_rate):\n",
        "        discount_price = self.price * (1 - discount_rate / 100)\n",
        "        self.price = int(discount_price)\n",
        "        return int(discount_price)\n",
        "\n",
        "\n",
        "books = []\n",
        "for i, _ in enumerate(book_name):\n",
        "    books.append(Book(\n",
        "        book_name[i].text,\n",
        "        book_info[(i*3)].text,\n",
        "        book_info[(i*3)+1].text,\n",
        "        book_info[(i*3)+2].text\n",
        "    ))\n",
        "\n",
        "\n",
        "print(books)\n",
        "print(books[0].name)\n",
        "print(books[0].price)\n",
        "print(f'{books[0].convert_to_dollar()} 달러')  # 달러로 변환된 가격\n",
        "books[0].discount(10)  # 10% 할인된 가격\n",
        "print(books[0].price)"
      ],
      "metadata": {
        "colab": {
          "base_uri": "https://localhost:8080/"
        },
        "id": "wU7wGmm21tJn",
        "outputId": "7855c824-ce35-4182-9a2c-ef7bce62bf71"
      },
      "execution_count": 37,
      "outputs": [
        {
          "output_type": "stream",
          "name": "stdout",
          "text": [
            "[Book 1]\n",
            "Book 1\n",
            "5000\n",
            "4 달러\n",
            "4500\n"
          ]
        }
      ]
    }
  ]
}