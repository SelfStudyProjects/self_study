{
  "nbformat": 4,
  "nbformat_minor": 0,
  "metadata": {
    "colab": {
      "provenance": []
    },
    "kernelspec": {
      "name": "python3",
      "display_name": "Python 3"
    },
    "language_info": {
      "name": "python"
    }
  },
  "cells": [
    {
      "cell_type": "code",
      "execution_count": null,
      "metadata": {
        "id": "kmdkd3zKolzd"
      },
      "outputs": [],
      "source": [
        "if ' ':\n",
        "    print('hello')\n",
        "print('end')\n",
        "\n",
        "# 공백이 없는 문자열\n",
        "if '':\n",
        "    print('hello')\n",
        "print('end')"
      ]
    },
    {
      "cell_type": "code",
      "source": [
        "if not '':\n",
        "    print('hello')\n",
        "print('end')\n",
        "\n",
        "if None: # None은 False로 처리됩니다.\n",
        "    print('hello')\n",
        "print('end')\n",
        "\n",
        "if not None:\n",
        "    print('hello')\n",
        "print('end')"
      ],
      "metadata": {
        "id": "BT3Nkvvm4cXZ",
        "outputId": "48a4913f-729f-42a2-c4ba-f48e3c40c260",
        "colab": {
          "base_uri": "https://localhost:8080/"
        }
      },
      "execution_count": null,
      "outputs": [
        {
          "output_type": "stream",
          "name": "stdout",
          "text": [
            "hello\n",
            "end\n",
            "end\n",
            "hello\n",
            "end\n"
          ]
        }
      ]
    },
    {
      "cell_type": "code",
      "source": [
        "class Car:\n",
        "    max_speed = 300\n",
        "    max_people = 5\n",
        "    car_gear = ['P', 'D', 'R', 'N']\n",
        "\n",
        "    def __init__(self, name): # 클래스로 인스턴스를 만들 때 호출!\n",
        "        self.name = name\n",
        "\n",
        "    def start(self):\n",
        "        print('차가 출발합니다!')\n",
        "\n",
        "    def stop(self):\n",
        "        print('차가 멈췄습니다!')\n",
        "\n",
        "modelx = Car('Tesla Model X') # x = int(3) 여기서 넣었던 3이 __init__ 메직메서드에서 처리!\n",
        "modelx.name"
      ],
      "metadata": {
        "colab": {
          "base_uri": "https://localhost:8080/",
          "height": 35
        },
        "id": "96AdA6mCdWBB",
        "outputId": "5a3b7ea3-33aa-4b98-afe9-447a636808d9"
      },
      "execution_count": null,
      "outputs": [
        {
          "output_type": "execute_result",
          "data": {
            "text/plain": [
              "'Tesla Model X'"
            ],
            "application/vnd.google.colaboratory.intrinsic+json": {
              "type": "string"
            }
          },
          "metadata": {},
          "execution_count": 1
        }
      ]
    },
    {
      "cell_type": "code",
      "source": [
        "class Car:\n",
        "    def __init__(self, name, CEO): # 클래스에서 __init__은 붕어빵 틀 중에서 가장 기본 틀!\n",
        "        self.name = name           # self는 인수로 전달받지도 전달하지도 않음 -> Car 클래스 그 자체\n",
        "        self.CEO = CEO             # 위에 꼭 self를 붙여야 self를 사용해서 self.name처럼 사용할 수 있음\n",
        "\n",
        "modelx = Car('Tesla Model X', '일론 머스크') # __init__과 self로 구현된 값은 클래스 할당시 입력자료를 넣을 수 있다.\n",
        "print(modelx.name)                        # 입력을 받을때는 파라미터를 설정해야한다.(name, CEO처럼)\n",
        "print(modelx.CEO)                         # 그러면 modelx처럼 name과 CEO의 데이터를 불러올수 있다."
      ],
      "metadata": {
        "colab": {
          "base_uri": "https://localhost:8080/"
        },
        "id": "72_tpguhfQXA",
        "outputId": "143c8393-c49b-4d4c-8744-1331fc248c74"
      },
      "execution_count": null,
      "outputs": [
        {
          "output_type": "stream",
          "name": "stdout",
          "text": [
            "Tesla Model X\n",
            "일론 머스크\n"
          ]
        }
      ]
    },
    {
      "cell_type": "code",
      "source": [
        "my_dict = {x: 'Even' if x % 2 == 0 else 'Odd' for x in range(10)}\n",
        "print(my_dict)"
      ],
      "metadata": {
        "colab": {
          "base_uri": "https://localhost:8080/"
        },
        "id": "KdcPKtsTv8Jh",
        "outputId": "b7e81416-c840-4312-86b4-d0c370132ac4"
      },
      "execution_count": null,
      "outputs": [
        {
          "output_type": "stream",
          "name": "stdout",
          "text": [
            "{0: 'Even', 1: 'Odd', 2: 'Even', 3: 'Odd', 4: 'Even', 5: 'Odd', 6: 'Even', 7: 'Odd', 8: 'Even', 9: 'Odd'}\n"
          ]
        }
      ]
    },
    {
      "cell_type": "code",
      "source": [
        "text = '1'\n",
        "match text:\n",
        "  case '1' | '2':\n",
        "    print('1, 2')\n",
        "  case _:\n",
        "    print('No Match')"
      ],
      "metadata": {
        "colab": {
          "base_uri": "https://localhost:8080/"
        },
        "id": "XTjqWG4HiVdL",
        "outputId": "4690b1f4-dd6b-441f-ea70-e8a3a9467731"
      },
      "execution_count": null,
      "outputs": [
        {
          "output_type": "stream",
          "name": "stdout",
          "text": [
            "1, 2\n"
          ]
        }
      ]
    },
    {
      "cell_type": "code",
      "source": [
        "def test(status):\n",
        "    match status:\n",
        "        case (1 | 2 | 3) as code:\n",
        "            return f'value : {code}'\n",
        "        case _:\n",
        "            return 'hello'\n",
        "print(test(4))  # 출력: value : 2"
      ],
      "metadata": {
        "colab": {
          "base_uri": "https://localhost:8080/"
        },
        "id": "YTVJhYrypIMw",
        "outputId": "f9f47904-3d6c-4116-e49c-7e672a2cc04d"
      },
      "execution_count": null,
      "outputs": [
        {
          "output_type": "stream",
          "name": "stdout",
          "text": [
            "hello\n"
          ]
        }
      ]
    },
    {
      "cell_type": "code",
      "source": [
        "s = '123'\n",
        "result = 0\n",
        "for i in s:\n",
        "    result += int(i)\n",
        "\n",
        "type(i)"
      ],
      "metadata": {
        "colab": {
          "base_uri": "https://localhost:8080/"
        },
        "id": "N3SXb8kHtg27",
        "outputId": "9b41c9e4-11be-4abb-96f7-3e4aed8ee1b6"
      },
      "execution_count": null,
      "outputs": [
        {
          "output_type": "execute_result",
          "data": {
            "text/plain": [
              "str"
            ]
          },
          "metadata": {},
          "execution_count": 13
        }
      ]
    },
    {
      "cell_type": "code",
      "source": [
        "for i, j, k in ['abc', 'def', 'ghi']:\n",
        "    print(i, j, k)"
      ],
      "metadata": {
        "colab": {
          "base_uri": "https://localhost:8080/"
        },
        "id": "GItH2rNKJNYw",
        "outputId": "a2486e8d-b83b-448a-b84f-cc527b844cdb"
      },
      "execution_count": null,
      "outputs": [
        {
          "output_type": "stream",
          "name": "stdout",
          "text": [
            "a b c\n",
            "d e f\n",
            "g h i\n"
          ]
        }
      ]
    },
    {
      "cell_type": "code",
      "source": [
        "영화누적관객수 = ['레미제라블', '뷰티인사이트', '매트릭스', '인셉션', '어거스트 러쉬']\n",
        "\n",
        "for i in enumerate(영화누적관객수):\n",
        "    print(i)\n",
        "\n",
        "for i, j in enumerate(영화누적관객수, 1):\n",
        "    print(f'누적관객수 {i}위! {j}!')"
      ],
      "metadata": {
        "colab": {
          "base_uri": "https://localhost:8080/"
        },
        "id": "Uzpb8Qgupoqn",
        "outputId": "ec369780-2219-4ba5-a6ef-b7b79cde0162"
      },
      "execution_count": null,
      "outputs": [
        {
          "output_type": "stream",
          "name": "stdout",
          "text": [
            "(0, '레미제라블')\n",
            "(1, '뷰티인사이트')\n",
            "(2, '매트릭스')\n",
            "(3, '인셉션')\n",
            "(4, '어거스트 러쉬')\n",
            "누적관객수 1위! 레미제라블!\n",
            "누적관객수 2위! 뷰티인사이트!\n",
            "누적관객수 3위! 매트릭스!\n",
            "누적관객수 4위! 인셉션!\n",
            "누적관객수 5위! 어거스트 러쉬!\n",
            "(0, '레미제라블')\n",
            "(1, '뷰티인사이트')\n",
            "(2, '매트릭스')\n",
            "(3, '인셉션')\n",
            "(4, '어거스트 러쉬')\n",
            "누적관객수 1위! 레미제라블!\n",
            "누적관객수 2위! 뷰티인사이트!\n",
            "누적관객수 3위! 매트릭스!\n",
            "누적관객수 4위! 인셉션!\n",
            "누적관객수 5위! 어거스트 러쉬!\n"
          ]
        }
      ]
    },
    {
      "cell_type": "code",
      "source": [
        "list(filter(lambda x : x > 50, range(100)))\n",
        "\n",
        "list(filter(lambda))"
      ],
      "metadata": {
        "colab": {
          "base_uri": "https://localhost:8080/"
        },
        "id": "EtLeEqBSgnxJ",
        "outputId": "3365fa07-57f7-43e2-f5fc-2bb310a200ec"
      },
      "execution_count": null,
      "outputs": [
        {
          "output_type": "execute_result",
          "data": {
            "text/plain": [
              "[51,\n",
              " 52,\n",
              " 53,\n",
              " 54,\n",
              " 55,\n",
              " 56,\n",
              " 57,\n",
              " 58,\n",
              " 59,\n",
              " 60,\n",
              " 61,\n",
              " 62,\n",
              " 63,\n",
              " 64,\n",
              " 65,\n",
              " 66,\n",
              " 67,\n",
              " 68,\n",
              " 69,\n",
              " 70,\n",
              " 71,\n",
              " 72,\n",
              " 73,\n",
              " 74,\n",
              " 75,\n",
              " 76,\n",
              " 77,\n",
              " 78,\n",
              " 79,\n",
              " 80,\n",
              " 81,\n",
              " 82,\n",
              " 83,\n",
              " 84,\n",
              " 85,\n",
              " 86,\n",
              " 87,\n",
              " 88,\n",
              " 89,\n",
              " 90,\n",
              " 91,\n",
              " 92,\n",
              " 93,\n",
              " 94,\n",
              " 95,\n",
              " 96,\n",
              " 97,\n",
              " 98,\n",
              " 99]"
            ]
          },
          "metadata": {},
          "execution_count": 2
        }
      ]
    },
    {
      "cell_type": "code",
      "source": [
        "list(zip('ab', '12')) # 출력 : [(a, 1), (b, 2)]"
      ],
      "metadata": {
        "colab": {
          "base_uri": "https://localhost:8080/"
        },
        "id": "2-YM3b_liZJR",
        "outputId": "8a082d37-476b-4921-e5b4-19c0993451cc"
      },
      "execution_count": null,
      "outputs": [
        {
          "output_type": "execute_result",
          "data": {
            "text/plain": [
              "[('a', '1'), ('b', '2')]"
            ]
          },
          "metadata": {},
          "execution_count": 3
        }
      ]
    },
    {
      "cell_type": "code",
      "source": [
        "list(zip('ab', '12', [10, 20]))"
      ],
      "metadata": {
        "colab": {
          "base_uri": "https://localhost:8080/"
        },
        "id": "KCRqB9lsiySh",
        "outputId": "9098e745-21b2-49ac-b1b4-464b2b8902f4"
      },
      "execution_count": null,
      "outputs": [
        {
          "output_type": "execute_result",
          "data": {
            "text/plain": [
              "[('a', '1', 10), ('b', '2', 20)]"
            ]
          },
          "metadata": {},
          "execution_count": 4
        }
      ]
    },
    {
      "cell_type": "code",
      "source": [
        "x = [1, 2, 3]\n",
        "y = [1, 4, 9]\n",
        "\n",
        "list(zip(x, y))"
      ],
      "metadata": {
        "colab": {
          "base_uri": "https://localhost:8080/"
        },
        "id": "kcc1vK9mjdOc",
        "outputId": "6f79251a-e063-48b7-87b6-3ed2dd52f0ca"
      },
      "execution_count": null,
      "outputs": [
        {
          "output_type": "execute_result",
          "data": {
            "text/plain": [
              "[(1, 1), (2, 4), (3, 9)]"
            ]
          },
          "metadata": {},
          "execution_count": 5
        }
      ]
    },
    {
      "cell_type": "code",
      "source": [
        "print(format(123.4567, '.2f')) # 출력: 123.46\n",
        "print(format('Hello', '^9')) # 출력: '  Hello  '"
      ],
      "metadata": {
        "colab": {
          "base_uri": "https://localhost:8080/"
        },
        "id": "Xc0eUQ3wqOua",
        "outputId": "f35bcb61-3bfe-423e-c842-f2e70cf4ca97"
      },
      "execution_count": null,
      "outputs": [
        {
          "output_type": "stream",
          "name": "stdout",
          "text": [
            "123.46\n",
            "  Hello  \n"
          ]
        }
      ]
    },
    {
      "cell_type": "code",
      "source": [
        "import numpy as np\n",
        "\n",
        "np.sum([[1, 2], [3, 101], [1, 20], [3, 100]]) # 출력 : 328"
      ],
      "metadata": {
        "colab": {
          "base_uri": "https://localhost:8080/"
        },
        "id": "CpuQZhxZxqgI",
        "outputId": "46c1028e-fd8a-4a0a-a336-0ff3783bd610"
      },
      "execution_count": null,
      "outputs": [
        {
          "output_type": "execute_result",
          "data": {
            "text/plain": [
              "231"
            ]
          },
          "metadata": {},
          "execution_count": 7
        }
      ]
    },
    {
      "cell_type": "code",
      "source": [
        "values = ['A', 'B', 'C', 'D']\n",
        "print(list(enumerate(values)))\n",
        "print(list(enumerate(values, 1)))\n",
        "print(list(enumerate(values, 100)))\n",
        "\n",
        "print(list(enumerate(values)))\n",
        "print(list(enumerate(values, 1)))"
      ],
      "metadata": {
        "colab": {
          "base_uri": "https://localhost:8080/"
        },
        "id": "Do06GOERzyPK",
        "outputId": "15299e4a-5920-436f-b87d-85b03d606281"
      },
      "execution_count": null,
      "outputs": [
        {
          "output_type": "stream",
          "name": "stdout",
          "text": [
            "[(0, 'A'), (1, 'B'), (2, 'C'), (3, 'D')]\n",
            "[(1, 'A'), (2, 'B'), (3, 'C'), (4, 'D')]\n",
            "[(100, 'A'), (101, 'B'), (102, 'C'), (103, 'D')]\n",
            "[(0, 'A'), (1, 'B'), (2, 'C'), (3, 'D')]\n",
            "[(1, 'A'), (2, 'B'), (3, 'C'), (4, 'D')]\n"
          ]
        }
      ]
    },
    {
      "cell_type": "code",
      "source": [
        "sorted(['21', '21', '12', '22', '53', '15'], key=lambda x:x[-1])"
      ],
      "metadata": {
        "colab": {
          "base_uri": "https://localhost:8080/"
        },
        "id": "ICeHrK7h0p_h",
        "outputId": "3d22b597-658d-48bc-87ec-3c8cd6c2ed49"
      },
      "execution_count": null,
      "outputs": [
        {
          "output_type": "execute_result",
          "data": {
            "text/plain": [
              "['21', '21', '12', '22', '53', '15']"
            ]
          },
          "metadata": {},
          "execution_count": 9
        }
      ]
    },
    {
      "cell_type": "code",
      "source": [
        "s = 'hello'\n",
        "for i in s: # 순회가 정상적으로 됩니다.\n",
        "    s += '!'\n",
        "    print(i)\n",
        "    print(s)"
      ],
      "metadata": {
        "id": "qlWZh7os7eu9"
      },
      "execution_count": null,
      "outputs": []
    },
    {
      "cell_type": "code",
      "source": [
        "d = {'one': '하나'}\n",
        "for i in d: # RuntimeError: dictionary changed size during iteration\n",
        "    d.update({i+d[i]:None})\n",
        "    print(d)"
      ],
      "metadata": {
        "id": "hNvjQ0qH7uB6"
      },
      "execution_count": null,
      "outputs": []
    },
    {
      "cell_type": "code",
      "source": [
        "datetime.datetime.now()"
      ],
      "metadata": {
        "id": "aGphKJzja8bW"
      },
      "execution_count": null,
      "outputs": []
    }
  ]
}