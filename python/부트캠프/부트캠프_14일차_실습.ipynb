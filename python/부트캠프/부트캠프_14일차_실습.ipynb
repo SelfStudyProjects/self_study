{
  "nbformat": 4,
  "nbformat_minor": 0,
  "metadata": {
    "colab": {
      "provenance": []
    },
    "kernelspec": {
      "name": "python3",
      "display_name": "Python 3"
    },
    "language_info": {
      "name": "python"
    }
  },
  "cells": [
    {
      "cell_type": "code",
      "execution_count": 1,
      "metadata": {
        "id": "QAj9ey82dfTH"
      },
      "outputs": [],
      "source": [
        "import time\n",
        "\n",
        "def time_decorator(func):\n",
        "    def wrapper():\n",
        "        start_time = time.time()\n",
        "        result = func()\n",
        "\n",
        "        end_time = time.time()\n",
        "        print(f\"함수가 {end_time - start_time} 초가 걸렸습니다.\")\n",
        "\n",
        "        return result\n",
        "\n",
        "    return wrapper"
      ]
    },
    {
      "cell_type": "code",
      "source": [
        "import time\n",
        "\n",
        "# 데코레이터 함수 정의\n",
        "def time_decorator(func):\n",
        "    def wrapper(*args, **kwargs):\n",
        "        start_time = time.time()\n",
        "        result = func(*args, **kwargs)\n",
        "        end_time = time.time()\n",
        "        print(f\"함수가 {end_time - start_time} 초가 걸렸습니다.\")\n",
        "        return result\n",
        "    return wrapper\n",
        "\n",
        "# 1부터 n까지 더하는 함수\n",
        "@time_decorator\n",
        "def sum_numbers(n):\n",
        "    total = 0\n",
        "    for i in range(1, n + 1):\n",
        "        total += i\n",
        "    return total\n",
        "\n",
        "# 함수 호출 및 실행시간 측정\n",
        "sum_numbers(100)"
      ],
      "metadata": {
        "colab": {
          "base_uri": "https://localhost:8080/"
        },
        "id": "tUDrDYRJgwvx",
        "outputId": "5de76dda-3844-4f8f-a830-81129953db37"
      },
      "execution_count": 2,
      "outputs": [
        {
          "output_type": "stream",
          "name": "stdout",
          "text": [
            "함수가 1.0013580322265625e-05 초가 걸렸습니다.\n"
          ]
        },
        {
          "output_type": "execute_result",
          "data": {
            "text/plain": [
              "5050"
            ]
          },
          "metadata": {},
          "execution_count": 2
        }
      ]
    },
    {
      "cell_type": "code",
      "source": [
        "### **문제 2. 제너레이터 문제**\n",
        "# 0부터 시작하여, 매 호출 시마다 2씩 증가하는 값을 반환하는 제너레이터 함수를 작성하세요. 100이 되면 멈춰야 합니다."
      ],
      "metadata": {
        "id": "iPCyrkTKjln2"
      },
      "execution_count": 3,
      "outputs": []
    },
    {
      "cell_type": "code",
      "source": [
        "def gen():\n",
        "    num = 0\n",
        "    while num <= 100:\n",
        "        yield num\n",
        "        num += 2\n",
        "\n",
        "# 제너레이터 호출하여 값 출력\n",
        "for i in gen():\n",
        "    print(i)"
      ],
      "metadata": {
        "colab": {
          "base_uri": "https://localhost:8080/"
        },
        "id": "DLI4ezPij7Mu",
        "outputId": "79d2d177-e48a-46ba-98e6-6de033d986fd"
      },
      "execution_count": 4,
      "outputs": [
        {
          "output_type": "stream",
          "name": "stdout",
          "text": [
            "0\n",
            "2\n",
            "4\n",
            "6\n",
            "8\n",
            "10\n",
            "12\n",
            "14\n",
            "16\n",
            "18\n",
            "20\n",
            "22\n",
            "24\n",
            "26\n",
            "28\n",
            "30\n",
            "32\n",
            "34\n",
            "36\n",
            "38\n",
            "40\n",
            "42\n",
            "44\n",
            "46\n",
            "48\n",
            "50\n",
            "52\n",
            "54\n",
            "56\n",
            "58\n",
            "60\n",
            "62\n",
            "64\n",
            "66\n",
            "68\n",
            "70\n",
            "72\n",
            "74\n",
            "76\n",
            "78\n",
            "80\n",
            "82\n",
            "84\n",
            "86\n",
            "88\n",
            "90\n",
            "92\n",
            "94\n",
            "96\n",
            "98\n",
            "100\n"
          ]
        }
      ]
    },
    {
      "cell_type": "code",
      "source": [
        "# 문제 3. 예외처리 문제\n",
        "# 사용자로부터 두 개의 숫자를 입력받아 나눗셈을 수행하는 함수를 작성하세요. 이 때 0으로 나눌 때에는 예외처리를 해주세요.\n",
        "\n",
        "def divide(x, y):\n",
        "    try:\n",
        "        result = x / y\n",
        "    except ZeroDivisionError:\n",
        "        print(\"0으로 나눌 수 없습니다. 다른 숫자를 입력해주세요.\")\n",
        "    else:\n",
        "        return int(result)\n",
        "\n",
        "\n",
        "# 사용자로부터 숫자 입력 받기\n",
        "x = float(input(\"첫 번째 숫자를 입력하세요: \"))\n",
        "y = float(input(\"두 번째 숫자를 입력하세요: \"))\n",
        "\n",
        "# divide 함수 호출하여 나눗셈 수행\n",
        "result = divide(x, y)\n",
        "if result is not None:\n",
        "    print(f\"나눗셈 결과: {result}\")"
      ],
      "metadata": {
        "colab": {
          "base_uri": "https://localhost:8080/"
        },
        "id": "zAH_J4xSlrik",
        "outputId": "5d4dcc11-06e9-420b-a6f1-63258ebf2519"
      },
      "execution_count": 7,
      "outputs": [
        {
          "output_type": "stream",
          "name": "stdout",
          "text": [
            "첫 번째 숫자를 입력하세요: 1\n",
            "두 번째 숫자를 입력하세요: 1\n",
            "나눗셈 결과: 1\n"
          ]
        }
      ]
    }
  ]
}