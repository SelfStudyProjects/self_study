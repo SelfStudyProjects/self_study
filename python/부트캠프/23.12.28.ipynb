{
  "nbformat": 4,
  "nbformat_minor": 0,
  "metadata": {
    "colab": {
      "provenance": []
    },
    "kernelspec": {
      "name": "python3",
      "display_name": "Python 3"
    },
    "language_info": {
      "name": "python"
    }
  },
  "cells": [
    {
      "cell_type": "code",
      "source": [
        "print('hello world')"
      ],
      "metadata": {
        "colab": {
          "base_uri": "https://localhost:8080/"
        },
        "id": "TQVGX63WPKYc",
        "outputId": "68f409d0-a8b4-4473-c16d-952a450fb056"
      },
      "execution_count": 1,
      "outputs": [
        {
          "output_type": "stream",
          "name": "stdout",
          "text": [
            "hello world\n"
          ]
        }
      ]
    },
    {
      "cell_type": "code",
      "execution_count": null,
      "metadata": {
        "colab": {
          "base_uri": "https://localhost:8080/"
        },
        "id": "nmPq_oXtJuE4",
        "outputId": "745da9b1-f3d3-468c-d2a4-28d1706159e5"
      },
      "outputs": [
        {
          "output_type": "stream",
          "name": "stdout",
          "text": [
            "나이 30 살\n"
          ]
        }
      ],
      "source": [
        "print(\"나이\", 30, \"살\")"
      ]
    },
    {
      "cell_type": "code",
      "source": [
        "print(\"Hello\", end='')"
      ],
      "metadata": {
        "colab": {
          "base_uri": "https://localhost:8080/"
        },
        "id": "qExkwz60K5uO",
        "outputId": "60526461-0049-4c06-aae2-f05499c86f02"
      },
      "execution_count": null,
      "outputs": [
        {
          "output_type": "stream",
          "name": "stdout",
          "text": [
            "Hello"
          ]
        }
      ]
    },
    {
      "cell_type": "code",
      "source": [
        "name = \"Alice\""
      ],
      "metadata": {
        "id": "vuHrqbm9LAWE"
      },
      "execution_count": null,
      "outputs": []
    },
    {
      "cell_type": "code",
      "source": [
        "age = 30\n",
        "\n",
        "# f-string 사용\n",
        "print(f=\"이름: {name}, 나이: {age}\")"
      ],
      "metadata": {
        "colab": {
          "base_uri": "https://localhost:8080/",
          "height": 219
        },
        "id": "F6MnF-PPLYkr",
        "outputId": "e92540fe-6175-4ce9-8124-15163335a322"
      },
      "execution_count": null,
      "outputs": [
        {
          "output_type": "error",
          "ename": "TypeError",
          "evalue": "ignored",
          "traceback": [
            "\u001b[0;31m---------------------------------------------------------------------------\u001b[0m",
            "\u001b[0;31mTypeError\u001b[0m                                 Traceback (most recent call last)",
            "\u001b[0;32m<ipython-input-7-5a8225f603d6>\u001b[0m in \u001b[0;36m<cell line: 4>\u001b[0;34m()\u001b[0m\n\u001b[1;32m      2\u001b[0m \u001b[0;34m\u001b[0m\u001b[0m\n\u001b[1;32m      3\u001b[0m \u001b[0;31m# f-string 사용\u001b[0m\u001b[0;34m\u001b[0m\u001b[0;34m\u001b[0m\u001b[0m\n\u001b[0;32m----> 4\u001b[0;31m \u001b[0mprint\u001b[0m\u001b[0;34m(\u001b[0m\u001b[0mf\u001b[0m\u001b[0;34m=\u001b[0m\u001b[0;34m\"이름: {name}, 나이: {age}\"\u001b[0m\u001b[0;34m)\u001b[0m\u001b[0;34m\u001b[0m\u001b[0;34m\u001b[0m\u001b[0m\n\u001b[0m",
            "\u001b[0;31mTypeError\u001b[0m: 'f' is an invalid keyword argument for print()"
          ]
        }
      ]
    },
    {
      "cell_type": "code",
      "source": [
        "print(f\"이름: {\"김진환\"}, 나이: {30}\")"
      ],
      "metadata": {
        "colab": {
          "base_uri": "https://localhost:8080/",
          "height": 146
        },
        "id": "Jp-oLJajLjeM",
        "outputId": "0e6c93d9-7c84-43ed-899c-fdfe8353c3f6"
      },
      "execution_count": null,
      "outputs": [
        {
          "output_type": "error",
          "ename": "SyntaxError",
          "evalue": "ignored",
          "traceback": [
            "\u001b[0;36m  File \u001b[0;32m\"<ipython-input-10-1af71e101700>\"\u001b[0;36m, line \u001b[0;32m1\u001b[0m\n\u001b[0;31m    print(f\"이름: {\"김진환\"}, 나이: {30}\")\u001b[0m\n\u001b[0m                  ^\u001b[0m\n\u001b[0;31mSyntaxError\u001b[0m\u001b[0;31m:\u001b[0m f-string: expecting '}'\n"
          ]
        }
      ]
    },
    {
      "cell_type": "code",
      "source": [
        "name = \"Alice\"\n",
        "age = 30\n",
        "\n",
        "print(f\"이름: {name}, 나이: {age}\")"
      ],
      "metadata": {
        "colab": {
          "base_uri": "https://localhost:8080/"
        },
        "id": "Hb7c30HzM8vy",
        "outputId": "7151011c-059b-4e25-9d07-3719aecb899a"
      },
      "execution_count": null,
      "outputs": [
        {
          "output_type": "stream",
          "name": "stdout",
          "text": [
            "이름: Alice, 나이: 30\n"
          ]
        }
      ]
    },
    {
      "cell_type": "code",
      "source": [
        "number = 12.34567\n",
        "\n",
        "# f-string을 사용하여 소수점 둘째 자리까지 표시\n",
        "print(f\"소수점 둘째 자리:\")"
      ],
      "metadata": {
        "colab": {
          "base_uri": "https://localhost:8080/"
        },
        "id": "R4FtptmXNEoK",
        "outputId": "ea26a156-9931-4570-97d5-b42816de0f67"
      },
      "execution_count": null,
      "outputs": [
        {
          "output_type": "stream",
          "name": "stdout",
          "text": [
            "소수점 둘째 자리:\n"
          ]
        }
      ]
    },
    {
      "cell_type": "code",
      "source": [
        "name = \"Alice\"\n",
        "age = 30\n",
        "temperature = 25.5\n",
        "\n",
        "print(\"이름:\", name)\n",
        "print(\"나이:\", age)\n",
        "print(\"온도:\", temperature)\n",
        "\n",
        "print(f\"이름: name\")"
      ],
      "metadata": {
        "colab": {
          "base_uri": "https://localhost:8080/"
        },
        "id": "DPAlZoN4W6dg",
        "outputId": "ca446b9f-e0ff-42f0-f09e-cbea92bc2ce3"
      },
      "execution_count": null,
      "outputs": [
        {
          "output_type": "stream",
          "name": "stdout",
          "text": [
            "이름: Alice\n",
            "나이: 30\n",
            "온도: 25.5\n",
            "이름: name\n"
          ]
        }
      ]
    },
    {
      "cell_type": "code",
      "source": [
        "hobby = \"독서\""
      ],
      "metadata": {
        "id": "Tx0XbO5IXGYD"
      },
      "execution_count": null,
      "outputs": []
    },
    {
      "cell_type": "code",
      "source": [
        "count = 10"
      ],
      "metadata": {
        "id": "gopLN4mXYOAg"
      },
      "execution_count": null,
      "outputs": []
    },
    {
      "cell_type": "code",
      "source": [
        "count = 20"
      ],
      "metadata": {
        "id": "xdtkL_oxY_hd"
      },
      "execution_count": null,
      "outputs": []
    },
    {
      "cell_type": "code",
      "source": [
        "print(count)"
      ],
      "metadata": {
        "colab": {
          "base_uri": "https://localhost:8080/"
        },
        "id": "Q24KU8mKZBG2",
        "outputId": "8391a413-d3f6-46a3-9cfe-5382ac55c931"
      },
      "execution_count": null,
      "outputs": [
        {
          "output_type": "stream",
          "name": "stdout",
          "text": [
            "20\n"
          ]
        }
      ]
    },
    {
      "cell_type": "markdown",
      "source": [
        "1. 변수로 지정된 값은 언제든 변할 수 있다.\n",
        "2. 출력을 주의해야 한다. 변수명을 똑같이 사용하지 않도록 주의"
      ],
      "metadata": {
        "id": "7VnIR2uZZPVE"
      }
    },
    {
      "cell_type": "code",
      "source": [
        "print(type{name})\n",
        "print(type{age})\n",
        "print(type(temperature))\n"
      ],
      "metadata": {
        "id": "6WjiuaxeZzIV"
      },
      "execution_count": null,
      "outputs": []
    }
  ]
}