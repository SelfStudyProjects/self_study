{
  "nbformat": 4,
  "nbformat_minor": 0,
  "metadata": {
    "colab": {
      "provenance": []
    },
    "kernelspec": {
      "name": "python3",
      "display_name": "Python 3"
    },
    "language_info": {
      "name": "python"
    }
  },
  "cells": [
    {
      "cell_type": "code",
      "source": [
        "'''\n",
        "# 문제 1\n",
        "# 1. 다음 숫자 중 5보다 크고, 20보다 작으면서 짝수인 수를 모두 더하는 코드를 완성 해주세요.\n",
        "# 오늘 배운 filter 사용은 필수 입니다.\n",
        "'''\n",
        "\n",
        "number = [1, 5, 7, 4, 3, 22, 23, 15, 26, 17, 3]\n",
        "\n",
        "def solution(data):\n",
        "    result = sum(filter(lambda x: 5 < x < 20 and x % 2 == 0, data))\n",
        "    return result\n",
        "\n",
        "solution(number)"
      ],
      "metadata": {
        "id": "euomT2uCjo7u"
      },
      "execution_count": null,
      "outputs": []
    },
    {
      "cell_type": "code",
      "source": [
        "# 2. 다음에 정보가 담겨져 있는 것을 Class로 만들어주세요.\n",
        "# 메서드로는 '할인' 메서드를 만들어주세요. 예를 들어 아래 책을 10% 할인한다고 하면 4500원이 됩니다.\n",
        "# `책.할인(10) == 4500`의 형태로 만들어주시면 됩니다.\n",
        "\n",
        "class Book:\n",
        "    def __init__(self, title, summary, author, publication_date, price):\n",
        "        self.title = title\n",
        "        self.summary = summary\n",
        "        self.author = author\n",
        "        self.publication_date = publication_date\n",
        "        self.price = price\n",
        "\n",
        "    def discount(self, percentage):\n",
        "        discounted_price = self.price - (self.price * (percentage / 100))\n",
        "        return int(discounted_price)\n",
        "\n",
        "# 책 정보를 가지고 있는 딕셔너리\n",
        "book_info = {\n",
        "    '책제목': 'hello world python',\n",
        "    '책 내용 요약': 'hello world...',\n",
        "    '저자': '이호준',\n",
        "    '발행일': '2024-01-11',\n",
        "    '가격': 5000\n",
        "}\n",
        "\n",
        "# Book 클래스의 인스턴스 생성\n",
        "book = Book(                                      # book 인스턴스 생성\n",
        "    title=book_info['책제목'],                    # book_info 속 정보들을 바탕으로 book 인스턴스 생성\n",
        "    summary=book_info['책 내용 요약'],            # self 속 들어갈 내용은 'book'이다.\n",
        "    author=book_info['저자'],\n",
        "    publication_date=book_info['발행일'],\n",
        "    price=book_info['가격']\n",
        ")\n",
        "\n",
        "# 10% 할인 적용\n",
        "# `책.할인(10) == 4500`의 형태로 만들어주시면 됩니다.\n",
        "discounted_price = book.discount(10)\n",
        "print(f\"책.할인(10) == {discounted_price}\")"
      ],
      "metadata": {
        "colab": {
          "base_uri": "https://localhost:8080/"
        },
        "id": "dsqSAsJRF3b5",
        "outputId": "5e2df331-cd02-4736-e992-b22500248e2d"
      },
      "execution_count": 4,
      "outputs": [
        {
          "output_type": "stream",
          "name": "stdout",
          "text": [
            "책.할인(10) == 4500\n"
          ]
        }
      ]
    },
    {
      "cell_type": "code",
      "source": [],
      "metadata": {
        "id": "XUIrqgifLfOH"
      },
      "execution_count": null,
      "outputs": []
    },
    {
      "cell_type": "code",
      "execution_count": null,
      "metadata": {
        "colab": {
          "base_uri": "https://localhost:8080/"
        },
        "id": "9hLuy6NTaEaH",
        "outputId": "915e6b0b-a909-42af-daf5-6259622574f2"
      },
      "outputs": [
        {
          "output_type": "execute_result",
          "data": {
            "text/plain": [
              "True"
            ]
          },
          "metadata": {},
          "execution_count": 1
        }
      ],
      "source": [
        "sum([[1, 2, 3], [4, 5, 6]], [])\n",
        "\n",
        "[] + [1, 2, 3] == [1, 2, 3]\n",
        "[1, 2, 3] + [4, 5, 6] == [1, 2, 3, 4, 5, 6]"
      ]
    },
    {
      "cell_type": "code",
      "source": [
        "# 전통적인 방법\n",
        "d = {}\n",
        "for i in range(5):\n",
        "    d[i] = i**2\n",
        "\n",
        "# 딕셔너리 컴프리헨션 사용\n",
        "dd = {i: i**2 for i in range(5)}\n",
        "\n",
        "print(dd)"
      ],
      "metadata": {
        "colab": {
          "base_uri": "https://localhost:8080/"
        },
        "id": "iXwMitdKbj29",
        "outputId": "6f2dfb55-c5ef-4463-afb9-0e7125476494"
      },
      "execution_count": null,
      "outputs": [
        {
          "output_type": "stream",
          "name": "stdout",
          "text": [
            "{0: 0, 1: 1, 2: 4, 3: 9, 4: 16}\n"
          ]
        }
      ]
    },
    {
      "cell_type": "code",
      "source": [
        "# 실제 Django에서 사용하는 코드\n",
        "\n",
        "class Notice:\n",
        "    '''\n",
        "    게시물 클래스\n",
        "    '''\n",
        "    def __init__(self, title, contents):\n",
        "        self.title = title\n",
        "        self.contents = contents\n",
        "\n",
        "    def __str__(self):\n",
        "        return self.title\n",
        "\n",
        "    def __repr__(self):\n",
        "        return f'{self.title}, {self.contents}'\n",
        "\n",
        "게시물1 = Notice('파이썬 이렇게 어려운줄 몰랐다!', '내가 알던 파이썬이 아니야....')\n",
        "게시물2 = Notice('Django는 이렇게 재미있을 줄 몰랐다!', '파이썬을 잘 못해서 내가 할 수 있을까 생각이 들었는데...')"
      ],
      "metadata": {
        "id": "7Nlxi4RllObl"
      },
      "execution_count": null,
      "outputs": []
    },
    {
      "cell_type": "code",
      "source": [
        "게시물1"
      ],
      "metadata": {
        "colab": {
          "base_uri": "https://localhost:8080/"
        },
        "id": "5fdgFsVAlQGC",
        "outputId": "c63b0846-4ebf-4296-e78e-8aab69569d85"
      },
      "execution_count": null,
      "outputs": [
        {
          "output_type": "execute_result",
          "data": {
            "text/plain": [
              "파이썬 이렇게 어려운줄 몰랐다!, 내가 알던 파이썬이 아니야...."
            ]
          },
          "metadata": {},
          "execution_count": 5
        }
      ]
    },
    {
      "cell_type": "code",
      "source": [
        "print(게시물1)"
      ],
      "metadata": {
        "colab": {
          "base_uri": "https://localhost:8080/"
        },
        "id": "u0reoe_dlSDR",
        "outputId": "70807833-37a0-44fb-e18e-0dce4d2e5d70"
      },
      "execution_count": null,
      "outputs": [
        {
          "output_type": "stream",
          "name": "stdout",
          "text": [
            "파이썬 이렇게 어려운줄 몰랐다!\n"
          ]
        }
      ]
    },
    {
      "cell_type": "code",
      "source": [
        "repr(게시물1)"
      ],
      "metadata": {
        "colab": {
          "base_uri": "https://localhost:8080/",
          "height": 35
        },
        "id": "GGvwKNmRlVB1",
        "outputId": "217b0d02-96bd-438a-bd69-ba283c50390b"
      },
      "execution_count": null,
      "outputs": [
        {
          "output_type": "execute_result",
          "data": {
            "text/plain": [
              "'파이썬 이렇게 어려운줄 몰랐다!, 내가 알던 파이썬이 아니야....'"
            ],
            "application/vnd.google.colaboratory.intrinsic+json": {
              "type": "string"
            }
          },
          "metadata": {},
          "execution_count": 7
        }
      ]
    },
    {
      "cell_type": "code",
      "source": [
        "values = ['A', 'B', 'C', 'D']\n",
        "print(list(enumerate(values)))\n",
        "print(list(enumerate(values, 1))) # 시작값 넣는 것 많이 사용합니다. 기억해두세요."
      ],
      "metadata": {
        "colab": {
          "base_uri": "https://localhost:8080/"
        },
        "id": "Xir2S2SKlXsR",
        "outputId": "fe44a709-9d9a-4133-fad3-2a456c553bb7"
      },
      "execution_count": null,
      "outputs": [
        {
          "output_type": "stream",
          "name": "stdout",
          "text": [
            "[(0, 'A'), (1, 'B'), (2, 'C'), (3, 'D')]\n",
            "[(1, 'A'), (2, 'B'), (3, 'C'), (4, 'D')]\n"
          ]
        }
      ]
    },
    {
      "cell_type": "code",
      "source": [
        "# 제가 반대하는 이유\n",
        "# 타 언어에 비해서 불편한 점\n",
        "요일 = 3\n",
        "match 요일:\n",
        "    case 0:\n",
        "        print('일요일')\n",
        "    case 1:\n",
        "        print('월요일')\n",
        "    case 2:\n",
        "        print('화요일')\n",
        "    case 3:\n",
        "        print('수요일')\n",
        "    case 4:\n",
        "        print('목요일')\n",
        "    case 5:\n",
        "        print('금요일')\n",
        "    case 6:\n",
        "        print('토요일')"
      ],
      "metadata": {
        "colab": {
          "base_uri": "https://localhost:8080/"
        },
        "id": "bWvzcmcGn5Wv",
        "outputId": "6e393f58-c348-4353-b4e1-70200095edca"
      },
      "execution_count": null,
      "outputs": [
        {
          "output_type": "stream",
          "name": "stdout",
          "text": [
            "수요일\n"
          ]
        }
      ]
    },
    {
      "cell_type": "code",
      "source": [
        "def 요일반환(요일):\n",
        "    return {\n",
        "        0: '일요일',\n",
        "        1: '월요일',\n",
        "        2: '화요일',\n",
        "        3: '수요일',\n",
        "    }.get(요일, '요일없음')\n",
        "\n",
        "요일반환(2)\n",
        "요일반환(100)\n",
        "\n",
        "def 요일반환(요일):\n",
        "  return {\n",
        "      0: '일요일',\n",
        "      1: '월요일',\n",
        "      2: '화요일',\n",
        "      3: '수요일'\n",
        "  }.get(요일, '요일없음')\n",
        "\n",
        "요일반환(4)"
      ],
      "metadata": {
        "colab": {
          "base_uri": "https://localhost:8080/",
          "height": 35
        },
        "id": "ThTP918CpS3C",
        "outputId": "fd7d027d-15f1-4638-e278-e7990bfa8e66"
      },
      "execution_count": null,
      "outputs": [
        {
          "output_type": "execute_result",
          "data": {
            "text/plain": [
              "'요일없음'"
            ],
            "application/vnd.google.colaboratory.intrinsic+json": {
              "type": "string"
            }
          },
          "metadata": {},
          "execution_count": 12
        }
      ]
    },
    {
      "cell_type": "markdown",
      "source": [
        "# class\n",
        "\n",
        "* class 이론을 여러권 + ChatGPT + 유튜브를 보시는 것 보다는\n",
        "* 여러개를 만들어보세요. ChatGPT에게 여러개의 클래스를 추천받고, ChatGPT에게 짜달라고 해서 그것을 타이핑 해보시는 것도 많은 도움이 될겁니다.\n",
        "* 결론: 많은 것을 만들어 보셔야 합니다.\n",
        "* class 클래스이름 => 인스턴스\n",
        "* class Blog => 게시물1, 게시물2, 게시물3...\n",
        "* class Dot => 점1, 점2, 점3...\n",
        "* class Matrix => 행렬1, 행렬2, 행렬3...\n",
        "* class User => 유저1, 유저2, 유저3...\n",
        "* class Cart(장바구니) => Cart1, Cart2, Cart3...\n",
        "* class Commnet(댓글) => 댓글1, 댓글2, 댓글3...\n",
        "* class Character => Licat(주인공), Lion(빌런), Mob1(몬스터)\n",
        "* class Product => 상품1, 상품2, 상품3...\n",
        "* class Class_ => 강의1, 강의2, 강의3...\n",
        "* class Teacher => 강사1, 강사2, 강사3..."
      ],
      "metadata": {
        "id": "z_8ptTfG_Mmi"
      }
    },
    {
      "cell_type": "code",
      "source": [
        "class Car:\n",
        "    kinds = []\n",
        "    speed = 300\n",
        "\n",
        "    def add_kinds(self, name):\n",
        "        self.kinds.append(name)\n",
        "\n",
        "    def change_speed(self, speed):\n",
        "        self.speed = speed\n",
        "\n",
        "modelx = Car()\n",
        "modely = Car()\n",
        "\n",
        "modelx.add_kinds('x')\n",
        "modely.add_kinds('y')\n",
        "\n",
        "Car.speed = 100\n",
        "\n",
        "modelx.change_speed(500)\n",
        "modely.change_speed(250)\n",
        "print(f'modelx.kinds: {modelx.kinds}')\n",
        "print(f'modely.kinds: {modely.kinds}')\n",
        "print(f'modelx.speed: {modelx.speed}')\n",
        "print(f'modely.speed: {modely.speed}')"
      ],
      "metadata": {
        "colab": {
          "base_uri": "https://localhost:8080/"
        },
        "id": "bV6DT9rs_RDV",
        "outputId": "756b9350-aeb6-4042-99c1-c5b1666e9ece"
      },
      "execution_count": null,
      "outputs": [
        {
          "output_type": "stream",
          "name": "stdout",
          "text": [
            "modelx.kinds: ['x', 'y']\n",
            "modely.kinds: ['x', 'y']\n",
            "modelx.speed: 500\n",
            "modely.speed: 250\n"
          ]
        }
      ]
    },
    {
      "cell_type": "code",
      "source": [
        "# 1번\n",
        "# 클래스를 설계하실 때\n",
        "# 첫 번째로 ~\n",
        "# 두 번째로 ~ 인스턴스 고유의 영역\n",
        "\n",
        "class Blog:\n",
        "  def __init__(self):\n",
        "    self.title\n",
        "    self.contents\n",
        "    self.count\n",
        "    self.created_at\n",
        "    self.updated_at\n",
        "    self.author"
      ],
      "metadata": {
        "id": "foPmClJdAAaP"
      },
      "execution_count": null,
      "outputs": []
    },
    {
      "cell_type": "code",
      "source": [
        "# 1번\n",
        "# 클래스를 설계하실 때\n",
        "# 첫 번째로 - 모든 인스턴스에서 공유해야할 변수(클래스 변수)나 메서드 설정\n",
        "# 두 번째로 - 인스턴스 고유의 영역\n",
        "# in_crerate_at(스네이크 표기법) - 파이썬 권고사항\n",
        "# inCreatedAt(카멜 표기법) - 파이썬에서는 잘 사용하지 않습니다.(JavaScript에서는 많이 사용합니다.)\n",
        "# InCreatedAt(파스칼 표기법) - 파이썬 클래스\n",
        "\n",
        "class Post:\n",
        "    def __init__(self, in_title, in_contents, in_count, in_crerate_at, in_updated_at, in_author):\n",
        "        self.title = in_title\n",
        "        self.contents = in_contents\n",
        "        self.count = in_count\n",
        "        self.created_at = in_crerate_at\n",
        "        self.updated_at = in_updated_at\n",
        "        self.author = in_author\n",
        "\n",
        "class Post:\n",
        "  def __init__(self, in_title):\n",
        "    self.title"
      ],
      "metadata": {
        "id": "DGCRYIw7Auyd"
      },
      "execution_count": null,
      "outputs": []
    },
    {
      "cell_type": "code",
      "source": [
        "# 1번\n",
        "# 클래스를 설계하실 때\n",
        "# 첫 번째로 - 모든 인스턴스에서 공유해야할 변수(클래스 변수)나 메서드 설정\n",
        "# 두 번째로 - 인스턴스 고유의 영역\n",
        "# in_crerate_at(스네이크 표기법) - 파이썬 권고사항\n",
        "# inCreatedAt(카멜 표기법) - 파이썬에서는 잘 사용하지 않습니다.(JavaScript에서는 많이 사용합니다.)\n",
        "# InCreatedAt(파스칼 표기법) - 파이썬 클래스\n",
        "\n",
        "class Post:\n",
        "    def __init__(\n",
        "            self,\n",
        "            in_title='',\n",
        "            in_contents='',\n",
        "            in_count=0,\n",
        "            in_crerate_at='',\n",
        "            in_updated_at='',\n",
        "            in_author=''\n",
        "        ):\n",
        "        self.title = in_title\n",
        "        self.contents = in_contents\n",
        "        self.count = in_count\n",
        "        self.created_at = in_crerate_at\n",
        "        self.updated_at = in_updated_at\n",
        "        self.author = in_author\n",
        "\n",
        "    def __add__(self):\n",
        "        pass\n",
        "\n",
        "    def __len__(self):\n",
        "        pass\n",
        "\n",
        "    def update(self):\n",
        "        pass\n",
        "\n",
        "    def delete(self):\n",
        "        pass\n",
        "\n",
        "게시물1 = Post(\n",
        "    '파이썬은 참 깊군요!',\n",
        "    '오늘은 파이썬 클래스를 배웠는데 너무 어렵기도 하고, 신기했습니다.',\n",
        "    0,\n",
        "    '2024-01-11',\n",
        "    '2024-01-11',\n",
        "    '이호준'\n",
        ")\n",
        "\n",
        "print(게시물1)\n",
        "print(게시물1.title)"
      ],
      "metadata": {
        "colab": {
          "base_uri": "https://localhost:8080/"
        },
        "id": "yVl-YsggDYP8",
        "outputId": "b859c871-23a3-4455-f4a6-2d9b02806e5e"
      },
      "execution_count": null,
      "outputs": [
        {
          "output_type": "stream",
          "name": "stdout",
          "text": [
            "<__main__.Post object at 0x7a893bd91450>\n",
            "파이썬은 참 깊군요!\n"
          ]
        }
      ]
    },
    {
      "cell_type": "code",
      "source": [
        "# 1번\n",
        "# 클래스를 설계하실 때\n",
        "# 첫 번째로 - 모든 인스턴스에서 공유해야할 변수(클래스 변수)나 메서드 설정\n",
        "# 두 번째로 - 인스턴스 고유의 영역\n",
        "# in_crerate_at(스네이크 표기법) - 파이썬 권고사항\n",
        "# inCreatedAt(카멜 표기법) - 파이썬에서는 잘 사용하지 않습니다.(JavaScript에서는 많이 사용합니다.)\n",
        "# InCreatedAt(파스칼 표기법) - 파이썬 클래스\n",
        "\n",
        "class Post:\n",
        "    def __init__(\n",
        "            self,\n",
        "            in_title='',\n",
        "            in_contents='',\n",
        "            in_count=0,\n",
        "            in_crerate_at='',\n",
        "            in_updated_at='',\n",
        "            in_author=''\n",
        "        ):\n",
        "        self.title = in_title\n",
        "        self.contents = in_contents\n",
        "        self.count = in_count\n",
        "        self.created_at = in_crerate_at\n",
        "        self.updated_at = in_updated_at\n",
        "        self.author = in_author\n",
        "\n",
        "    def __str__(self):\n",
        "        return self.title\n",
        "\n",
        "    def __repr__(self):\n",
        "        return self.title\n",
        "\n",
        "    def __add__(self, next):\n",
        "        return self.title + next.title # self는 게시물1, next는 게시물2를 의미\n",
        "\n",
        "    def __len__(self):\n",
        "        pass\n",
        "\n",
        "    def update(self):\n",
        "        pass\n",
        "\n",
        "    def delete(self):\n",
        "        pass\n",
        "\n",
        "# in_title='',\n",
        "# in_contents='',\n",
        "# in_count=0,\n",
        "# in_crerate_at='',\n",
        "# in_updated_at='',\n",
        "# in_author=''\n",
        "\n",
        "게시물1 = Post(\n",
        "    '파이썬은 참 깊군요!',\n",
        "    '오늘은 파이썬 클래스를 배웠는데 너무 어렵기도 하고, 신기했습니다.',\n",
        "    0,\n",
        "    '2024-01-11',\n",
        "    '2024-01-11',\n",
        "    '이호준'\n",
        ")\n",
        "\n",
        "게시물2 = Post('2', '22', 0, '2024-01-11', '2024-01-11', '이호준')\n",
        "\n",
        "print(게시물1)\n",
        "print(게시물1.title)\n",
        "print(게시물1 + 게시물2) # +연산이 나오면 앞(게시물 1)의 __add__가 실행됩니다."
      ],
      "metadata": {
        "colab": {
          "base_uri": "https://localhost:8080/"
        },
        "id": "lFJFYoTSEuCx",
        "outputId": "a97b0e05-1969-4ecc-9054-89c78938b226"
      },
      "execution_count": null,
      "outputs": [
        {
          "output_type": "stream",
          "name": "stdout",
          "text": [
            "파이썬은 참 깊군요!\n",
            "파이썬은 참 깊군요!\n",
            "파이썬은 참 깊군요!2\n"
          ]
        }
      ]
    },
    {
      "cell_type": "code",
      "source": [
        "i = [10, 20, 30]\n",
        "len(dir(1))"
      ],
      "metadata": {
        "colab": {
          "base_uri": "https://localhost:8080/"
        },
        "id": "Z46BpyfHISyQ",
        "outputId": "9f304e97-a748-4503-bb31-6719d0ea6cdb"
      },
      "execution_count": null,
      "outputs": [
        {
          "output_type": "execute_result",
          "data": {
            "text/plain": [
              "72"
            ]
          },
          "metadata": {},
          "execution_count": 33
        }
      ]
    },
    {
      "cell_type": "code",
      "source": [
        "# 1번\n",
        "# 클래스를 설계하실 때\n",
        "# 첫 번째로 - 모든 인스턴스에서 공유해야할 변수(클래스 변수)나 메서드 설정\n",
        "# 두 번째로 - 인스턴스 고유의 영역\n",
        "# in_crerate_at(스네이크 표기법) - 파이썬 권고사항\n",
        "# inCreatedAt(카멜 표기법) - 파이썬에서는 잘 사용하지 않습니다.(JavaScript에서는 많이 사용합니다.)\n",
        "# InCreatedAt(파스칼 표기법) - 파이썬 클래스\n",
        "\n",
        "class Post:\n",
        "    def __init__(\n",
        "            self,\n",
        "            in_title='',\n",
        "            in_contents='',\n",
        "            in_count=0,\n",
        "            in_crerate_at='',\n",
        "            in_updated_at='',\n",
        "            in_author=''\n",
        "        ):\n",
        "        self.title = in_title\n",
        "        self.contents = in_contents\n",
        "        self.count = in_count\n",
        "        self.created_at = in_crerate_at\n",
        "        self.updated_at = in_updated_at\n",
        "        self.author = in_author\n",
        "\n",
        "    def __str__(self):\n",
        "        return self.title\n",
        "\n",
        "    def __repr__(self):\n",
        "        return self.title\n",
        "\n",
        "    def __add__(self, next):\n",
        "        # return self.count + next.count\n",
        "        return self.title + next.title\n",
        "\n",
        "    def __eq__(self, next):\n",
        "        return self.title == next.title\n",
        "\n",
        "    def update(self, in_contents):\n",
        "        '''\n",
        "        in_ 실무에서 사용하는 접두사가 아닙니다!\n",
        "        여러분에 이해를 돕기 위한 변수명입니다.\n",
        "        '''\n",
        "        self.contents = in_contents\n",
        "        return '게시물 수정에 성공했습니다! 200'\n",
        "\n",
        "게시물1 = Post(\n",
        "    '파이썬은 참 깊군요!',\n",
        "    '오늘은 파이썬 클래스를 배웠는데 너무 어렵기도 하고, 신기했습니다.',\n",
        "    0,\n",
        "    '2024-01-11',\n",
        "    '2024-01-11',\n",
        "    '이호준'\n",
        ")\n",
        "\n",
        "게시물2 = Post('2', '22', 0, '2024-01-11', '2024-01-11', '이호준')\n",
        "\n",
        "print(게시물1)\n",
        "print(게시물1.title)\n",
        "print(게시물1 + 게시물2) # +연산이 나오면 앞(게시물 1)의 __add__가 실행됩니다.\n",
        "게시물1.update('hello world')\n",
        "print(게시물1.contents)\n",
        "\n",
        "# 이해하지 않으셔도 됩니다.\n",
        "게시물1 == 게시물2 # 이 코드는 이제 title만 비교하는 코드가 되었습니다!"
      ],
      "metadata": {
        "colab": {
          "base_uri": "https://localhost:8080/"
        },
        "id": "vUc6fO2ONcIF",
        "outputId": "806411d6-6344-4ce6-83f8-0350b9defe64"
      },
      "execution_count": null,
      "outputs": [
        {
          "output_type": "stream",
          "name": "stdout",
          "text": [
            "파이썬은 참 깊군요!\n",
            "파이썬은 참 깊군요!\n",
            "파이썬은 참 깊군요!2\n",
            "hello world\n"
          ]
        },
        {
          "output_type": "execute_result",
          "data": {
            "text/plain": [
              "False"
            ]
          },
          "metadata": {},
          "execution_count": 35
        }
      ]
    },
    {
      "cell_type": "code",
      "source": [
        "class Dot:\n",
        "  def __init__(self, x, y):\n",
        "    self.x = x\n",
        "    self.y = y\n",
        "\n",
        "  def __add__(self, next):\n",
        "      return (self.x + next.x, self.y + next.y)\n",
        "\n",
        "  def __mul__(self, next):\n",
        "      return (self.x * next.x, self.y * next.y)\n",
        "\n",
        "  def distance(self, next):\n",
        "      dx = self.x - next.x\n",
        "      dy = self.y - next.y\n",
        "      return (dx**2 + dy**2) ** 0.5 # root은 ** 0.5로 많이 사용합니다.\n",
        "\n",
        "dot1 = Dot(20, 10)\n",
        "dot2 = Dot(30, 5)\n",
        "\n",
        "print(dot1 + dot2)\n",
        "print(dot1 * dot2)\n",
        "dot1.distance(dot2)"
      ],
      "metadata": {
        "colab": {
          "base_uri": "https://localhost:8080/"
        },
        "id": "6TrJ4QOINycF",
        "outputId": "236fc0c9-014a-4d69-a149-b27a43e93d23"
      },
      "execution_count": null,
      "outputs": [
        {
          "output_type": "stream",
          "name": "stdout",
          "text": [
            "(50, 15)\n",
            "(600, 50)\n"
          ]
        },
        {
          "output_type": "execute_result",
          "data": {
            "text/plain": [
              "11.180339887498949"
            ]
          },
          "metadata": {},
          "execution_count": 39
        }
      ]
    },
    {
      "cell_type": "code",
      "source": [
        "class Character:\n",
        "  def __init__(self, name, skill, hp, mp, power, x):\n",
        "    self.name = name\n",
        "    self.skill = skill\n",
        "    self.hp = hp\n",
        "    self.mp = mp\n",
        "    self.power = power\n",
        "    self.x = x\n",
        "\n",
        "  def move(self):\n",
        "    self.x += 100\n",
        "\n",
        "  def attact(self, next):\n",
        "    next.hp -= self.power\n",
        "\n",
        "\n",
        "\n",
        "주인공1 = Character('licat', '질풍검', 100, 100, 10, 10)\n",
        "몹1 = Character('licat', '질풍검', 100, 100, 10, 10)\n",
        "\n",
        "주인공1.attact(몹1)\n",
        "몹1.hp"
      ],
      "metadata": {
        "colab": {
          "base_uri": "https://localhost:8080/"
        },
        "id": "K--WRIeMObmk",
        "outputId": "252e6378-80ad-482f-b561-7be22a8c810b"
      },
      "execution_count": null,
      "outputs": [
        {
          "output_type": "execute_result",
          "data": {
            "text/plain": [
              "90"
            ]
          },
          "metadata": {},
          "execution_count": 41
        }
      ]
    },
    {
      "cell_type": "code",
      "source": [
        "even_squares = {x: x**2 for x in range(10) if x % 2 == 0}\n",
        "print(even_squares)"
      ],
      "metadata": {
        "colab": {
          "base_uri": "https://localhost:8080/"
        },
        "id": "ZqRcH0Fzggh0",
        "outputId": "b6027ce2-18bd-410b-fe8c-0f3c4acbe4bc"
      },
      "execution_count": null,
      "outputs": [
        {
          "output_type": "stream",
          "name": "stdout",
          "text": [
            "{0: 0, 2: 4, 4: 16, 6: 36, 8: 64}\n"
          ]
        }
      ]
    }
  ]
}