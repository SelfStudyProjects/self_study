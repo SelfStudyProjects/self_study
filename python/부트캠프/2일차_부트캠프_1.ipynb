{
  "nbformat": 4,
  "nbformat_minor": 0,
  "metadata": {
    "colab": {
      "provenance": []
    },
    "kernelspec": {
      "name": "python3",
      "display_name": "Python 3"
    },
    "language_info": {
      "name": "python"
    }
  },
  "cells": [
    {
      "cell_type": "code",
      "execution_count": 1,
      "metadata": {
        "colab": {
          "base_uri": "https://localhost:8080/"
        },
        "id": "3iZUTTXeef7o",
        "outputId": "5006ad08-50bf-40e5-9520-307098e3a0a3"
      },
      "outputs": [
        {
          "output_type": "stream",
          "name": "stdout",
          "text": [
            "숫자를 입력하세요: 5\n",
            "5은(는) 소수입니다.\n"
          ]
        }
      ],
      "source": [
        "def is_prime(number):\n",
        "    if number <= 1:\n",
        "        return False\n",
        "    for i in range(2, int(number**0.5) + 1):\n",
        "        if number % i == 0:\n",
        "            return False\n",
        "    return True\n",
        "\n",
        "num = int(input(\"숫자를 입력하세요: \"))\n",
        "if is_prime(num):\n",
        "    print(f\"{num}은(는) 소수입니다.\")\n",
        "else:\n",
        "    print(f\"{num}은(는) 소수가 아닙니다.\")"
      ]
    },
    {
      "cell_type": "code",
      "source": [
        "print('허허')\n",
        "'출력합니다.'"
      ],
      "metadata": {
        "colab": {
          "base_uri": "https://localhost:8080/",
          "height": 54
        },
        "id": "rU2OLbMhmzDI",
        "outputId": "a9654aa5-8170-48f1-e878-ccc91dbfc6b5"
      },
      "execution_count": 3,
      "outputs": [
        {
          "output_type": "stream",
          "name": "stdout",
          "text": [
            "허허\n"
          ]
        },
        {
          "output_type": "execute_result",
          "data": {
            "text/plain": [
              "'출력합니다.'"
            ],
            "application/vnd.google.colaboratory.intrinsic+json": {
              "type": "string"
            }
          },
          "metadata": {},
          "execution_count": 3
        }
      ]
    },
    {
      "cell_type": "code",
      "source": [
        "print(\"010\", \"0000\", \"0000\", sep=\"@\")"
      ],
      "metadata": {
        "colab": {
          "base_uri": "https://localhost:8080/"
        },
        "id": "pKIpsd12nPB8",
        "outputId": "c877e658-e8b0-4704-8d20-9d0641326b55"
      },
      "execution_count": 4,
      "outputs": [
        {
          "output_type": "stream",
          "name": "stdout",
          "text": [
            "010@0000@0000\n"
          ]
        }
      ]
    },
    {
      "cell_type": "code",
      "source": [
        "print(\"010\", \"0000\", \"0000\", sep=\"-\", \\\n",
        "      end = '\\n')\n",
        "print(\"010\", \"0000\", \"0000\", sep=\"!\")"
      ],
      "metadata": {
        "colab": {
          "base_uri": "https://localhost:8080/"
        },
        "id": "lUMNr6rEnX5t",
        "outputId": "faa673c8-13e6-40df-d66d-bdb155b8ca49"
      },
      "execution_count": 10,
      "outputs": [
        {
          "output_type": "stream",
          "name": "stdout",
          "text": [
            "010-0000-0000\n",
            "010!0000!0000\n"
          ]
        }
      ]
    },
    {
      "cell_type": "code",
      "source": [
        "class Character:\n",
        "    def __str__(self):\n",
        "        return 'a'\n",
        "\n",
        "    def __repr__(self):\n",
        "        return 'b'\n",
        "\n",
        "hero = Character()\n",
        "print(hero)"
      ],
      "metadata": {
        "colab": {
          "base_uri": "https://localhost:8080/"
        },
        "id": "1oP8ofqcnwGL",
        "outputId": "f64ac249-797b-484a-c2f6-b39ba21880e4"
      },
      "execution_count": 15,
      "outputs": [
        {
          "output_type": "stream",
          "name": "stdout",
          "text": [
            "a\n"
          ]
        }
      ]
    },
    {
      "cell_type": "code",
      "source": [
        "def f():\n",
        "    return None\n",
        "\n",
        "print(f())"
      ],
      "metadata": {
        "colab": {
          "base_uri": "https://localhost:8080/"
        },
        "id": "BGYu2Kz6pFPB",
        "outputId": "f71c8bae-772f-45a4-a29b-9e8ed2bfcb43"
      },
      "execution_count": 18,
      "outputs": [
        {
          "output_type": "stream",
          "name": "stdout",
          "text": [
            "None\n"
          ]
        }
      ]
    },
    {
      "cell_type": "code",
      "source": [
        "import random\n",
        "\n",
        "while (x := random.randint(0, 10)) != 7:\n",
        "    print(x)"
      ],
      "metadata": {
        "colab": {
          "base_uri": "https://localhost:8080/"
        },
        "id": "vg5fd_4s35Tw",
        "outputId": "6aedd764-2720-4e64-edc3-5b7f731a1da1"
      },
      "execution_count": 23,
      "outputs": [
        {
          "output_type": "stream",
          "name": "stdout",
          "text": [
            "5\n",
            "6\n",
            "2\n",
            "0\n",
            "2\n",
            "5\n",
            "9\n",
            "1\n",
            "9\n",
            "9\n",
            "9\n",
            "6\n",
            "3\n",
            "8\n"
          ]
        }
      ]
    }
  ]
}