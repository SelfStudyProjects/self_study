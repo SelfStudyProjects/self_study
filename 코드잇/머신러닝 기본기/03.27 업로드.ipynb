{
  "nbformat": 4,
  "nbformat_minor": 0,
  "metadata": {
    "colab": {
      "provenance": []
    },
    "kernelspec": {
      "name": "python3",
      "display_name": "Python 3"
    },
    "language_info": {
      "name": "python"
    }
  },
  "cells": [
    {
      "cell_type": "code",
      "source": [
        "import numpy as np"
      ],
      "metadata": {
        "id": "JGGjQC5pZVYI"
      },
      "execution_count": 1,
      "outputs": []
    },
    {
      "cell_type": "code",
      "source": [
        "A = np.array([\n",
        "    [1, -1, 2],\n",
        "    [3, 2, 2],\n",
        "    [4, 1, 2]\n",
        "])"
      ],
      "metadata": {
        "id": "5tKveN2RZdru"
      },
      "execution_count": 3,
      "outputs": []
    },
    {
      "cell_type": "code",
      "source": [
        "A"
      ],
      "metadata": {
        "colab": {
          "base_uri": "https://localhost:8080/"
        },
        "id": "__-demjiZuOO",
        "outputId": "d74fae9d-0f6b-4149-e4ed-2b3c6625993c"
      },
      "execution_count": 4,
      "outputs": [
        {
          "output_type": "execute_result",
          "data": {
            "text/plain": [
              "array([[ 1, -1,  2],\n",
              "       [ 3,  2,  2],\n",
              "       [ 4,  1,  2]])"
            ]
          },
          "metadata": {},
          "execution_count": 4
        }
      ]
    },
    {
      "cell_type": "code",
      "source": [
        "np.transpose(A)"
      ],
      "metadata": {
        "colab": {
          "base_uri": "https://localhost:8080/"
        },
        "id": "ogJdbHV-ZwIB",
        "outputId": "8ac0974d-4456-4035-d711-28dd04f4c92d"
      },
      "execution_count": 5,
      "outputs": [
        {
          "output_type": "execute_result",
          "data": {
            "text/plain": [
              "array([[ 1,  3,  4],\n",
              "       [-1,  2,  1],\n",
              "       [ 2,  2,  2]])"
            ]
          },
          "metadata": {},
          "execution_count": 5
        }
      ]
    },
    {
      "cell_type": "code",
      "source": [
        "I = np.identity(3)\n",
        "I"
      ],
      "metadata": {
        "colab": {
          "base_uri": "https://localhost:8080/"
        },
        "id": "HR_El3SGZ1uD",
        "outputId": "75d36aaa-5b36-4197-d4eb-83dc440b35a3"
      },
      "execution_count": 8,
      "outputs": [
        {
          "output_type": "execute_result",
          "data": {
            "text/plain": [
              "array([[1., 0., 0.],\n",
              "       [0., 1., 0.],\n",
              "       [0., 0., 1.]])"
            ]
          },
          "metadata": {},
          "execution_count": 8
        }
      ]
    },
    {
      "cell_type": "code",
      "source": [
        "A @ I"
      ],
      "metadata": {
        "colab": {
          "base_uri": "https://localhost:8080/"
        },
        "id": "dzRCkZhqawmP",
        "outputId": "11a4ba9f-6ec0-44ad-c1d0-62fe311f3db8"
      },
      "execution_count": 9,
      "outputs": [
        {
          "output_type": "execute_result",
          "data": {
            "text/plain": [
              "array([[ 1., -1.,  2.],\n",
              "       [ 3.,  2.,  2.],\n",
              "       [ 4.,  1.,  2.]])"
            ]
          },
          "metadata": {},
          "execution_count": 9
        }
      ]
    },
    {
      "cell_type": "markdown",
      "source": [],
      "metadata": {
        "id": "FeAAlVaZbR-F"
      }
    },
    {
      "cell_type": "code",
      "source": [
        "A_inverse = np.linalg.pinv(A)\n",
        "A_inverse"
      ],
      "metadata": {
        "colab": {
          "base_uri": "https://localhost:8080/"
        },
        "id": "0pGit2qJa0wg",
        "outputId": "dbae27bb-4af8-4e9d-b88b-2c66f252d85f"
      },
      "execution_count": 11,
      "outputs": [
        {
          "output_type": "execute_result",
          "data": {
            "text/plain": [
              "array([[-0.2, -0.4,  0.6],\n",
              "       [-0.2,  0.6, -0.4],\n",
              "       [ 0.5,  0.5, -0.5]])"
            ]
          },
          "metadata": {},
          "execution_count": 11
        }
      ]
    },
    {
      "cell_type": "code",
      "source": [
        "A @ A_inverse"
      ],
      "metadata": {
        "colab": {
          "base_uri": "https://localhost:8080/"
        },
        "id": "eflUfleGbhjp",
        "outputId": "c1aedff1-d703-49d2-cf17-60151e196cbf"
      },
      "execution_count": 12,
      "outputs": [
        {
          "output_type": "execute_result",
          "data": {
            "text/plain": [
              "array([[ 1.00000000e+00,  5.55111512e-16, -8.88178420e-16],\n",
              "       [ 0.00000000e+00,  1.00000000e+00, -8.88178420e-16],\n",
              "       [ 0.00000000e+00,  3.33066907e-16,  1.00000000e+00]])"
            ]
          },
          "metadata": {},
          "execution_count": 12
        }
      ]
    }
  ]
}