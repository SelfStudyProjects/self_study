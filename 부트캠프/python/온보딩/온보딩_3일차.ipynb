{
  "nbformat": 4,
  "nbformat_minor": 0,
  "metadata": {
    "colab": {
      "provenance": []
    },
    "kernelspec": {
      "name": "python3",
      "display_name": "Python 3"
    },
    "language_info": {
      "name": "python"
    }
  },
  "cells": [
    {
      "cell_type": "code",
      "execution_count": 5,
      "metadata": {
        "colab": {
          "base_uri": "https://localhost:8080/"
        },
        "id": "isb6qPOEgcM5",
        "outputId": "2eec75e0-fd6f-4137-f6ac-f8fc4ab57930"
      },
      "outputs": [
        {
          "output_type": "stream",
          "name": "stdout",
          "text": [
            "힝 속았지?\n"
          ]
        }
      ],
      "source": [
        "greeting = [\"Hello everyone\"]\n",
        "\n",
        "if \"Hello\" in greeting:\n",
        "  print(\"인사말이 포함되어 있습니다.\")\n",
        "else :\n",
        "  print('힝 속았지?')"
      ]
    },
    {
      "cell_type": "code",
      "source": [
        "num = 15\n",
        "if num > 10:\n",
        "    if num % 2 == 0:\n",
        "        print(\"10보다 큰 짝수입니다.\")\n",
        "    else:\n",
        "        print(\"10보다 큰 홀수입니다.\")"
      ],
      "metadata": {
        "colab": {
          "base_uri": "https://localhost:8080/"
        },
        "id": "CDLP5SWVvKxk",
        "outputId": "aa40529c-06f8-4ff6-e3c2-63ab14508e97"
      },
      "execution_count": 6,
      "outputs": [
        {
          "output_type": "stream",
          "name": "stdout",
          "text": [
            "10보다 큰 홀수입니다.\n"
          ]
        }
      ]
    },
    {
      "cell_type": "code",
      "source": [
        "is_raining = False\n",
        "if not is_raining:\n",
        "    print(\"우산을 가져갈 필요가 없습니다.\")"
      ],
      "metadata": {
        "colab": {
          "base_uri": "https://localhost:8080/"
        },
        "id": "nj6u7fqb4CuY",
        "outputId": "e74d04c4-1ef3-48bd-d0a0-250c5b0c2da0"
      },
      "execution_count": 8,
      "outputs": [
        {
          "output_type": "stream",
          "name": "stdout",
          "text": [
            "우산을 가져갈 필요가 없습니다.\n"
          ]
        }
      ]
    },
    {
      "cell_type": "code",
      "source": [
        "for i in range(5):  # range(5)는 0부터 4까지의 숫자를 생성합니다.\n",
        "  print(i)"
      ],
      "metadata": {
        "colab": {
          "base_uri": "https://localhost:8080/"
        },
        "id": "ugZoqwXHHnuH",
        "outputId": "c1200996-cc08-4609-8388-c3774e7eaa5d"
      },
      "execution_count": 9,
      "outputs": [
        {
          "output_type": "stream",
          "name": "stdout",
          "text": [
            "0\n",
            "1\n",
            "2\n",
            "3\n",
            "4\n"
          ]
        }
      ]
    },
    {
      "cell_type": "code",
      "source": [
        "count = 0\n",
        "while count < 5:\n",
        "    print(count)\n",
        "    count += 1  # count를 1씩 증가"
      ],
      "metadata": {
        "id": "ITeo1IqrH0WO"
      },
      "execution_count": null,
      "outputs": []
    },
    {
      "cell_type": "code",
      "source": [
        "count = 0\n",
        "while count < 5:\n",
        "    print(count)\n",
        "    count += 1  # count를 1씩 증가"
      ],
      "metadata": {
        "colab": {
          "base_uri": "https://localhost:8080/"
        },
        "id": "FW_UV8GPLURA",
        "outputId": "040b9772-9922-4a8e-a3d8-a282f4f96f4a"
      },
      "execution_count": 10,
      "outputs": [
        {
          "output_type": "stream",
          "name": "stdout",
          "text": [
            "0\n",
            "1\n",
            "2\n",
            "3\n",
            "4\n"
          ]
        }
      ]
    },
    {
      "cell_type": "code",
      "source": [
        "'''\n",
        "- products 리스트에 [\"텔레비전\", \"컴퓨터\", \"프린터\", \"모니터\"]\n",
        "- 해당 리스트에 속한 요소들을 모두 출력할 것\n",
        "- for 반복문을 통해 해당 과정을 시행할 것\n",
        "'''\n",
        "\n",
        "products = [\"텔레비전\", \"컴퓨터\", \"프린터\", \"모니터\"]\n",
        "for product in products :\n",
        "  print(product)"
      ],
      "metadata": {
        "colab": {
          "base_uri": "https://localhost:8080/"
        },
        "id": "-jXHAzvILZRH",
        "outputId": "3db03889-ea25-4e02-94bd-6a4db9fa4dfc"
      },
      "execution_count": 14,
      "outputs": [
        {
          "output_type": "stream",
          "name": "stdout",
          "text": [
            "텔레비전\n",
            "컴퓨터\n",
            "프린터\n",
            "모니터\n"
          ]
        }
      ]
    },
    {
      "cell_type": "code",
      "source": [
        "age_groups = [15, 25, 35, 45, 55]\n",
        "for age in age_groups:\n",
        "    if age < 20:\n",
        "        discount = 10\n",
        "    elif age < 40:\n",
        "        discount = 5\n",
        "    else:\n",
        "        discount = 2\n",
        "    print(f\"나이: {age}, 할인율: {discount}%\")"
      ],
      "metadata": {
        "colab": {
          "base_uri": "https://localhost:8080/"
        },
        "id": "3uUUW_JoLgX3",
        "outputId": "76c31dab-7ff5-4a20-d092-2f3374fd1025"
      },
      "execution_count": 12,
      "outputs": [
        {
          "output_type": "stream",
          "name": "stdout",
          "text": [
            "나이: 15, 할인율: 10%\n",
            "나이: 25, 할인율: 5%\n",
            "나이: 35, 할인율: 5%\n",
            "나이: 45, 할인율: 2%\n",
            "나이: 55, 할인율: 2%\n"
          ]
        }
      ]
    },
    {
      "cell_type": "code",
      "source": [
        "password = \"\"\n",
        "attempt_count = 0\n",
        "while password != \"secret\" and attempt_count < 3:\n",
        "    password = input(\"비밀번호를 입력하세요: \")\n",
        "    attempt_count += 1\n",
        "\n",
        "print(password)"
      ],
      "metadata": {
        "colab": {
          "base_uri": "https://localhost:8080/"
        },
        "id": "QHVWTvyvXI2J",
        "outputId": "345f2beb-e8d9-4b5c-ec44-2bc317773fce"
      },
      "execution_count": 17,
      "outputs": [
        {
          "output_type": "stream",
          "name": "stdout",
          "text": [
            "비밀번호를 입력하세요: 앙 기모띠\n",
            "비밀번호를 입력하세요: 앙 기모띠\n",
            "비밀번호를 입력하세요: 앙앙\n",
            "앙앙\n"
          ]
        }
      ]
    },
    {
      "cell_type": "code",
      "source": [
        "def add(a, b):\n",
        "  return a + b\n",
        "\n",
        "result = add(3, 5)\n",
        "print(result)"
      ],
      "metadata": {
        "colab": {
          "base_uri": "https://localhost:8080/"
        },
        "id": "vMPc7QCCyViW",
        "outputId": "feba1f1d-61d0-40fd-9215-6f28da49c85c"
      },
      "execution_count": 18,
      "outputs": [
        {
          "output_type": "stream",
          "name": "stdout",
          "text": [
            "8\n"
          ]
        }
      ]
    },
    {
      "cell_type": "code",
      "source": [
        "def greet(name):\n",
        "  return f\"안녕하세요, {name}님!\"\n",
        "\n",
        "greeting_message = greet('철수')\n",
        "print(greeting_message)"
      ],
      "metadata": {
        "colab": {
          "base_uri": "https://localhost:8080/"
        },
        "id": "tkSkE3Gxycsr",
        "outputId": "793f5759-844f-4bdd-cab1-b4174b77ba73"
      },
      "execution_count": 21,
      "outputs": [
        {
          "output_type": "stream",
          "name": "stdout",
          "text": [
            "안녕하세요, 철수님!\n"
          ]
        }
      ]
    },
    {
      "cell_type": "code",
      "source": [
        "def sum_list(numbers):\n",
        "    total = 0\n",
        "    for number in numbers:\n",
        "        total += number\n",
        "    return total"
      ],
      "metadata": {
        "id": "olQwilQLzShR"
      },
      "execution_count": null,
      "outputs": []
    },
    {
      "cell_type": "code",
      "source": [
        "def is_adult(age):\n",
        "    if age >= 18:\n",
        "        return True\n",
        "    else:\n",
        "        return False\n",
        "\n",
        "adult_check = is_adult(20)\n",
        "print(adult_check)  # True\n",
        "\n",
        "def is_adult(age):\n",
        "  if age >= 18:\n",
        "    return True"
      ],
      "metadata": {
        "id": "yAELuY7Qzuhk"
      },
      "execution_count": null,
      "outputs": []
    },
    {
      "cell_type": "code",
      "source": [
        "fruits = [\"apple\", \"cherry\"]\n",
        "index = fruits.index('banana') if 'banana' in fruits else -1\n",
        "print(index)"
      ],
      "metadata": {
        "colab": {
          "base_uri": "https://localhost:8080/"
        },
        "id": "O68_7xFazxkX",
        "outputId": "67c01765-19a3-4806-f917-b2235f1c3eda"
      },
      "execution_count": 25,
      "outputs": [
        {
          "output_type": "stream",
          "name": "stdout",
          "text": [
            "-1\n"
          ]
        }
      ]
    }
  ]
}