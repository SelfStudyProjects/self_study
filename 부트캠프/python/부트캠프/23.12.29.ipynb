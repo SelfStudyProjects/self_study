{
  "nbformat": 4,
  "nbformat_minor": 0,
  "metadata": {
    "colab": {
      "provenance": []
    },
    "kernelspec": {
      "name": "python3",
      "display_name": "Python 3"
    },
    "language_info": {
      "name": "python"
    }
  },
  "cells": [
    {
      "cell_type": "code",
      "source": [
        "print('Hello World')"
      ],
      "metadata": {
        "colab": {
          "base_uri": "https://localhost:8080/"
        },
        "id": "Gp3DXmW-9LEi",
        "outputId": "7f298c29-a655-4326-80dd-177e5e6fd3ac"
      },
      "execution_count": null,
      "outputs": [
        {
          "output_type": "stream",
          "name": "stdout",
          "text": [
            "Hello World\n"
          ]
        }
      ]
    },
    {
      "cell_type": "code",
      "source": [
        "print('Hello World')"
      ],
      "metadata": {
        "id": "5Y1GA1_sFmfa"
      },
      "execution_count": null,
      "outputs": []
    },
    {
      "cell_type": "code",
      "source": [
        "print('웅웅! :D')"
      ],
      "metadata": {
        "id": "CpOlE25HErqP"
      },
      "execution_count": null,
      "outputs": []
    },
    {
      "cell_type": "code",
      "source": [
        "print(\"Hello\")"
      ],
      "metadata": {
        "colab": {
          "base_uri": "https://localhost:8080/"
        },
        "id": "YcZozYqe-Men",
        "outputId": "dc338407-cada-4947-e32d-432bc6e6dc18"
      },
      "execution_count": null,
      "outputs": [
        {
          "output_type": "stream",
          "name": "stdout",
          "text": [
            "Hello\n"
          ]
        }
      ]
    },
    {
      "cell_type": "code",
      "source": [
        "print(\"Hello\")"
      ],
      "metadata": {
        "colab": {
          "base_uri": "https://localhost:8080/"
        },
        "id": "40p4yJ20-q7O",
        "outputId": "275038e2-c4a2-4547-93a2-3f5fdd6cb637"
      },
      "execution_count": null,
      "outputs": [
        {
          "output_type": "stream",
          "name": "stdout",
          "text": [
            "Hello\n"
          ]
        }
      ]
    },
    {
      "cell_type": "markdown",
      "source": [
        "2. (필수) Alt(Option) + Enter : 해당 셀 실행 + 코드 블록 하단 추가"
      ],
      "metadata": {
        "id": "YHwxKal3-ywW"
      }
    },
    {
      "cell_type": "markdown",
      "source": [
        "# 데이터셋 불러오기\n",
        "\n",
        "data = pd.read_csv(\"example_dataset.csv\")\n",
        "\n",
        "# 각 컬럼에 대한 평균 계산\n",
        "mean_age = data['age'].mean()\n",
        "mean_height = data['height'].mean()\n",
        "mean_weight = data['weight'].mean()\n",
        "\n",
        "print(\"Average Age:\", mean_age)\n",
        "print(\"Average Height:\", mean_height)\n",
        "print(\"Average Weight:\", mean_weight)"
      ],
      "metadata": {
        "id": "_6iendk1A-iL"
      }
    },
    {
      "cell_type": "markdown",
      "source": [
        "# 4. 마크다운\n",
        "## 4.1 헤더\n",
        "### 4.1.1 사용법\n",
        "제목을 입력하는 기능\n",
        "\n",
        "1. 순서 1번\n",
        "2. 순서 2번\n",
        "\n",
        "- 순서 없는 것 1\n",
        "- 순서 없는 것 2"
      ],
      "metadata": {
        "id": "JJF6P4PyJzfV"
      }
    },
    {
      "cell_type": "markdown",
      "source": [
        "## 4.2 강조\n",
        "\n",
        "이 내용은 **강조**해야하는 *문잡*입니다. *강조* **강조**"
      ],
      "metadata": {
        "id": "XkfFUUsgKmw1"
      }
    },
    {
      "cell_type": "markdown",
      "source": [
        "`print(hello world\")`\n",
        "\n",
        "**"
      ],
      "metadata": {
        "id": "TRmZYLiyNGBy"
      }
    },
    {
      "cell_type": "markdown",
      "source": [
        "[Google](https://www.google.com)"
      ],
      "metadata": {
        "id": "wm4QCgPBC5Ah"
      }
    },
    {
      "cell_type": "markdown",
      "source": [
        "![대체 텍스트](이미지 URL)\n",
        "\n",
        "![힛 속았징?](https://cdn-icons-png.flaticon.com/512/659/659999.png)"
      ],
      "metadata": {
        "id": "3KY-IoQGcVMy"
      }
    },
    {
      "cell_type": "markdown",
      "source": [
        "```\n",
        "print(\"Hello World\")\n",
        "for i in range(5):\n",
        "print(i)\n",
        "```"
      ],
      "metadata": {
        "id": "lX2xIHUqo1Sp"
      }
    },
    {
      "cell_type": "markdown",
      "source": [
        "> 인용문\n",
        ">> 중첩된 인용문"
      ],
      "metadata": {
        "id": "PN2rbndOpW8U"
      }
    },
    {
      "cell_type": "markdown",
      "source": [
        "***\n",
        "또는\n",
        "***"
      ],
      "metadata": {
        "id": "4Lo6n9tVpfTc"
      }
    },
    {
      "cell_type": "code",
      "source": [
        "# 이 줄은 주석입니다. 아래 코드는 화면에 메세지를 출력합니다.\n",
        "print('Hello, World!')"
      ],
      "metadata": {
        "id": "b0vUIslquO4Z",
        "colab": {
          "base_uri": "https://localhost:8080/"
        },
        "outputId": "7e47563a-7047-41ea-876c-1961939fa40a"
      },
      "execution_count": 6,
      "outputs": [
        {
          "output_type": "stream",
          "name": "stdout",
          "text": [
            "Hello, World!\n"
          ]
        }
      ]
    },
    {
      "cell_type": "code",
      "source": [
        "print(\"나이:\", 30, \"살\")"
      ],
      "metadata": {
        "colab": {
          "base_uri": "https://localhost:8080/"
        },
        "id": "8Zh_RLNK-DHK",
        "outputId": "c85beb5b-ba79-4fc8-afc2-347c72bdc853"
      },
      "execution_count": 9,
      "outputs": [
        {
          "output_type": "stream",
          "name": "stdout",
          "text": [
            "나이: 30 살\n"
          ]
        }
      ]
    },
    {
      "cell_type": "code",
      "source": [
        "print(\"Hello\", end=\" \")"
      ],
      "metadata": {
        "colab": {
          "base_uri": "https://localhost:8080/"
        },
        "id": "mGCwx5hl-IU2",
        "outputId": "12bd8009-6d06-4825-af47-fc4dd603ab0d"
      },
      "execution_count": 11,
      "outputs": [
        {
          "output_type": "stream",
          "name": "stdout",
          "text": [
            "Hello "
          ]
        }
      ]
    },
    {
      "cell_type": "code",
      "source": [
        "print(\"이름: {}, 나이: {}\".format(\"Alice\", 30))"
      ],
      "metadata": {
        "colab": {
          "base_uri": "https://localhost:8080/"
        },
        "id": "nUaGK5LK-a3F",
        "outputId": "bcec02e8-d35c-42ef-8d33-a7162cd918ce"
      },
      "execution_count": 12,
      "outputs": [
        {
          "output_type": "stream",
          "name": "stdout",
          "text": [
            "이름: Alice, 나이: 30\n"
          ]
        }
      ]
    },
    {
      "cell_type": "code",
      "source": [
        "name = 'Alice'\n",
        "age = 30\n",
        "\n",
        "# f-string 사용\n",
        "print(f\"이름: {name}, 나이: {age}\")"
      ],
      "metadata": {
        "colab": {
          "base_uri": "https://localhost:8080/"
        },
        "id": "zlQ0Ve4i-vGm",
        "outputId": "26b77d2c-c1c6-4bb0-86e1-1f810854253e"
      },
      "execution_count": 13,
      "outputs": [
        {
          "output_type": "stream",
          "name": "stdout",
          "text": [
            "이름: Alice, 나이: 30\n"
          ]
        }
      ]
    }
  ]
}