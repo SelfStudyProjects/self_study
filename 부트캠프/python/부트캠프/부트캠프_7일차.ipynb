{
  "nbformat": 4,
  "nbformat_minor": 0,
  "metadata": {
    "colab": {
      "provenance": []
    },
    "kernelspec": {
      "name": "python3",
      "display_name": "Python 3"
    },
    "language_info": {
      "name": "python"
    }
  },
  "cells": [
    {
      "cell_type": "code",
      "execution_count": null,
      "metadata": {
        "colab": {
          "base_uri": "https://localhost:8080/"
        },
        "id": "1E9TDWB6qtRg",
        "outputId": "5d3f7ba0-2144-46dc-8de3-2743c3493f37"
      },
      "outputs": [
        {
          "output_type": "stream",
          "name": "stdout",
          "text": [
            "1\n",
            "2\n",
            "3\n",
            "4\n"
          ]
        }
      ],
      "source": [
        "# 함수 만들어보기\n",
        "\n",
        "def growth_trainer(): # growth_trainer 함수를 지정한다.\n",
        "    print('1')\n",
        "    print('2')\n",
        "    print('3')\n",
        "    print('4')\n",
        "\n",
        "growth_trainer()"
      ]
    },
    {
      "cell_type": "code",
      "source": [
        " def funtion(x,y):\n",
        "    z = x + y\n",
        "    return z\n",
        "\n",
        "print('function(10,9) = ', funtion(10,9))"
      ],
      "metadata": {
        "colab": {
          "base_uri": "https://localhost:8080/"
        },
        "id": "P6sWP-ST2wqS",
        "outputId": "9792c479-46da-4645-ac48-8a14031e64fc"
      },
      "execution_count": null,
      "outputs": [
        {
          "output_type": "stream",
          "name": "stdout",
          "text": [
            "function(10,9) =  19\n"
          ]
        }
      ]
    },
    {
      "cell_type": "markdown",
      "source": [
        "# 앗, 아아... 안녕...!\n",
        "# 나낫, 난... 저, 정진영..."
      ],
      "metadata": {
        "id": "eVlWviGd22Pe"
      }
    },
    {
      "cell_type": "code",
      "source": [
        "def growth_trainer(x, y):\n",
        "    pass #임시로 값을 넣는 기능!"
      ],
      "metadata": {
        "id": "C9MSmAfJ5bks"
      },
      "execution_count": null,
      "outputs": []
    },
    {
      "cell_type": "code",
      "source": [
        "def function_name(x, y):\n",
        "    return x + y\n",
        "\n",
        "function_name(1, 3)"
      ],
      "metadata": {
        "colab": {
          "base_uri": "https://localhost:8080/"
        },
        "id": "-jbEHAF05hdw",
        "outputId": "17d5d560-6aa6-4a34-c3fa-af0ad7ae6d70"
      },
      "execution_count": null,
      "outputs": [
        {
          "output_type": "execute_result",
          "data": {
            "text/plain": [
              "4"
            ]
          },
          "metadata": {},
          "execution_count": 12
        }
      ]
    },
    {
      "cell_type": "code",
      "source": [
        " # 함수 설명 예시\n",
        "\n",
        "def function(x,y):\n",
        "# def: 선언, # funtion : 이름\n",
        "    z = x + y # 입력 x,y(매개변수),# x + y : 연산\n",
        "    return z # 반환 계산된 변수 z를 반환\n",
        "# print(f'function(10,9) = {funtion(10,9)}')\n",
        "print(f'function(10, 9) = {function(10, 9)}')\n",
        "\n",
        "def funtion_name(x, y):\n",
        "    pass #임시로 값을 넣는 기능"
      ],
      "metadata": {
        "colab": {
          "base_uri": "https://localhost:8080/"
        },
        "id": "5RxbMFcD6Yvh",
        "outputId": "94e258ee-3830-468c-d149-c6280a9a4193"
      },
      "execution_count": null,
      "outputs": [
        {
          "output_type": "stream",
          "name": "stdout",
          "text": [
            "function(10, 9) = 19\n"
          ]
        }
      ]
    },
    {
      "cell_type": "code",
      "source": [
        "# 2.1 입력 매개변수가 없고, 반환값도 없는 함수\n",
        "def simple_function():\n",
        "  print('hello world')\n",
        "\n",
        "# 함수 호출\n",
        "print(simple_function())\n",
        "\n",
        "# 출력값\n",
        "# hello world\n",
        "# None"
      ],
      "metadata": {
        "colab": {
          "base_uri": "https://localhost:8080/",
          "height": 146
        },
        "id": "0Ym8zTzP8reI",
        "outputId": "dbd7e541-6566-4eb0-d165-7e40df9e56e5"
      },
      "execution_count": null,
      "outputs": [
        {
          "output_type": "error",
          "ename": "SyntaxError",
          "evalue": "invalid syntax (<ipython-input-18-d5c814287e27>, line 8)",
          "traceback": [
            "\u001b[0;36m  File \u001b[0;32m\"<ipython-input-18-d5c814287e27>\"\u001b[0;36m, line \u001b[0;32m8\u001b[0m\n\u001b[0;31m    `\u001b[0m\n\u001b[0m    ^\u001b[0m\n\u001b[0;31mSyntaxError\u001b[0m\u001b[0;31m:\u001b[0m invalid syntax\n"
          ]
        }
      ]
    },
    {
      "cell_type": "code",
      "source": [
        " # arg 있고 리턴은 없음\n",
        "def greeting(name): # greeting 함수 정의\n",
        "    print(f'Hello, {name}!') # greeting 함수 내용 정리\n",
        "\n",
        "# 함수 호출\n",
        "greeting('Licat')   # 함수의 수행 . 리턴이 아님"
      ],
      "metadata": {
        "colab": {
          "base_uri": "https://localhost:8080/"
        },
        "id": "6i2X0TpA9up8",
        "outputId": "b948cb40-98a7-435f-e055-38c21d50b7f0"
      },
      "execution_count": null,
      "outputs": [
        {
          "output_type": "stream",
          "name": "stdout",
          "text": [
            "Hello, Licat!\n"
          ]
        }
      ]
    },
    {
      "cell_type": "code",
      "source": [
        "def add_numbers(x, y):\n",
        "    sum = x + y\n",
        "    return sum\n",
        "\n",
        "# 함수 호출\n",
        "result = add_numbers(5, 3)\n",
        "print(result)  # 출력: 8"
      ],
      "metadata": {
        "colab": {
          "base_uri": "https://localhost:8080/"
        },
        "id": "Db6a2KB2E0f3",
        "outputId": "575b4834-f78c-4b06-8bca-2300f76d86d7"
      },
      "execution_count": null,
      "outputs": [
        {
          "output_type": "stream",
          "name": "stdout",
          "text": [
            "8\n"
          ]
        }
      ]
    },
    {
      "cell_type": "code",
      "source": [
        "def function(x, y):\n",
        "    z = x + y\n",
        "    print(z)\n",
        "print(f'function(5, 7) = {function(5, 7)}')"
      ],
      "metadata": {
        "colab": {
          "base_uri": "https://localhost:8080/"
        },
        "id": "r7lrF1mOGYEB",
        "outputId": "cf07550f-3f43-4038-cb01-476c203e239a"
      },
      "execution_count": null,
      "outputs": [
        {
          "output_type": "stream",
          "name": "stdout",
          "text": [
            "12\n",
            "function(5, 7) = None\n"
          ]
        }
      ]
    },
    {
      "cell_type": "code",
      "source": [
        "def f(a, b=20, c=30):\n",
        "    print(a, b, c)\n",
        "\n",
        "# print(f()) # error\n",
        "print(f(100, 10)) # 출력 : 100, 10, 30\n",
        "print(f(a=100, b=200, c=300)) # 출력 : 100 200 300\n",
        "print(f(c=300, a=100, b=200)) # 출력 : 100 200 300\n",
        "# print(f(c=300)) # error"
      ],
      "metadata": {
        "colab": {
          "base_uri": "https://localhost:8080/"
        },
        "id": "I3ot-EhHKyAQ",
        "outputId": "8cb24aa0-9abf-410f-a412-92bb38e51a3b"
      },
      "execution_count": null,
      "outputs": [
        {
          "output_type": "stream",
          "name": "stdout",
          "text": [
            "100 10 30\n",
            "None\n",
            "100 200 300\n",
            "None\n",
            "100 200 300\n",
            "None\n"
          ]
        }
      ]
    },
    {
      "cell_type": "code",
      "source": [
        "def f(a=10, b=20, c=30):\n",
        "    print(a, b, c)\n",
        "\n",
        "f() # 출력: 10 20 30\n",
        "f(100, 10) # 출력: 100 10 30\n",
        "f(a=100, b=200, c=300) # 출력: 100 200 300\n",
        "f(c=300, a=100, b=200) # 출력: 100 200 300"
      ],
      "metadata": {
        "colab": {
          "base_uri": "https://localhost:8080/"
        },
        "id": "1zMt9q0QKyuH",
        "outputId": "5ca02804-4b58-4cc7-fd4f-471bcc3859b2"
      },
      "execution_count": null,
      "outputs": [
        {
          "output_type": "stream",
          "name": "stdout",
          "text": [
            "10 20 30\n",
            "100 10 30\n",
            "100 200 300\n",
            "100 200 300\n"
          ]
        }
      ]
    },
    {
      "cell_type": "code",
      "source": [
        "def f():\n",
        "    a = 1\n",
        "    print(a)\n",
        "\n",
        "f()\n",
        "print(a)"
      ],
      "metadata": {
        "colab": {
          "base_uri": "https://localhost:8080/",
          "height": 237
        },
        "id": "EkziqK3Ph2fZ",
        "outputId": "8479b93b-86fc-411d-fb01-bf39af300e0d"
      },
      "execution_count": null,
      "outputs": [
        {
          "output_type": "stream",
          "name": "stdout",
          "text": [
            "1\n"
          ]
        },
        {
          "output_type": "error",
          "ename": "NameError",
          "evalue": "name 'a' is not defined",
          "traceback": [
            "\u001b[0;31m---------------------------------------------------------------------------\u001b[0m",
            "\u001b[0;31mNameError\u001b[0m                                 Traceback (most recent call last)",
            "\u001b[0;32m<ipython-input-28-13dc493001f0>\u001b[0m in \u001b[0;36m<cell line: 6>\u001b[0;34m()\u001b[0m\n\u001b[1;32m      4\u001b[0m \u001b[0;34m\u001b[0m\u001b[0m\n\u001b[1;32m      5\u001b[0m \u001b[0mf\u001b[0m\u001b[0;34m(\u001b[0m\u001b[0;34m)\u001b[0m\u001b[0;34m\u001b[0m\u001b[0;34m\u001b[0m\u001b[0m\n\u001b[0;32m----> 6\u001b[0;31m \u001b[0mprint\u001b[0m\u001b[0;34m(\u001b[0m\u001b[0ma\u001b[0m\u001b[0;34m)\u001b[0m\u001b[0;34m\u001b[0m\u001b[0;34m\u001b[0m\u001b[0m\n\u001b[0m",
            "\u001b[0;31mNameError\u001b[0m: name 'a' is not defined"
          ]
        }
      ]
    },
    {
      "cell_type": "code",
      "source": [
        "def f():\n",
        "  a = 1\n",
        "  b = 'hello'\n",
        "  def ff():\n",
        "    pass\n",
        "  print(locals())\n",
        "\n",
        "f()"
      ],
      "metadata": {
        "colab": {
          "base_uri": "https://localhost:8080/"
        },
        "id": "5ScSXwUUj4fI",
        "outputId": "b3c2ae11-b9b5-4ba6-ee6a-94e536dd8e50"
      },
      "execution_count": null,
      "outputs": [
        {
          "output_type": "stream",
          "name": "stdout",
          "text": [
            "{'a': 1, 'b': 'hello', 'ff': <function f.<locals>.ff at 0x79ddd3652440>}\n"
          ]
        }
      ]
    },
    {
      "cell_type": "code",
      "source": [
        "a = 100\n",
        "\n",
        "def f():\n",
        "    global a\n",
        "    a = a + 1\n",
        "    print(a)\n",
        "\n",
        "f()\n",
        "print(a)"
      ],
      "metadata": {
        "colab": {
          "base_uri": "https://localhost:8080/"
        },
        "id": "POpMc-DxlXZi",
        "outputId": "8e16e584-d47e-408b-d973-1d8c4fe44a7e"
      },
      "execution_count": null,
      "outputs": [
        {
          "output_type": "stream",
          "name": "stdout",
          "text": [
            "101\n",
            "101\n"
          ]
        }
      ]
    },
    {
      "cell_type": "code",
      "source": [
        "a = 100\n",
        "def f():\n",
        "    a = a + 1 # error\n",
        "\n",
        "f()\n",
        "print(a)"
      ],
      "metadata": {
        "colab": {
          "base_uri": "https://localhost:8080/",
          "height": 364
        },
        "id": "QeKb3lbGl-Uv",
        "outputId": "4e9ea13a-19fd-4eb0-fdc4-41c2f573316c"
      },
      "execution_count": null,
      "outputs": [
        {
          "output_type": "error",
          "ename": "UnboundLocalError",
          "evalue": "local variable 'a' referenced before assignment",
          "traceback": [
            "\u001b[0;31m---------------------------------------------------------------------------\u001b[0m",
            "\u001b[0;31mUnboundLocalError\u001b[0m                         Traceback (most recent call last)",
            "\u001b[0;32m<ipython-input-32-6fe338987a2a>\u001b[0m in \u001b[0;36m<cell line: 5>\u001b[0;34m()\u001b[0m\n\u001b[1;32m      3\u001b[0m     \u001b[0ma\u001b[0m \u001b[0;34m=\u001b[0m \u001b[0ma\u001b[0m \u001b[0;34m+\u001b[0m \u001b[0;36m1\u001b[0m \u001b[0;31m# error\u001b[0m\u001b[0;34m\u001b[0m\u001b[0;34m\u001b[0m\u001b[0m\n\u001b[1;32m      4\u001b[0m \u001b[0;34m\u001b[0m\u001b[0m\n\u001b[0;32m----> 5\u001b[0;31m \u001b[0mf\u001b[0m\u001b[0;34m(\u001b[0m\u001b[0;34m)\u001b[0m\u001b[0;34m\u001b[0m\u001b[0;34m\u001b[0m\u001b[0m\n\u001b[0m\u001b[1;32m      6\u001b[0m \u001b[0mprint\u001b[0m\u001b[0;34m(\u001b[0m\u001b[0ma\u001b[0m\u001b[0;34m)\u001b[0m\u001b[0;34m\u001b[0m\u001b[0;34m\u001b[0m\u001b[0m\n",
            "\u001b[0;32m<ipython-input-32-6fe338987a2a>\u001b[0m in \u001b[0;36mf\u001b[0;34m()\u001b[0m\n\u001b[1;32m      1\u001b[0m \u001b[0ma\u001b[0m \u001b[0;34m=\u001b[0m \u001b[0;36m100\u001b[0m\u001b[0;34m\u001b[0m\u001b[0;34m\u001b[0m\u001b[0m\n\u001b[1;32m      2\u001b[0m \u001b[0;32mdef\u001b[0m \u001b[0mf\u001b[0m\u001b[0;34m(\u001b[0m\u001b[0;34m)\u001b[0m\u001b[0;34m:\u001b[0m\u001b[0;34m\u001b[0m\u001b[0;34m\u001b[0m\u001b[0m\n\u001b[0;32m----> 3\u001b[0;31m     \u001b[0ma\u001b[0m \u001b[0;34m=\u001b[0m \u001b[0ma\u001b[0m \u001b[0;34m+\u001b[0m \u001b[0;36m1\u001b[0m \u001b[0;31m# error\u001b[0m\u001b[0;34m\u001b[0m\u001b[0;34m\u001b[0m\u001b[0m\n\u001b[0m\u001b[1;32m      4\u001b[0m \u001b[0;34m\u001b[0m\u001b[0m\n\u001b[1;32m      5\u001b[0m \u001b[0mf\u001b[0m\u001b[0;34m(\u001b[0m\u001b[0;34m)\u001b[0m\u001b[0;34m\u001b[0m\u001b[0;34m\u001b[0m\u001b[0m\n",
            "\u001b[0;31mUnboundLocalError\u001b[0m: local variable 'a' referenced before assignment"
          ]
        }
      ]
    },
    {
      "cell_type": "code",
      "source": [
        "a = 'pithon'\n",
        "\n",
        "def 함수1():\n",
        "    def 함수2():\n",
        "        print('love')\n",
        "\n",
        "    print('I')\n",
        "    함수2()\n",
        "    return \"python\"\n",
        "\n",
        "\n",
        "a = 함수1()\n",
        "print(a)"
      ],
      "metadata": {
        "colab": {
          "base_uri": "https://localhost:8080/"
        },
        "id": "-is13TVuymzc",
        "outputId": "6f98eb8a-fb52-482d-9144-aff95d4e4a25"
      },
      "execution_count": null,
      "outputs": [
        {
          "output_type": "stream",
          "name": "stdout",
          "text": [
            "I\n",
            "love\n",
            "python\n"
          ]
        }
      ]
    },
    {
      "cell_type": "code",
      "source": [
        "def plus(num1, num2):\n",
        "    return num1 + num2\n",
        "\n",
        "def minus(num1, num2):\n",
        "    return num1 - num2\n",
        "\n",
        "def multiply(num1, num2):\n",
        "    return num1 * num2\n",
        "\n",
        "def divide(num1, num2):\n",
        "    return num1 / num2\n",
        "\n",
        "def square(num1, num2):\n",
        "    return num1 ** num2\n",
        "\n",
        "print(f'plus : {plus(10, 5)}')\n",
        "print(f'minus : {minus(10, 5)}')\n",
        "print(f'multiply : {multiply(10, 5)}')\n",
        "print(f'divide : {divide(10, 5)}')\n",
        "print(f'square : {square(10, 5)}')"
      ],
      "metadata": {
        "colab": {
          "base_uri": "https://localhost:8080/"
        },
        "id": "HfMvFDqDz__a",
        "outputId": "434536cc-d9e4-45e8-a89d-6b06777e223f"
      },
      "execution_count": null,
      "outputs": [
        {
          "output_type": "stream",
          "name": "stdout",
          "text": [
            "plus : 15\n",
            "minus : 5\n",
            "multiply : 50\n",
            "divide : 2.0\n",
            "square : 100000\n"
          ]
        }
      ]
    }
  ]
}