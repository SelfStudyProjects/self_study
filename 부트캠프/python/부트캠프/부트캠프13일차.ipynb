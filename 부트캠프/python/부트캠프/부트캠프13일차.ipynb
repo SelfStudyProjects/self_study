{
  "nbformat": 4,
  "nbformat_minor": 0,
  "metadata": {
    "colab": {
      "provenance": []
    },
    "kernelspec": {
      "name": "python3",
      "display_name": "Python 3"
    },
    "language_info": {
      "name": "python"
    }
  },
  "cells": [
    {
      "cell_type": "code",
      "execution_count": null,
      "metadata": {
        "colab": {
          "base_uri": "https://localhost:8080/",
          "height": 520
        },
        "id": "NkBT7VilPieY",
        "outputId": "b70a142d-c517-47b1-ee63-78949b3693cd"
      },
      "outputs": [
        {
          "output_type": "stream",
          "name": "stdout",
          "text": [
            "ID: 1\n",
            "Author: 기준하\n",
            "Content: 이것은 주 댓글입니다.\n",
            "Timestamp: 2024-02-08 15:40\n",
            "  ID: 2\n",
            "  Author: 홍길동\n",
            "  Content: 주 댓글에 대한 첫 번째 대댓글입니다.\n",
            "  Timestamp: 2024-02-08 15:40\n",
            "    ID: 4\n",
            "    Author: 세종\n",
            "    Content: 첫 번째 대댓글에 대한 댓글입니다.\n",
            "    Timestamp: 2024-02-08 15:40\n",
            "  ID: 3\n",
            "  Author: 이순신\n",
            "  Content: 주 댓글에 대한 두 번째 대댓글입니다.\n",
            "  Timestamp: 2024-02-08 15:40\n"
          ]
        },
        {
          "output_type": "execute_result",
          "data": {
            "text/plain": [
              "'\\n여기서는 Comment 클래스의 display 메서드를 한 줄씩 더 자세히 설명하겠습니다:\\n\\ndef display(self, depth=0):\\ndisplay 메서드를 정의합니다. 이 메서드는 댓글과 그에 딸린 대댓글을 계층적으로 출력하는 역할을 합니다. depth 매개변수는 현재 댓글의 들여쓰기 수준을 나타냅니다. 기본값은 0으로 설정되어 있습니다.\\n\\n    blank = \"  \" * depth\\nblank 변수를 생성하여 현재 들여쓰기 수준에 따라 공백을 만듭니다. depth 값이 0이면 공백 없음, 1이면 공백 2개, 2이면 공백 4개가 됩니다.\\n\\n    print(f\"{blank}ID: {self.comment_id}\")\\n    print(f\"{blank}Author: {self.author}\")\\n    print(f\"{blank}Content: {self.content}\")\\n    print(f\"{blank}Timestamp: {self.timestamp.strftime(\\'%Y-%m-%d %H:%M\\')}\")\\n현재 댓글의 정보를 출력합니다. 들여쓰기에 맞게 blank를 사용하여 댓글의 ID, 작성자, 내용, 타임스탬프를 출력합니다.\\n\\n    for reply in self.replies:\\n        reply.display(depth + 1)\\n현재 댓글에 연결된 대댓글들을 반복하면서 각각에 대해 display 메서드를 호출합니다. 들여쓰기 수준을 1 증가시켜서 대댓글이 더 들여쓰기 되도록 합니다. 이는 재귀적인 방식으로 댓글과 대댓글을 계속해서 출력하는 데 사용됩니다.\\n'"
            ],
            "application/vnd.google.colaboratory.intrinsic+json": {
              "type": "string"
            }
          },
          "metadata": {},
          "execution_count": 1
        }
      ],
      "source": [
        "from datetime import datetime\n",
        "\n",
        "class Comment:\n",
        "    def __init__(self, comment_id, author, content, parent=None, timestamp=None):\n",
        "        self.comment_id = comment_id\n",
        "        self.author = author\n",
        "        self.content = content\n",
        "        self.parent = parent # parent 객체로 안 주어도 됨\n",
        "        self.timestamp = timestamp or datetime.now()\n",
        "\n",
        "        self.replies = []  # 대댓글을 저장할 리스트\n",
        "\n",
        "    def add_reply(self, reply):\n",
        "        self.replies.append(reply)\n",
        "\n",
        "    def display(self, depth=0):\n",
        "        blank = \"  \" * depth # 주 댓글 공백을 띄워주는 출력기능\n",
        "        print(f\"{blank}ID: {self.comment_id}\")\n",
        "        print(f\"{blank}Author: {self.author}\")\n",
        "        print(f\"{blank}Content: {self.content}\")\n",
        "        print(f\"{blank}Timestamp: {self.timestamp.strftime('%Y-%m-%d %H:%M')}\")\n",
        "\n",
        "        for reply in self.replies:\n",
        "            reply.display(depth + 1)\n",
        "\n",
        "# 예제 사용:\n",
        "if __name__ == \"__main__\":\n",
        "    # 루트 댓글 생성\n",
        "    root_comment = Comment(1, \"기준하\", \"이것은 주 댓글입니다.\")\n",
        "\n",
        "    # 루트 댓글에 대댓글 추가\n",
        "    reply1 = Comment(2, \"홍길동\", \"주 댓글에 대한 첫 번째 대댓글입니다.\", parent=root_comment)\n",
        "    root_comment.add_reply(reply1)\n",
        "\n",
        "    reply2 = Comment(3, \"이순신\", \"주 댓글에 대한 두 번째 대댓글입니다.\", parent=root_comment)\n",
        "    root_comment.add_reply(reply2) # .add_reply(reply2) 위 부분은 필요없음(root_comment를 했기 때문)\n",
        "\n",
        "    # 대댓글에 대한 댓글 추가\n",
        "    reply3 = Comment(4, \"세종\", \"첫 번째 대댓글에 대한 댓글입니다.\", parent=reply1)\n",
        "    reply1.add_reply(reply3)\n",
        "\n",
        "    # 댓글을 계층적으로 출력\n",
        "    root_comment.display()\n",
        "\n",
        "\n",
        "'''\n",
        "여기서는 Comment 클래스의 display 메서드를 한 줄씩 더 자세히 설명하겠습니다:\n",
        "\n",
        "def display(self, depth=0):\n",
        "display 메서드를 정의합니다. 이 메서드는 댓글과 그에 딸린 대댓글을 계층적으로 출력하는 역할을 합니다. depth 매개변수는 현재 댓글의 들여쓰기 수준을 나타냅니다. 기본값은 0으로 설정되어 있습니다.\n",
        "\n",
        "    blank = \"  \" * depth\n",
        "blank 변수를 생성하여 현재 들여쓰기 수준에 따라 공백을 만듭니다. depth 값이 0이면 공백 없음, 1이면 공백 2개, 2이면 공백 4개가 됩니다.\n",
        "\n",
        "    print(f\"{blank}ID: {self.comment_id}\")\n",
        "    print(f\"{blank}Author: {self.author}\")\n",
        "    print(f\"{blank}Content: {self.content}\")\n",
        "    print(f\"{blank}Timestamp: {self.timestamp.strftime('%Y-%m-%d %H:%M')}\")\n",
        "현재 댓글의 정보를 출력합니다. 들여쓰기에 맞게 blank를 사용하여 댓글의 ID, 작성자, 내용, 타임스탬프를 출력합니다.\n",
        "\n",
        "    for reply in self.replies:\n",
        "        reply.display(depth + 1)\n",
        "현재 댓글에 연결된 대댓글들을 반복하면서 각각에 대해 display 메서드를 호출합니다. 들여쓰기 수준을 1 증가시켜서 대댓글이 더 들여쓰기 되도록 합니다. 이는 재귀적인 방식으로 댓글과 대댓글을 계속해서 출력하는 데 사용됩니다.\n",
        "'''"
      ]
    },
    {
      "cell_type": "code",
      "source": [
        "l = [10, 20, 30]\n",
        "# l.append(100)\n",
        "add = l.append\n",
        "add(10)\n",
        "add(20)\n",
        "\n",
        "# 이렇게 사용 거의 X\n",
        "# 그런데 변수가 너무 길 때, 오타가 많이 생기는 변수일 때\n",
        "# 메서드 명이 길 때 사용\n",
        "\n",
        "l"
      ],
      "metadata": {
        "colab": {
          "base_uri": "https://localhost:8080/"
        },
        "id": "0DW9WukHs2H5",
        "outputId": "e0d829fe-b927-472c-cfc7-f533bcba6228"
      },
      "execution_count": null,
      "outputs": [
        {
          "output_type": "execute_result",
          "data": {
            "text/plain": [
              "[10, 20, 30, 10, 20]"
            ]
          },
          "metadata": {},
          "execution_count": 2
        }
      ]
    },
    {
      "cell_type": "code",
      "source": [
        "def add(x, y):\n",
        "    return x + y\n",
        "\n",
        "def subtract(x, y):\n",
        "    return x - y\n",
        "\n",
        "funcs = [add, subtract]\n",
        "print(funcs[0](2, 3))  # 출력: 5"
      ],
      "metadata": {
        "colab": {
          "base_uri": "https://localhost:8080/"
        },
        "id": "KS3zOD6myFMn",
        "outputId": "a64bffa7-940d-4838-89ef-42c3561164f6"
      },
      "execution_count": null,
      "outputs": [
        {
          "output_type": "stream",
          "name": "stdout",
          "text": [
            "5\n"
          ]
        }
      ]
    },
    {
      "cell_type": "code",
      "source": [
        "# 우리가 실제 코딩하는 것은 여러 클래스 또는 인스턴스의 조합으로 이뤄져 있습니다.\n",
        "# Django만 하더라도 대부분의 것들이 class로 구현되어 있습니다.\n",
        "# 인스턴스나 클래스에 직접 접근하지 않고, 내가 만든 변수로 관리할 수 있다.\n",
        "# 함수를 변수 취급하는 것을 '1급 함수'라고 함"
      ],
      "metadata": {
        "id": "2iubSCatylIA"
      },
      "execution_count": null,
      "outputs": []
    },
    {
      "cell_type": "code",
      "source": [
        "def say_hello(name):\n",
        "    return f'Hello, {name}'\n",
        "\n",
        "def greet(func, name):\n",
        "    return func(name)\n",
        "\n",
        "print(greet(say_hello, 'World'))  # 출력: Hello, World"
      ],
      "metadata": {
        "id": "hGu3KvF_3NZM",
        "colab": {
          "base_uri": "https://localhost:8080/"
        },
        "outputId": "21379b13-a8eb-4c9b-943d-b46813e6eba3"
      },
      "execution_count": null,
      "outputs": [
        {
          "output_type": "stream",
          "name": "stdout",
          "text": [
            "Hello, World\n"
          ]
        }
      ]
    },
    {
      "cell_type": "code",
      "source": [
        "x = 100\n",
        "def one():\n",
        "  def two():\n",
        "    def three():\n",
        "      print(x)\n",
        "    three()\n",
        "  two()\n",
        "\n",
        "one()\n",
        "\n",
        "# 스코프 체이닝"
      ],
      "metadata": {
        "colab": {
          "base_uri": "https://localhost:8080/"
        },
        "id": "kE_9CKx24wxG",
        "outputId": "877896e1-0e1d-4ec2-f845-0ba79d4b63ca"
      },
      "execution_count": null,
      "outputs": [
        {
          "output_type": "stream",
          "name": "stdout",
          "text": [
            "100\n"
          ]
        }
      ]
    },
    {
      "cell_type": "code",
      "source": [
        "def create_sq(x):\n",
        "    def sq(y):\n",
        "        return x ** y\n",
        "    return sq\n",
        "\n",
        "제곱2 = create_sq(2)\n",
        "제곱3 = create_sq(3)\n",
        "제곱4 = create_sq(4)\n",
        "\n",
        "제곱2(2), 제곱2(3), 제곱2(4)"
      ],
      "metadata": {
        "colab": {
          "base_uri": "https://localhost:8080/"
        },
        "id": "Dvt2cL_a6XOZ",
        "outputId": "b6f713dc-c841-4448-aa17-81fae1a556b8"
      },
      "execution_count": null,
      "outputs": [
        {
          "output_type": "execute_result",
          "data": {
            "text/plain": [
              "(4, 8, 16)"
            ]
          },
          "metadata": {},
          "execution_count": 7
        }
      ]
    },
    {
      "cell_type": "code",
      "source": [
        "# 내가 나를 호출하는 함수\n",
        "# 재귀는 내가 정말 재귀에 자신있다가 아니면 반복문을 사용하세요.\n",
        "# 재귀를 억지로 사용하려 하지 마세요.\n",
        "# 재귀를 잘못 사용하면 비효율의 끝판왕이 됩니다.\n",
        "\n",
        "# f(5) => 5 * 4 * 3 * 2 * 1 == 120 == 5! (수학 공식으로는 5!로 표현합니다.)\n",
        "\n",
        "def f(n):\n",
        "    if n <= 1:\n",
        "        return n\n",
        "    return n * f(n-1)\n",
        "\n",
        "f(5)"
      ],
      "metadata": {
        "colab": {
          "base_uri": "https://localhost:8080/"
        },
        "id": "ocxWCE5j8CO4",
        "outputId": "bd4f6fb8-b158-4a62-c297-5b170e71dcec"
      },
      "execution_count": null,
      "outputs": [
        {
          "output_type": "execute_result",
          "data": {
            "text/plain": [
              "120"
            ]
          },
          "metadata": {},
          "execution_count": 8
        }
      ]
    },
    {
      "cell_type": "code",
      "source": [
        "# 이런 코드르르 연습해봄으로서 재귀에 친숙해질 수 있다.\n",
        "# 분할 정복, 다이나믹 프로그래밍\n",
        "# f(5) => 5 * 4 * 3 * 2 * 1 == 120 == 5!\n",
        "\n",
        "def f(n):\n",
        "    if n <= 1:\n",
        "        return n\n",
        "    return n * f(n - 1)\n",
        "\n",
        "f(5)"
      ],
      "metadata": {
        "colab": {
          "base_uri": "https://localhost:8080/"
        },
        "id": "g418AzgH8R-N",
        "outputId": "61eae04c-0019-496e-c120-b5b37132d930"
      },
      "execution_count": null,
      "outputs": [
        {
          "output_type": "execute_result",
          "data": {
            "text/plain": [
              "120"
            ]
          },
          "metadata": {},
          "execution_count": 9
        }
      ]
    },
    {
      "cell_type": "code",
      "source": [
        "result = 1\n",
        "for i in range(1, 6):\n",
        "    result *= i\n",
        "result"
      ],
      "metadata": {
        "colab": {
          "base_uri": "https://localhost:8080/"
        },
        "id": "FXt1QDGv91D7",
        "outputId": "12e6fff1-6be1-4d5c-cd05-43948fa64618"
      },
      "execution_count": null,
      "outputs": [
        {
          "output_type": "execute_result",
          "data": {
            "text/plain": [
              "120"
            ]
          },
          "metadata": {},
          "execution_count": 10
        }
      ]
    },
    {
      "cell_type": "code",
      "source": [
        "# 설명\n",
        "def f(n):\n",
        "    if n <= 1:\n",
        "        return n\n",
        "    return n * f(n - 1)"
      ],
      "metadata": {
        "id": "BaPCwWO8--Ms"
      },
      "execution_count": null,
      "outputs": []
    },
    {
      "cell_type": "code",
      "source": [
        "'hello'[::-1]"
      ],
      "metadata": {
        "colab": {
          "base_uri": "https://localhost:8080/",
          "height": 36
        },
        "id": "OB3-OSCw_jWx",
        "outputId": "cbfdc5fa-fdda-481b-9193-eb5fc24f26a5"
      },
      "execution_count": null,
      "outputs": [
        {
          "output_type": "execute_result",
          "data": {
            "text/plain": [
              "'olleh'"
            ],
            "application/vnd.google.colaboratory.intrinsic+json": {
              "type": "string"
            }
          },
          "metadata": {},
          "execution_count": 12
        }
      ]
    },
    {
      "cell_type": "code",
      "source": [
        "s = ''\n",
        "for i in 'hello':\n",
        "    s = i + s\n",
        "\n",
        "s\n",
        "\n",
        "# s = 'h' + ''\n",
        "# s = 'e' + 'h'\n",
        "# s = 'l' + 'eh'\n",
        "# s = 'l' + 'leh'\n",
        "# s = 'o' + 'lleh'\n",
        "# => 'olleh'"
      ],
      "metadata": {
        "id": "JO0vUoNf_uXy",
        "colab": {
          "base_uri": "https://localhost:8080/",
          "height": 36
        },
        "outputId": "afa06294-e79f-4168-ee86-c2314f5af218"
      },
      "execution_count": null,
      "outputs": [
        {
          "output_type": "execute_result",
          "data": {
            "text/plain": [
              "'olleh'"
            ],
            "application/vnd.google.colaboratory.intrinsic+json": {
              "type": "string"
            }
          },
          "metadata": {},
          "execution_count": 13
        }
      ]
    },
    {
      "cell_type": "code",
      "source": [
        "def f(s):\n",
        "    if len(s) <= 1:\n",
        "        return s\n",
        "    return f(s[1:]) + s[0]\n",
        "\n",
        "f('hello')\n",
        "\n",
        "# f('hello')    f('ello') + 'h' == 'olleh'\n",
        "# f('ello')    f('llo') + 'e' == 'olle'\n",
        "# f('llo')    f('lo') + 'l' == 'oll'\n",
        "# f('lo')    f('o') + 'l' == 'ol'\n",
        "# f('o')    'o'"
      ],
      "metadata": {
        "colab": {
          "base_uri": "https://localhost:8080/",
          "height": 36
        },
        "id": "Hvov1rZuA_Vk",
        "outputId": "02fee64c-f0b4-4503-94ae-09003cf64218"
      },
      "execution_count": null,
      "outputs": [
        {
          "output_type": "execute_result",
          "data": {
            "text/plain": [
              "'olleh'"
            ],
            "application/vnd.google.colaboratory.intrinsic+json": {
              "type": "string"
            }
          },
          "metadata": {},
          "execution_count": 14
        }
      ]
    },
    {
      "cell_type": "code",
      "source": [
        "'Hello World'.replace('Hello', 'hi').lower()\n",
        "# 그 메서드에 리턴된 값이 순차적으로 해소가 되는 방식\n",
        "\n",
        "#'hello world'.a().b().c().d()\n",
        "# 'Hello World'.split().lower() #error!!"
      ],
      "metadata": {
        "colab": {
          "base_uri": "https://localhost:8080/",
          "height": 36
        },
        "id": "sOktZFR-Ya_s",
        "outputId": "e4cd4b7e-fd46-4d53-ef85-a38d1f3a4391"
      },
      "execution_count": null,
      "outputs": [
        {
          "output_type": "execute_result",
          "data": {
            "text/plain": [
              "'hi world'"
            ],
            "application/vnd.google.colaboratory.intrinsic+json": {
              "type": "string"
            }
          },
          "metadata": {},
          "execution_count": 16
        }
      ]
    },
    {
      "cell_type": "code",
      "source": [
        "'Hello World'.split()[0].lower()"
      ],
      "metadata": {
        "colab": {
          "base_uri": "https://localhost:8080/",
          "height": 36
        },
        "id": "pB4mz5T8aoGy",
        "outputId": "ec36d277-2daf-4ad1-8718-2a7d3a0c4cbd"
      },
      "execution_count": null,
      "outputs": [
        {
          "output_type": "execute_result",
          "data": {
            "text/plain": [
              "'hello'"
            ],
            "application/vnd.google.colaboratory.intrinsic+json": {
              "type": "string"
            }
          },
          "metadata": {},
          "execution_count": 17
        }
      ]
    },
    {
      "cell_type": "code",
      "source": [
        "class Calculator:\n",
        "    def __init__(self, value):\n",
        "        self.value = value\n",
        "\n",
        "    def add(self, other):\n",
        "        self.value += other\n",
        "        return self\n",
        "\n",
        "    def subtract(self, other):\n",
        "        self.value -= other\n",
        "        return self\n",
        "\n",
        "    def multiply(self, other):\n",
        "        self.value *= other\n",
        "        return self\n",
        "\n",
        "    def get_value(self):\n",
        "        return self.value\n",
        "\n",
        "calc = Calculator(1)\n",
        "result = calc.add(2).subtract(1).multiply(3).get_value()\n",
        "print(result)  # 결과: 6\n",
        "\n",
        "calc = Calculator(1)\n",
        "result = calc.add(2).subtract(1).multiply(3).get_value()\n",
        "print(result)  # 결과: 6"
      ],
      "metadata": {
        "id": "9E2QIkQiarAN"
      },
      "execution_count": null,
      "outputs": []
    },
    {
      "cell_type": "code",
      "source": [
        "l = [10, 20, 30]\n",
        "# l.append(100)\n",
        "add = l.append\n",
        "add(10)\n",
        "add(20)\n",
        "\n",
        "# 이렇게 사용 거의 X\n",
        "# 그런데 변수가 너무 길 때, 오타가 많이 생기는 변수일 때\n",
        "# 메서드 명이 길 때 사용\n",
        "\n",
        "print(l)"
      ],
      "metadata": {
        "colab": {
          "base_uri": "https://localhost:8080/"
        },
        "id": "KlZ-A9V0dIc2",
        "outputId": "3950bf67-f8c9-43b9-a743-4c4b317e310a"
      },
      "execution_count": null,
      "outputs": [
        {
          "output_type": "stream",
          "name": "stdout",
          "text": [
            "[10, 20, 30, 10, 20]\n"
          ]
        }
      ]
    },
    {
      "cell_type": "code",
      "source": [
        "# 함수를 리턴할 수 있다! (데코레이터 핵심 개념)\n",
        "# 중요한 개념 : x라는 변수가 함수가 끝났는데도 불구하고 살아있다? 클로져!\n",
        "def create_adder(x):\n",
        "    def adder(y):\n",
        "        return x + y\n",
        "    return adder\n",
        "\n",
        "add_5 = create_adder(5)\n",
        "print(add_5(10))  # 출력: 15"
      ],
      "metadata": {
        "colab": {
          "base_uri": "https://localhost:8080/"
        },
        "id": "o1Wvfdshi4rh",
        "outputId": "d51e58a7-dda2-4793-b937-43d33600da07"
      },
      "execution_count": null,
      "outputs": [
        {
          "output_type": "stream",
          "name": "stdout",
          "text": [
            "15\n"
          ]
        }
      ]
    },
    {
      "cell_type": "code",
      "source": [
        "def say_hello(name):\n",
        "    return f'Hello, {name}'\n",
        "\n",
        "say_hello('World')  # 출력: Hello, World"
      ],
      "metadata": {
        "colab": {
          "base_uri": "https://localhost:8080/",
          "height": 36
        },
        "id": "y8hAtoXijkVU",
        "outputId": "df19187a-c48b-4113-b129-657dc648f211"
      },
      "execution_count": null,
      "outputs": [
        {
          "output_type": "execute_result",
          "data": {
            "text/plain": [
              "'Hello, World'"
            ],
            "application/vnd.google.colaboratory.intrinsic+json": {
              "type": "string"
            }
          },
          "metadata": {},
          "execution_count": 25
        }
      ]
    },
    {
      "cell_type": "code",
      "source": [
        "def create_sq(x):\n",
        "    def sq(y):\n",
        "        return x ** y\n",
        "    return sq\n",
        "\n",
        "제곱2 = create_sq(2)\n",
        "제곱3 = create_sq(3)\n",
        "제곱4 = create_sq(4)\n",
        "\n",
        "제곱2(2), 제곱2(3), 제곱2(4)\n",
        "\n",
        "# 출력값 (4, 8, 16)"
      ],
      "metadata": {
        "colab": {
          "base_uri": "https://localhost:8080/"
        },
        "id": "9kmaItC14QWC",
        "outputId": "3f19c0db-1d12-4e22-a08f-7f1dbbb19760"
      },
      "execution_count": null,
      "outputs": [
        {
          "output_type": "execute_result",
          "data": {
            "text/plain": [
              "(4, 8, 16)"
            ]
          },
          "metadata": {},
          "execution_count": 27
        }
      ]
    },
    {
      "cell_type": "code",
      "source": [
        "# 내가 나를 호출하는 함수\n",
        "# 재귀는 내가 정말 재귀에 자신있다가 아니면 반복문을 사용하세요.\n",
        "# 재귀를 억지로 사용하려 하지 마세요.\n",
        "# 재귀를 잘못 사용하면 비효율의 끝판왕이 됩니다.\n",
        "# f(5) => 5 * 4 * 3 * 2 * 1 == 120 == 5! (수학 공식으로는 5!로 표현합니다.)\n",
        "\n",
        "def f(n):\n",
        "    if n <= 3:\n",
        "        return n\n",
        "    return n * f(n-1)\n",
        "\n",
        "f(5)"
      ],
      "metadata": {
        "colab": {
          "base_uri": "https://localhost:8080/"
        },
        "id": "dmPJByhR5FVG",
        "outputId": "b85e13f8-f28c-4ef6-bfb6-73800afe40f0"
      },
      "execution_count": null,
      "outputs": [
        {
          "output_type": "execute_result",
          "data": {
            "text/plain": [
              "60"
            ]
          },
          "metadata": {},
          "execution_count": 31
        }
      ]
    },
    {
      "cell_type": "code",
      "source": [
        "s = ''\n",
        "for i in 'hello':\n",
        "    s = i + s\n",
        "\n",
        "s\n",
        "\n",
        "# s = 'h' + ''\n",
        "# s = 'e' + 'h'\n",
        "# s = 'l' + 'eh'\n",
        "# s = 'l' + 'leh'\n",
        "# s = 'o' + 'lleh'\n",
        "# => 'olleh'"
      ],
      "metadata": {
        "colab": {
          "base_uri": "https://localhost:8080/",
          "height": 36
        },
        "id": "pphDzK9Y8m6F",
        "outputId": "f9bf438a-f268-410e-ea34-ba7bcd47438e"
      },
      "execution_count": null,
      "outputs": [
        {
          "output_type": "execute_result",
          "data": {
            "text/plain": [
              "'olleh'"
            ],
            "application/vnd.google.colaboratory.intrinsic+json": {
              "type": "string"
            }
          },
          "metadata": {},
          "execution_count": 34
        }
      ]
    },
    {
      "cell_type": "code",
      "source": [
        "def f(s):\n",
        "    if len(s) <= 1:\n",
        "        return s\n",
        "    return f(s[1:]) + s[0]\n",
        "\n",
        "f('hello')"
      ],
      "metadata": {
        "colab": {
          "base_uri": "https://localhost:8080/",
          "height": 36
        },
        "id": "AqUEHNCR8nii",
        "outputId": "e208a69a-a042-4342-e95d-309df067917e"
      },
      "execution_count": null,
      "outputs": [
        {
          "output_type": "execute_result",
          "data": {
            "text/plain": [
              "'olleh'"
            ],
            "application/vnd.google.colaboratory.intrinsic+json": {
              "type": "string"
            }
          },
          "metadata": {},
          "execution_count": 35
        }
      ]
    }
  ]
}