{
  "nbformat": 4,
  "nbformat_minor": 0,
  "metadata": {
    "colab": {
      "provenance": []
    },
    "kernelspec": {
      "name": "python3",
      "display_name": "Python 3"
    },
    "language_info": {
      "name": "python"
    }
  },
  "cells": [
    {
      "cell_type": "markdown",
      "source": [
        "# class 3번째 시간\n",
        "\n",
        "* class 클래스이름 => 인스턴스\n",
        "* class Post => 게시물1, 게시물2, 게시물3...\n",
        "* class Dot => 점1, 점2, 점3...\n",
        "* class Character => Licat(주인공), Lion(빌런), Mob1(몬스터)\n",
        "* class Matrix => 행렬1, 행렬2, 행렬3...\n",
        "* class User => 유저1, 유저2, 유저3...\n",
        "* class Cart(장바구니) => Cart1, Cart2, Cart3...\n",
        "* class Commnet(댓글) => 댓글1, 댓글2, 댓글3...\n",
        "* class Product => 상품1, 상품2, 상품3...\n",
        "* class Class_ => 강의1, 강의2, 강의3...\n",
        "* class Teacher => 강사1, 강사2, 강사3..."
      ],
      "metadata": {
        "id": "nSnwPOw6i45V"
      }
    },
    {
      "cell_type": "code",
      "source": [
        "from datetime import datetime\n",
        "\n",
        "datetime.now()"
      ],
      "metadata": {
        "colab": {
          "base_uri": "https://localhost:8080/"
        },
        "id": "5CNt-UOFjJcU",
        "outputId": "757153dc-b61b-43d1-b504-96b0f50cbbc2"
      },
      "execution_count": 2,
      "outputs": [
        {
          "output_type": "execute_result",
          "data": {
            "text/plain": [
              "datetime.datetime(2024, 1, 15, 5, 16, 21, 830673)"
            ]
          },
          "metadata": {},
          "execution_count": 2
        }
      ]
    },
    {
      "cell_type": "code",
      "source": [
        "class User:\n",
        "    user_count = 0\n",
        "    gender = ('남', '여')\n",
        "\n",
        "    def __init__(self, name, joindate, gender, age, email, password):\n",
        "        self.joindate = joindate\n",
        "        self.accessdate = joindate\n",
        "        self.name = name\n",
        "        self.gender = gender\n",
        "        self.age = age\n",
        "        self.email = email\n",
        "        self.password = password # 실무에서 이렇게 저장 절대 안합니다.\n",
        "        # (Django에서도 이렇게 저장해서 오류나는 경우 많습니다.)\n",
        "\n",
        "        # self.password = 39743FFC/FB179CEB/A590B68F/FF1A7C65/A9DB72B3/A5AD63E/E01A66C6/896A07311 + salt\n",
        "        # Django에서도 sha256을 사용합니다. 은행권에서는 이 알고리즘이 깨졌다고 보고 있습니다.\n",
        "        # sha512를 사용하려 노력을 합니다.\n",
        "        # MD5라는 알고리즘을 암호화 알고리즘으로 많이 사용했었는데 이게 깨졌습니다. (레인보우 어택)\n",
        "\n",
        "user1 = User('이호준', '2024/01/15', '남', 15, 'tttjjjyyy1234@daum.net', 'jeu2364458')\n",
        "user1.name\n",
        "user1.accessdate\n",
        "User.user_count = 1\n",
        "user2 = User('홍길동', '2024/01/15', '남', 30, 'gimiddi@google.com', 'gimoddi')\n",
        "user2.name\n",
        "User.user_count = 2\n",
        "\n",
        "user1.user_count\n",
        "\n",
        "# 무엇을 알 수 있나요? 실제로 class와 인스턴스의 메모리 영역은 교집합 상태\n",
        "# 한 곳에서 수정이 되면 모두 수정이 됩니다!\n",
        "# 그래서 처음에 클래스를 설계하실 때 모든 인스턴스에 있을 변수(클래스 변수)와\n",
        "# 인스턴스에만 있는 변수(인스턴스 변수)를 나누는 것이 매우 중요합니다!"
      ],
      "metadata": {
        "colab": {
          "base_uri": "https://localhost:8080/"
        },
        "id": "GyTKLe-BkPoK",
        "outputId": "620254d3-bc9d-4d57-a54a-0e8ca73aca49"
      },
      "execution_count": 4,
      "outputs": [
        {
          "output_type": "execute_result",
          "data": {
            "text/plain": [
              "2"
            ]
          },
          "metadata": {},
          "execution_count": 4
        }
      ]
    },
    {
      "cell_type": "code",
      "source": [
        "from datetime import datetime\n",
        "\n",
        "class User:\n",
        "    user_count = 0\n",
        "    gender = ('남', '여')\n",
        "\n",
        "    def __init__(self, name, joindate, gender, age, email, password):\n",
        "        self.joindate = joindate\n",
        "        self.accessdate = joindate\n",
        "        self.name = name\n",
        "        self.gender = gender\n",
        "        self.age = age\n",
        "        self.email = email\n",
        "        self.password = password\n",
        "\n",
        "    def change_password(self, password):\n",
        "        self.password = password\n",
        "        self.accessdate = datetime.now().strftime('%Y/%m/%d')\n",
        "\n",
        "    def update_email(self, email):\n",
        "        self.email = email\n",
        "        self.accessdate = datetime.now().strtime('%Y/%m/%d')\n",
        "\n",
        "    def display_profile(self):\n",
        "        print(f'name: {self.name}')\n",
        "        print(f'joindate: {self.joindate}')\n",
        "        print(f'accessdate: {self.accessdate}')\n",
        "\n",
        "    def __str__(self):\n",
        "        return self.name\n",
        "\n",
        "    def __repr__(self):\n",
        "        return self.name\n",
        "\n",
        "user1 = User('이호준', '2024/01/15', '남', 15, 'hojun@gmail.com', '1q2w3e4r!')\n",
        "user2 = User('홍길동', '2024/01/15', '남', 30, 'gildong@gmail.com', '1q2w3e4r!!')\n",
        "\n",
        "print(user1)\n",
        "print(user2)"
      ],
      "metadata": {
        "colab": {
          "base_uri": "https://localhost:8080/"
        },
        "id": "1lGKeppBm3aI",
        "outputId": "8d0259bc-7588-46eb-8e6b-546f6f6204e2"
      },
      "execution_count": 7,
      "outputs": [
        {
          "output_type": "stream",
          "name": "stdout",
          "text": [
            "이호준\n",
            "홍길동\n"
          ]
        }
      ]
    },
    {
      "cell_type": "code",
      "source": [
        "def f():\n",
        "    return\n",
        "\n",
        "f() # 반환 값이 None 이면 출력을 안합니다."
      ],
      "metadata": {
        "id": "ixek7JYZuiCl"
      },
      "execution_count": 8,
      "outputs": []
    },
    {
      "cell_type": "code",
      "source": [
        "# 수정된 버전\n",
        "# 이해 X, 복습 X\n",
        "import hashlib\n",
        "import re\n",
        "from datetime import datetime\n",
        "\n",
        "class User:\n",
        "    user_count = 0\n",
        "    gender = ('남', '여')\n",
        "\n",
        "    def __init__(self, name, joindate, gender, age, email, password):\n",
        "        self.joindate = joindate\n",
        "        self.accessdate = joindate\n",
        "        self.name = name\n",
        "        self.gender = gender\n",
        "        self.age = age\n",
        "        self.email = email\n",
        "        self.password = self._hash_password(password)\n",
        "\n",
        "    def _hash_password(self, password):\n",
        "        return hashlib.sha256(password.encode()).hexdigest()\n",
        "\n",
        "    def change_password(self, password): # django의 user.set_password('비밀번호')와 비슷한 역할\n",
        "        self.password = self._hash_password(password)\n",
        "        self.accessdate = datetime.now().strftime('%Y/%m/%d')\n",
        "\n",
        "    def update_email(self, email):\n",
        "        if self._validate_email(email):\n",
        "            self.email = email\n",
        "            self.accessdate = datetime.now().strftime('%Y/%m/%d')\n",
        "        else:\n",
        "            print(\"유효하지 않은 이메일 주소입니다.\")\n",
        "\n",
        "    def _validate_email(self, email):\n",
        "        pattern = r\"[\\w.-]+@[\\w.-]+\\.\\w+\"\n",
        "        return re.match(pattern, email) is not None\n",
        "\n",
        "    def display_profile(self):\n",
        "        print(f'name: {self.name}')\n",
        "        print(f'joindate: {self.joindate}')\n",
        "        print(f'accessdate: {self.accessdate}')\n",
        "        print(f'email: {self.email}')\n",
        "\n",
        "    def __str__(self):\n",
        "        return self.name\n",
        "\n",
        "    def __repr__(self):\n",
        "        return self.name\n",
        "\n",
        "user1 = User('이호준', '2024/01/15', '남', 15, 'hojun@gmail.com', '1q2w3e4r!')\n",
        "user2 = User('홍길동', '2024/01/15', '남', 30, 'gildong@gmail.com', '1q2w3e4r!!')\n",
        "\n",
        "print(user1)\n",
        "user1.display_profile()\n",
        "user1.password"
      ],
      "metadata": {
        "id": "g-OdP0KPqD0c"
      },
      "execution_count": null,
      "outputs": []
    },
    {
      "cell_type": "code",
      "source": [
        "# 온라인 쇼핑몰에서 장바구니에 넣기\n",
        "\n",
        "class Cart:\n",
        "    def __init__(self):\n",
        "        self.items = []\n",
        "\n",
        "    def add_item(self, item, count):\n",
        "        self.items.append({\n",
        "            '물품': item,\n",
        "            '갯수': count,\n",
        "        })\n",
        "\n",
        "    def total_price(self):\n",
        "        total_sum = 0\n",
        "        for i in self.items:\n",
        "            s += i['물품'].price * i['갯수']\n",
        "        return format(total_sum, ',')\n",
        "\n",
        "class Product:\n",
        "    def __init__(self, product_name, price):\n",
        "        self.product_name = product_name\n",
        "        self.price = price\n",
        "\n",
        "    def __str__(self):\n",
        "        return self.product_name\n",
        "\n",
        "    def __repr__(self):\n",
        "        return self.product_name\n",
        "\n",
        "로지텍키보드 = Product('로지텍키보드', 50000)\n",
        "LG모니터 = Product('LG모니터', 300000)\n",
        "그래픽카드4090 = Product('GTX4090', 2000000)\n",
        "\n",
        "hojun_cart = Cart()\n",
        "hojun_cart.add_item(로지텍키보드, 10)\n",
        "hojun_cart.add_item(LG모니터, 10)\n",
        "hojun_cart.add_item(그래픽카드4090, 2)\n",
        "hojun_cart.items"
      ],
      "metadata": {
        "colab": {
          "base_uri": "https://localhost:8080/"
        },
        "id": "lguSMnLnusex",
        "outputId": "05f91947-b5cb-4028-e5ee-7b8f4ea62375"
      },
      "execution_count": 11,
      "outputs": [
        {
          "output_type": "execute_result",
          "data": {
            "text/plain": [
              "[{'물품': 로지텍키보드, '갯수': 10}, {'물품': LG모니터, '갯수': 10}, {'물품': GTX4090, '갯수': 2}]"
            ]
          },
          "metadata": {},
          "execution_count": 11
        }
      ]
    },
    {
      "cell_type": "code",
      "source": [
        "# 온라인 쇼핑몰에서 장바구니에 넣기\n",
        "\n",
        "class Cart:\n",
        "    def __init__(self):\n",
        "        self.items = []\n",
        "\n",
        "    def add_item(self, item, count):\n",
        "        self.items.append({\n",
        "            '물품': item,\n",
        "            '갯수': count,\n",
        "        })\n",
        "\n",
        "    def total_price(self):\n",
        "        total_sum = 0\n",
        "        for i in self.items:\n",
        "            total_sum += i['물품'].price * i['갯수']\n",
        "        return format(total_sum, ',')\n",
        "\n",
        "class Product:\n",
        "    def __init__(self, product_name, price):\n",
        "        self.product_name = product_name\n",
        "        self.price = price\n",
        "\n",
        "    def __str__(self):\n",
        "        return self.product_name\n",
        "\n",
        "    def __repr__(self):\n",
        "        return self.product_name\n",
        "\n",
        "로지텍키보드 = Product('로지텍키보드', 50000)\n",
        "LG모니터 = Product('LG모니터', 300000)\n",
        "그래픽카드4090 = Product('GTX4090', 2000000)\n",
        "\n",
        "hojun_cart = Cart()\n",
        "hojun_cart.add_item(로지텍키보드, 10)\n",
        "hojun_cart.add_item(LG모니터, 10)\n",
        "hojun_cart.add_item(그래픽카드4090, 2)\n",
        "print(hojun_cart.items)\n",
        "hojun_cart.total_price()"
      ],
      "metadata": {
        "colab": {
          "base_uri": "https://localhost:8080/",
          "height": 54
        },
        "id": "irN9NAcAzH8I",
        "outputId": "8ee877b2-0b1f-40bf-e76b-97bf643bed7f"
      },
      "execution_count": 13,
      "outputs": [
        {
          "output_type": "stream",
          "name": "stdout",
          "text": [
            "[{'물품': 로지텍키보드, '갯수': 10}, {'물품': LG모니터, '갯수': 10}, {'물품': GTX4090, '갯수': 2}]\n"
          ]
        },
        {
          "output_type": "execute_result",
          "data": {
            "text/plain": [
              "'7,500,000'"
            ],
            "application/vnd.google.colaboratory.intrinsic+json": {
              "type": "string"
            }
          },
          "metadata": {},
          "execution_count": 13
        }
      ]
    },
    {
      "cell_type": "code",
      "source": [
        "# 클래스 메서드\n",
        "# 클래스 메서드는 클래스 변수를 변경하고 싶을 때 사용합니다.\n",
        "# 주의해야 할 점이 첫번째 인자로 오는 cls는 관습으로 고정입니다.\n",
        "# self가 a로 바꾸면 작동은 하지만 관습적으로 안되는 것처럼 cls도 바꾸시면 안됩니다.\n",
        "# cls는 class를 나타냅니다.\n",
        "\n",
        "class MyClass:\n",
        "    count = 0\n",
        "\n",
        "    @classmethod\n",
        "    def increment(cls):\n",
        "        cls.count += 1\n",
        "\n",
        "MyClass.increment()\n",
        "print(MyClass.count)  # 출력: 1"
      ],
      "metadata": {
        "id": "SduI0jNEz9xS"
      },
      "execution_count": null,
      "outputs": []
    },
    {
      "cell_type": "code",
      "source": [
        "# 강사님이 권장하는 케이스\n",
        "\n",
        "class Book:\n",
        "    def __init__(self, name, price):\n",
        "        self.name = name\n",
        "        self.price = price\n",
        "\n",
        "    @staticmethod\n",
        "    def 할인율(원가, 할인):\n",
        "        return 원가 * (1-(할인/100))\n",
        "\n",
        "boo1 = Book('python 100제', 9000)\n",
        "\n",
        "Book.할인율(boo1.price, 10) # 밖으로 뺄 수 있는 함수이고, 굳이 안에 들어갈 필요가 없죠?\n",
        "# 그런데 할인율은 Book과 연관이 있습니다.\n",
        "# 이렇게 코딩을 하시면 유지보수하기가 좋습니다."
      ],
      "metadata": {
        "colab": {
          "base_uri": "https://localhost:8080/"
        },
        "id": "pwPCIVFf1pch",
        "outputId": "3ae75dbc-19ac-4e3c-9744-9c0d8dfe36a3"
      },
      "execution_count": 14,
      "outputs": [
        {
          "output_type": "execute_result",
          "data": {
            "text/plain": [
              "8100.0"
            ]
          },
          "metadata": {},
          "execution_count": 14
        }
      ]
    },
    {
      "cell_type": "code",
      "source": [
        "# 비권장하는 케이스\n",
        "\n",
        "class Book:\n",
        "    def __init__(self, name, price):\n",
        "        self.name = name\n",
        "        self.price = price\n",
        "\n",
        "def 할인율(원가, 할인):\n",
        "    return 원가 * (1-(할인/100))\n",
        "\n",
        "boo1 = Book('python 100제', 9000)\n",
        "\n",
        "할인율(boo1.price, 10)"
      ],
      "metadata": {
        "colab": {
          "base_uri": "https://localhost:8080/"
        },
        "id": "ghPvX8jX1vOM",
        "outputId": "201735c0-3781-4be9-ac87-a55086f964e9"
      },
      "execution_count": 15,
      "outputs": [
        {
          "output_type": "execute_result",
          "data": {
            "text/plain": [
              "8100.0"
            ]
          },
          "metadata": {},
          "execution_count": 15
        }
      ]
    },
    {
      "cell_type": "code",
      "source": [
        "# 중요도 높지 않음\n",
        "# 별표 0.1개\n",
        "# 속성 접근자 (Property)\n",
        "\n",
        "class Person:\n",
        "    def __init__(self, first_name, last_name):\n",
        "        self._first_name = first_name\n",
        "        self._last_name = last_name\n",
        "\n",
        "    # @property(속성 접근자)\n",
        "    def full_name(self):\n",
        "        return f'{self._first_name}{self._last_name}'\n",
        "\n",
        "licat = Person('li', 'cat')\n",
        "print(licat._first_name)\n",
        "print(licat._last_name)\n",
        "print(licat.full_name)\n",
        "# print(licat.full_name())"
      ],
      "metadata": {
        "colab": {
          "base_uri": "https://localhost:8080/"
        },
        "id": "-SZnxIrS2Hx3",
        "outputId": "248f5618-b249-40eb-f0d0-f2ed75038a34"
      },
      "execution_count": 16,
      "outputs": [
        {
          "output_type": "stream",
          "name": "stdout",
          "text": [
            "li\n",
            "cat\n",
            "<bound method Person.full_name of <__main__.Person object at 0x7b254d2773a0>>\n"
          ]
        }
      ]
    },
    {
      "cell_type": "code",
      "source": [
        "# 덕타이핑\n",
        "# https://world.weniv.co.kr/\n",
        "\n",
        "# licat.move()\n",
        "# move() => 직관적이고 누가 움직이는지는 알고 싶지 않고 주인공을 앞으로 한 칸 움직이고 싶다.\n",
        "\n",
        "class Duck:\n",
        "    def quack(self):\n",
        "        print('꽥꽥!')\n",
        "\n",
        "class Person:\n",
        "    def quack(self):\n",
        "        print(\"안녕하세요!\")\n",
        "\n",
        "def quack(obj):\n",
        "    obj.quack()\n",
        "\n",
        "duck = Duck()\n",
        "person = Person()\n",
        "\n",
        "quack(duck)  # 출력: 꽥꽥! duck.quack() 대신 quack(duck)를 사용하겠다.\n",
        "quack(person)  # 출력: 안녕하세요! person.quack() 대신 quack(person)를 사용하겠다."
      ],
      "metadata": {
        "colab": {
          "base_uri": "https://localhost:8080/"
        },
        "id": "svlD2nUq33WI",
        "outputId": "f9c540ba-b6f6-415e-e336-747a7fa789f4"
      },
      "execution_count": 17,
      "outputs": [
        {
          "output_type": "stream",
          "name": "stdout",
          "text": [
            "꽥꽥!\n",
            "안녕하세요!\n"
          ]
        }
      ]
    },
    {
      "cell_type": "code",
      "source": [
        "# 오버라이딩\n",
        "\n",
        "class Animal:\n",
        "    def sound(self):\n",
        "        print(\"기본 동물 울음 소리, 악!\")\n",
        "\n",
        "class Dog(Animal):\n",
        "    def sound(self):\n",
        "        print(\"왈왈!\")\n",
        "\n",
        "class Cat(Animal):\n",
        "    def sound(self):\n",
        "        print(\"냐옹!\")"
      ],
      "metadata": {
        "id": "LHhaCOk_4ilY"
      },
      "execution_count": 18,
      "outputs": []
    },
    {
      "cell_type": "code",
      "source": [
        "# 비공개 속성\n",
        "# 시큐어 코딩\n",
        "\n",
        "class MyClass:\n",
        "    __a = 10 # 비공개 속성(Private Attributes)\n",
        "    _a = 100\n",
        "    b = 20\n",
        "\n",
        "    def __init__(self, c, d):\n",
        "        self.__c = c\n",
        "        self.d = d\n",
        "\n",
        "c = MyClass(30, 40)\n",
        "c._a # 보통 다른 언어에서는 _ 한개가 prive value입니다.\n",
        "# c.__a # 어? 접근이 안되네!? 이걸로 변수를 감추면 되겠다!? => 이렇게 생각하면 안된다는 것입니다.\n",
        "\n",
        "# c.__a #error\n",
        "# c._a # 출력: 100\n",
        "# c.b # 출력: 20\n",
        "# # c.__c # error\n",
        "# c.d # 출력: 40\n",
        "\n",
        "print(c._MyClass__c) # 실제로는 이렇게 출력할 수 있습니다."
      ],
      "metadata": {
        "colab": {
          "base_uri": "https://localhost:8080/"
        },
        "id": "zFDuSsyl_ZvE",
        "outputId": "519fa32a-695b-4b35-e72f-e6a89f70f869"
      },
      "execution_count": 20,
      "outputs": [
        {
          "output_type": "stream",
          "name": "stdout",
          "text": [
            "30\n"
          ]
        }
      ]
    },
    {
      "cell_type": "code",
      "source": [
        "# 오버라이딩\n",
        "# 자식이 부모의 메서드를 덮어 쓰는 것\n",
        "\n",
        "class Animal:\n",
        "    def sound(self):\n",
        "        print(\"기본 동물 울음 소리, 악!\")\n",
        "\n",
        "class Dog(Animal):\n",
        "    def sound(self):\n",
        "        print(\"왈왈!\")\n",
        "\n",
        "class Cat(Animal):\n",
        "    def sound(self):\n",
        "        print(\"냐옹!\")\n",
        "\n",
        "# super()를 사용해서 부모의 메서드를 사용 할 수 있습니다.\n",
        "class Bird(Animal):\n",
        "    def sound(self):\n",
        "        super().sound()\n",
        "        print(\"짹짹!\")\n",
        "\n",
        "b = Bird()\n",
        "b.sound()"
      ],
      "metadata": {
        "colab": {
          "base_uri": "https://localhost:8080/"
        },
        "id": "gLYxaLpp3Ung",
        "outputId": "f278e7c1-3b70-451c-ca78-294bc542dc28"
      },
      "execution_count": 21,
      "outputs": [
        {
          "output_type": "stream",
          "name": "stdout",
          "text": [
            "기본 동물 울음 소리, 악!\n",
            "짹짹!\n"
          ]
        }
      ]
    },
    {
      "cell_type": "code",
      "source": [
        "# 오버라이딩\n",
        "# 자식이 부모의 메서드를 덮어 쓰는 것\n",
        "\n",
        "class Animal:\n",
        "    def sound(self):\n",
        "        print(\"기본 동물 울음 소리, 악!\")\n",
        "\n",
        "class Dog(Animal):\n",
        "    def sound(self):\n",
        "        print(\"왈왈!\")\n",
        "\n",
        "class Cat(Animal):\n",
        "    def sound(self):\n",
        "        print(\"냐옹!\")\n",
        "\n",
        "# super()를 사용해서 부모의 메서드를 사용 할 수 있습니다.\n",
        "class Bird(Animal):\n",
        "    def sound(self):\n",
        "        super().sound()\n",
        "        print(\"짹짹!\")\n",
        "\n",
        "b = Dog()\n",
        "b.sound()"
      ],
      "metadata": {
        "colab": {
          "base_uri": "https://localhost:8080/"
        },
        "id": "PCHgq6IxBJEY",
        "outputId": "cf2201c5-bbe7-4021-b31e-53beaf0365ee"
      },
      "execution_count": 2,
      "outputs": [
        {
          "output_type": "stream",
          "name": "stdout",
          "text": [
            "왈왈!\n"
          ]
        }
      ]
    },
    {
      "cell_type": "code",
      "source": [
        "from abc import ABC, abstractmethod\n",
        "\n",
        "class AbstractClassExample(ABC):\n",
        "\n",
        "    @abstractmethod\n",
        "    def do_something(self):\n",
        "        pass\n",
        "\n",
        "class Person(AbstractClassExample):\n",
        "\n",
        "    def __init__(self, name):\n",
        "        self.name = name\n",
        "\n",
        "    def do_something(self):\n",
        "        print(f'{self.name}이 무언가를 합니다.')  # do_something 메서드를 구현\n",
        "\n",
        "    def print_name(self):\n",
        "        print(f'제 이름은 {self.name}입니다.')\n",
        "\n",
        "hojun = Person('hojun')\n",
        "hojun.do_something()  # 오류가 발생하지 않고 메서드가 호출됨\n",
        "hojun.print_name()"
      ],
      "metadata": {
        "colab": {
          "base_uri": "https://localhost:8080/"
        },
        "id": "546VDt6ySAs0",
        "outputId": "f8d3fe46-f9cc-4f9d-d728-96ce7b5a61dc"
      },
      "execution_count": 7,
      "outputs": [
        {
          "output_type": "stream",
          "name": "stdout",
          "text": [
            "hojun이 무언가를 합니다.\n",
            "제 이름은 hojun입니다.\n"
          ]
        }
      ]
    },
    {
      "cell_type": "code",
      "source": [
        "# 비공개 속성\n",
        "# 시큐어 코딩\n",
        "\n",
        "class MyClass:\n",
        "    __a = 10 # 비공개 속성(Private Attributes)\n",
        "    _a = 100\n",
        "    b = 20\n",
        "\n",
        "    def __init__(self, c, d):\n",
        "        self.__c = c\n",
        "        self.d = d\n",
        "\n",
        "c = MyClass(30, 40)\n",
        "c._a # 보통 다른 언어에서는 _ 한개가 prive value입니다.\n",
        "# c.__a # 어? 접근이 안되네!? 이걸로 변수를 감추면 되겠다!? => 이렇게 생각하면 안된다는 것입니다.\n",
        "\n",
        "# c.__a # error\n",
        "# c._a # 출력: 100\n",
        "# c.b # 출력: 20\n",
        "# # c.__c # error\n",
        "# c.d # 출력: 40\n",
        "\n",
        "print(c._MyClass__c) # 실제로는 이렇게 출력할 수 있습니다.\n",
        "print(c.d)"
      ],
      "metadata": {
        "colab": {
          "base_uri": "https://localhost:8080/"
        },
        "id": "QWR14oRPSzjO",
        "outputId": "f410aa69-4edf-474f-ebf3-f45ac4a895a4"
      },
      "execution_count": 14,
      "outputs": [
        {
          "output_type": "stream",
          "name": "stdout",
          "text": [
            "30\n",
            "40\n"
          ]
        }
      ]
    },
    {
      "cell_type": "code",
      "source": [
        "'''\n",
        "요구사항\n",
        "- 각 댓글은 고유한 ID, 작성자 이름, 댓글 내용, 작성 시간을 가져야 합니다.\n",
        "- 댓글은 하나 이상의 대댓글을 가질 수 있어야 합니다.\n",
        "- 대댓글도 Comment 클래스의 인스턴스로 생성되며, 원 댓글에 종속됩니다.\n",
        "- 시간은 '년-월-일 시:분' 형식으로 표시되어야 합니다.\n",
        "- (선택 과제) 댓글 출력 기능 - 계층적 출력을 해보세요.\n",
        "- (선택 과제)댓글에 대한 좋아요 기능을 추가할 수 있습니다.\n",
        "'''\n",
        "\n",
        "from datetime import datetime\n",
        "\n",
        "class Comment: # comment 클래스 지정\n",
        "    def __init__(self, comment_id, author, content, parent_comment=None):\n",
        "        self.comment_id = comment_id\n",
        "        self.author = author\n",
        "        self.content = content\n",
        "        self.timestamp = datetime.now().strftime('%Y-%m-%d %H:%M')\n",
        "        self.parent_comment = parent_comment # 원 댓글\n",
        "        self.replies = [] # 대댓글\n",
        "\n",
        "class Comment:\n",
        "    def __init__(self): # 메소드 지정\n",
        "        pass\n",
        "\n",
        "    def add_reply(self, reply_id, reply_author, reply_content): # 메소드 지정\n",
        "        reply = Comment(reply_id, reply_author, reply_content, parent_comment=self)\n",
        "        self.replies.append(reply)\n",
        "        return reply\n",
        "\n",
        "# Example Usage:\n",
        "\n",
        "# Create a root comment\n",
        "root_comment = Comment(comment_id=1, author=\"Alice\", content=\"This is the main comment.\")\n",
        "\n",
        "# Add replies to the root comment\n",
        "reply1 = root_comment.add_reply(comment_id=2, reply_author=\"Bob\", reply_content=\"I agree.\")\n",
        "reply2 = root_comment.add_reply(comment_id=3, reply_author=\"Charlie\", reply_content=\"Disagree with some points.\")\n",
        "\n",
        "# Add replies to one of the replies\n",
        "reply1.add_reply(comment_id=4, reply_author=\"David\", reply_content=\"What about this?\")\n",
        "reply2.add_reply(comment_id=5, reply_author=\"Eve\", reply_content=\"I have a different perspective.\")\n",
        "\n",
        "# Print the root comment and its replies\n",
        "print(\"Root Comment:\")\n",
        "print(f\"ID: {root_comment.comment_id}\")\n",
        "print(f\"Author: {root_comment.author}\")\n",
        "print(f\"Content: {root_comment.content}\")\n",
        "print(f\"Timestamp: {root_comment.timestamp}\")\n",
        "print(\"Replies:\")\n",
        "for reply in root_comment.replies:\n",
        "    print(f\"  - ID: {reply.comment_id}, Author: {reply.author}, Content: {reply.content}, Timestamp: {reply.timestamp}\")\n",
        "    for sub_reply in reply.replies:\n",
        "        print(f\"    - ID: {sub_reply.comment_id}, Author: {sub_reply.author}, Content: {sub_reply.content}, Timestamp: {sub_reply.timestamp}\")"
      ],
      "metadata": {
        "colab": {
          "base_uri": "https://localhost:8080/",
          "height": 260
        },
        "id": "ckmT72XjaZE4",
        "outputId": "9db33eb0-0465-45fe-c905-ff021c21fa09"
      },
      "execution_count": 15,
      "outputs": [
        {
          "output_type": "error",
          "ename": "TypeError",
          "evalue": "Comment.__init__() got an unexpected keyword argument 'comment_id'",
          "traceback": [
            "\u001b[0;31m---------------------------------------------------------------------------\u001b[0m",
            "\u001b[0;31mTypeError\u001b[0m                                 Traceback (most recent call last)",
            "\u001b[0;32m<ipython-input-15-1098620513e7>\u001b[0m in \u001b[0;36m<cell line: 34>\u001b[0;34m()\u001b[0m\n\u001b[1;32m     32\u001b[0m \u001b[0;34m\u001b[0m\u001b[0m\n\u001b[1;32m     33\u001b[0m \u001b[0;31m# Create a root comment\u001b[0m\u001b[0;34m\u001b[0m\u001b[0;34m\u001b[0m\u001b[0m\n\u001b[0;32m---> 34\u001b[0;31m \u001b[0mroot_comment\u001b[0m \u001b[0;34m=\u001b[0m \u001b[0mComment\u001b[0m\u001b[0;34m(\u001b[0m\u001b[0mcomment_id\u001b[0m\u001b[0;34m=\u001b[0m\u001b[0;36m1\u001b[0m\u001b[0;34m,\u001b[0m \u001b[0mauthor\u001b[0m\u001b[0;34m=\u001b[0m\u001b[0;34m\"Alice\"\u001b[0m\u001b[0;34m,\u001b[0m \u001b[0mcontent\u001b[0m\u001b[0;34m=\u001b[0m\u001b[0;34m\"This is the main comment.\"\u001b[0m\u001b[0;34m)\u001b[0m\u001b[0;34m\u001b[0m\u001b[0;34m\u001b[0m\u001b[0m\n\u001b[0m\u001b[1;32m     35\u001b[0m \u001b[0;34m\u001b[0m\u001b[0m\n\u001b[1;32m     36\u001b[0m \u001b[0;31m# Add replies to the root comment\u001b[0m\u001b[0;34m\u001b[0m\u001b[0;34m\u001b[0m\u001b[0m\n",
            "\u001b[0;31mTypeError\u001b[0m: Comment.__init__() got an unexpected keyword argument 'comment_id'"
          ]
        }
      ]
    },
    {
      "cell_type": "code",
      "source": [
        "from datetime import datetime\n",
        "\n",
        "class Comment:\n",
        "    def __init__(self, comment_id, author, content, parent_comment=None):\n",
        "        self.comment_id = comment_id\n",
        "        self.author = author\n",
        "        self.content = content\n",
        "        self.timestamp = datetime.now().strftime('%Y-%m-%d %H:%M')\n",
        "        self.parent_comment = parent_comment\n",
        "        self.replies = []\n",
        "\n",
        "    def add_reply(self, reply_author, reply_content):\n",
        "        # 대댓글의 comment_id는 자동으로 생성되도록 변경\n",
        "        reply_id = len(self.replies) + 1\n",
        "        reply = Comment(reply_id, reply_author, reply_content, parent_comment=self)\n",
        "        self.replies.append(reply)\n",
        "        return reply\n",
        "\n",
        "# Example Usage:\n",
        "\n",
        "# Create a root comment\n",
        "root_comment = Comment(comment_id=1, author=\"Alice\", content=\"This is the main comment.\")\n",
        "\n",
        "# Add replies to the root comment\n",
        "reply1 = root_comment.add_reply(reply_author=\"Bob\", reply_content=\"I agree.\")\n",
        "reply2 = root_comment.add_reply(reply_author=\"Charlie\", reply_content=\"Disagree with some points.\")\n",
        "\n",
        "# Add replies to one of the replies\n",
        "reply1.add_reply(reply_author=\"David\", reply_content=\"What about this?\")\n",
        "reply2.add_reply(reply_author=\"Eve\", reply_content=\"I have a different perspective.\")\n",
        "\n",
        "# Print the root comment and its replies\n",
        "print(\"Root Comment:\")\n",
        "print(f\"ID: {root_comment.comment_id}\")\n",
        "print(f\"Author: {root_comment.author}\")\n",
        "print(f\"Content: {root_comment.content}\")\n",
        "print(f\"Timestamp: {root_comment.timestamp}\")\n",
        "print(\"Replies:\")\n",
        "for reply in root_comment.replies:\n",
        "    print(f\"  - ID: {reply.comment_id}, Author: {reply.author}, Content: {reply.content}, Timestamp: {reply.timestamp}\")\n",
        "    for sub_reply in reply.replies:\n",
        "        print(f\"    - ID: {sub_reply.comment_id}, Author: {sub_reply.author}, Content: {sub_reply.content}, Timestamp: {sub_reply.timestamp}\")"
      ],
      "metadata": {
        "colab": {
          "base_uri": "https://localhost:8080/"
        },
        "id": "JkydVHDHmNbD",
        "outputId": "dca4a6d5-bd93-41ed-a174-084a57135e2f"
      },
      "execution_count": 17,
      "outputs": [
        {
          "output_type": "stream",
          "name": "stdout",
          "text": [
            "Root Comment:\n",
            "ID: 1\n",
            "Author: Alice\n",
            "Content: This is the main comment.\n",
            "Timestamp: 2024-01-15 14:53\n",
            "Replies:\n",
            "  - ID: 1, Author: Bob, Content: I agree., Timestamp: 2024-01-15 14:53\n",
            "    - ID: 1, Author: David, Content: What about this?, Timestamp: 2024-01-15 14:53\n",
            "  - ID: 2, Author: Charlie, Content: Disagree with some points., Timestamp: 2024-01-15 14:53\n",
            "    - ID: 1, Author: Eve, Content: I have a different perspective., Timestamp: 2024-01-15 14:53\n"
          ]
        }
      ]
    }
  ]
}