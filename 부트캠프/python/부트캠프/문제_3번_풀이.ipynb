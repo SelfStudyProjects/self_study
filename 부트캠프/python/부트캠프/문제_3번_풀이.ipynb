{
  "nbformat": 4,
  "nbformat_minor": 0,
  "metadata": {
    "colab": {
      "provenance": []
    },
    "kernelspec": {
      "name": "python3",
      "display_name": "Python 3"
    },
    "language_info": {
      "name": "python"
    }
  },
  "cells": [
    {
      "cell_type": "code",
      "execution_count": 2,
      "metadata": {
        "colab": {
          "base_uri": "https://localhost:8080/"
        },
        "id": "s5V51BKDL7p8",
        "outputId": "3cf97696-82de-4312-dbfc-ad9ec54691f8"
      },
      "outputs": [
        {
          "output_type": "stream",
          "name": "stdout",
          "text": [
            "['Licat']\n"
          ]
        }
      ],
      "source": [
        "# 문제 3_1\n",
        "# 라이캣은 연말 출시할 게임의 게임 난이도를 조절하는 업무를 담당하게 되었습니다.\n",
        "# 우선 능력치가 비정상적으로 높은 캐릭터들의 리스트를 뽑고자 합니다. 캐릭터 이름, 공격력, 방어력, 체력, 마력이\n",
        "# 리스트로 ['Licat', 98, 30, 21, 60]와 같이 주어졌을 때 모든 능력치의 합이 350 이상이 되는 캐릭터의 이름을 출력하는 solution함수를 완성해주세요.\n",
        "\n",
        "# 제한 사항\n",
        "\n",
        "# 3 ≤ 캐릭터의 수 ≤ 10\n",
        "# 10 ≤ 능력치 ≤ 100\n",
        "# 350이 넘는 캐릭터의 이름은 알파벳 순으로 출력합니다.\n",
        "\n",
        "# 입력\t출력\n",
        "# [['Licat', 98, 92, 85, 97], ['Mura', 95, 32, 51, 30], ['Binky', 98, 98, 51, 32]]\t['Licat']\n",
        "# [['Gray', 98, 92, 85, 97], ['Gom', 98, 30, 21, 60], ['Allosa', 98, 90, 99, 98]]\t['Allosa', 'Gary']\n",
        "\n",
        "# 입출력 설명\n",
        "# [['Licat', 98, 92, 85, 97], ['Mura', 95, 32, 51, 30], ['Binky', 98, 98, 51, 32]]이\n",
        "# 입력되었을 때 모든 능력치의 합이 350이 넘는 캐릭터는 'Licat'뿐입니다. 'Licat'은 98 + 92 + 85 + 97 = 372로 350이 넘어갑니다.\n",
        "# 따라서 'Licat'을 리스트에 담아 출력합니다. 여러명일 경우 알파벳 순으로 정렬하여 출력하여야 합니다.\n",
        "\n",
        "def solution(characters):\n",
        "    high_stat_characters = []\n",
        "\n",
        "    for character in characters:\n",
        "        total_stat = sum(character[1:])\n",
        "        if total_stat >= 350:\n",
        "            high_stat_characters.append(character[0])\n",
        "\n",
        "    high_stat_characters.sort()  # 알파벳 순으로 정렬\n",
        "    return high_stat_characters\n",
        "\n",
        "# 테스트 케이스\n",
        "characters1 = [['Licat', 98, 92, 85, 97], ['Mura', 95, 32, 51, 30], ['Binky', 98, 98, 51, 32]]\n",
        "\n",
        "print(solution(characters1))  # ['Licat']"
      ]
    },
    {
      "cell_type": "code",
      "source": [
        "# 문제 설명 :\n",
        "# 일주일 동안의 최고 기온이 기록된 데이터가 주어집니다.\n",
        "# 이 데이터에서 가장 높은 온도를 기록한 상위 3일을 찾아 'YY-MM-DD: 온도' 형식으로 반환하는 코드를 작성해주세요.\n",
        "# 데이터는 'YYYY-MM-DD' 형식의 날짜와 해당 날짜의 최고 온도(섭씨)로 구성됩니다.\n",
        "\n",
        "# 제한 사항 :\n",
        "# 각 날짜의 최고 온도는 정수로 주어집니다.\n",
        "# 기온 데이터는 최소 7개(일주일)에서 최대 30개(한달)까지 주어질 수 있습니다.\n",
        "# 날짜는 중복되지 않습니다.\n",
        "# 중복된 온도일 경우 날짜가 빠른 것이 앞에 정렬되어야 합니다.\n",
        "\n",
        "from datetime import datetime\n",
        "\n",
        "def solution(data):\n",
        "  sorted_data = sorted(data.items(), key=lambda x: (x[1], x[0]))\n",
        "  top3_days = reversed(sorted_data[-3:])\n",
        "\n",
        "  result = []\n",
        "  for day in top3_days :\n",
        "    formatted_date = datetime.strptime(day[0], '%Y-%m-%d').strftime('%y-%m-%d')\n",
        "    result.append(f'{formatted_date}: {day[1]}')\n",
        "\n",
        "  print(result)\n",
        "\n",
        "# 테스트 케이스\n",
        "temperature_data = {'2024-01-01': 15, '2024-01-02': 17, '2024-01-03': 16, '2024-01-04': 20, '2024-01-05': 19, '2024-01-06': 21, '2024-01-07': 18}\n",
        "solution(temperature_data)"
      ],
      "metadata": {
        "colab": {
          "base_uri": "https://localhost:8080/"
        },
        "id": "BBqNARYpPGnD",
        "outputId": "d24e5564-fdfc-4e27-be41-b2f6dc23ceb7"
      },
      "execution_count": 21,
      "outputs": [
        {
          "output_type": "stream",
          "name": "stdout",
          "text": [
            "['24-01-06: 21', '24-01-04: 20', '24-01-05: 19']\n"
          ]
        }
      ]
    }
  ]
}