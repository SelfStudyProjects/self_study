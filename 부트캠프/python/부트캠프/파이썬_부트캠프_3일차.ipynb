{
  "nbformat": 4,
  "nbformat_minor": 0,
  "metadata": {
    "colab": {
      "provenance": []
    },
    "kernelspec": {
      "name": "python3",
      "display_name": "Python 3"
    },
    "language_info": {
      "name": "python"
    }
  },
  "cells": [
    {
      "cell_type": "markdown",
      "source": [
        "1. 이번에 매일 ___ 커밋을 하기로 했다.\n",
        "2. 2024년의 목표는 ___ 언어를 배우는 것이다.\n",
        "3. 2024년에 개발 협업 프로젝트를 __개 이상 잘 소화해내는 것이다."
      ],
      "metadata": {
        "id": "QTkhBWL5ozVT"
      }
    },
    {
      "cell_type": "code",
      "source": [
        "sentence_1 = input('이번에 매일 ___ 커밋을 하기로 했다.')"
      ],
      "metadata": {
        "colab": {
          "base_uri": "https://localhost:8080/"
        },
        "id": "utTD-F8Ko228",
        "outputId": "d0c47dcf-67ac-4644-cf85-45776d18c4c6"
      },
      "execution_count": 1,
      "outputs": [
        {
          "name": "stdout",
          "output_type": "stream",
          "text": [
            "이번에 매일 ___ 커밋을 하기로 했다.1\n"
          ]
        }
      ]
    },
    {
      "cell_type": "code",
      "source": [
        "print(f'이번에 매일 {sentence_1} 커밋을 하기로 했다.\\n')"
      ],
      "metadata": {
        "colab": {
          "base_uri": "https://localhost:8080/"
        },
        "id": "bHMQ_QeEo5Ap",
        "outputId": "b76609f9-c19a-4ae1-82d7-d2e470dd53e1"
      },
      "execution_count": 3,
      "outputs": [
        {
          "output_type": "stream",
          "name": "stdout",
          "text": [
            "이번에 매일 1 커밋을 하기로 했다.\n",
            "\n"
          ]
        }
      ]
    },
    {
      "cell_type": "code",
      "source": [
        "word_1 = input('2024년의 목표는 ___ 언어를 배우는 것이다.')"
      ],
      "metadata": {
        "colab": {
          "base_uri": "https://localhost:8080/"
        },
        "id": "gae0EB0so82j",
        "outputId": "19f5e2fa-8f01-4264-b715-1f6826832a01"
      },
      "execution_count": 5,
      "outputs": [
        {
          "name": "stdout",
          "output_type": "stream",
          "text": [
            "2024년의 목표는 ___ 언어를 배우는 것이다.파이썬\n"
          ]
        }
      ]
    },
    {
      "cell_type": "code",
      "source": [
        "print(f'2024년의 목표는 {word_1} 언어를 배우는 것이다.\\n')"
      ],
      "metadata": {
        "colab": {
          "base_uri": "https://localhost:8080/"
        },
        "id": "a8cMnVj7o_mr",
        "outputId": "8af034a2-41fe-4521-9f34-a08cdcee6495"
      },
      "execution_count": 6,
      "outputs": [
        {
          "output_type": "stream",
          "name": "stdout",
          "text": [
            "2024년의 목표는 파이썬 언어를 배우는 것이다.\n",
            "\n"
          ]
        }
      ]
    },
    {
      "cell_type": "code",
      "source": [
        "word_2 = input('2024년에 개발 협업 프로젝트를 __개 이상 잘 소화해내는 것이다.')"
      ],
      "metadata": {
        "colab": {
          "base_uri": "https://localhost:8080/"
        },
        "id": "7LkVicLjpZ3W",
        "outputId": "07c17fa1-156c-4bbf-dfc9-33585e55da8d"
      },
      "execution_count": 7,
      "outputs": [
        {
          "name": "stdout",
          "output_type": "stream",
          "text": [
            "2024년에 개발 협업 프로젝트를 __개 이상 잘 소화해내는 것이다.3\n"
          ]
        }
      ]
    },
    {
      "cell_type": "code",
      "source": [
        "print(f'2024년에 개발 협업 프로젝트를 {word_2}개 이상 잘 소화해내는 것이다.\\n')"
      ],
      "metadata": {
        "colab": {
          "base_uri": "https://localhost:8080/"
        },
        "id": "l--HgaQIpW15",
        "outputId": "6ad2da40-1440-4b02-d954-1d901a364543"
      },
      "execution_count": 11,
      "outputs": [
        {
          "output_type": "stream",
          "name": "stdout",
          "text": [
            "2024년에 개발 협업 프로젝트를 3개 이상 잘 소화해내는 것이다.\n",
            "\n"
          ]
        }
      ]
    },
    {
      "cell_type": "code",
      "source": [
        "sentence_2 = input(f'나는 올해는 __와 __에 집중할 것이다.\\n')"
      ],
      "metadata": {
        "colab": {
          "base_uri": "https://localhost:8080/"
        },
        "id": "WnFXY0ylvEao",
        "outputId": "c8dbb007-50f7-4664-8c1d-6d16add15b48"
      },
      "execution_count": 13,
      "outputs": [
        {
          "name": "stdout",
          "output_type": "stream",
          "text": [
            "나는 올해는 __와 __에 집중할 것이다.\n",
            "개발 비즈니스\n"
          ]
        }
      ]
    },
    {
      "cell_type": "code",
      "source": [
        "word_1, word_2 = sentence_2.split()"
      ],
      "metadata": {
        "id": "1WkhsRF7vH2_"
      },
      "execution_count": 14,
      "outputs": []
    },
    {
      "cell_type": "code",
      "source": [
        "print(f'나는 올해는 {word_1}와 {word_2}에 집중할 것이다.\\n')"
      ],
      "metadata": {
        "colab": {
          "base_uri": "https://localhost:8080/"
        },
        "id": "9RxwZZs6vfw3",
        "outputId": "636337b3-bf30-4775-9a15-a54aeee8808e"
      },
      "execution_count": 15,
      "outputs": [
        {
          "output_type": "stream",
          "name": "stdout",
          "text": [
            "나는 올해는 개발와 비즈니스에 집중할 것이다.\n",
            "\n"
          ]
        }
      ]
    },
    {
      "cell_type": "code",
      "source": [
        "print(f'나는 올해는 {word_1}와', end = ' ')\n",
        "print(f'{word_2}에 집중할 것이다.\\n')"
      ],
      "metadata": {
        "colab": {
          "base_uri": "https://localhost:8080/"
        },
        "id": "XTxSdZEWwC6F",
        "outputId": "d9d2ebdd-7818-4fdb-d1bf-d0fcd4d76734"
      },
      "execution_count": 17,
      "outputs": [
        {
          "output_type": "stream",
          "name": "stdout",
          "text": [
            "나는 올해는 개발와 비즈니스에 집중할 것이다.\n",
            "\n"
          ]
        }
      ]
    },
    {
      "cell_type": "code",
      "source": [
        "sentence_2 = input(f'나는 올해는 __와 __에 집중할 것이다.\\n')"
      ],
      "metadata": {
        "colab": {
          "base_uri": "https://localhost:8080/"
        },
        "id": "VSIG6ufXwXbq",
        "outputId": "6903f40d-df56-4943-ff0f-9d7ce38b8a21"
      },
      "execution_count": 20,
      "outputs": [
        {
          "name": "stdout",
          "output_type": "stream",
          "text": [
            "나는 올해는 __와 __에 집중할 것이다.\n",
            "창업 개발\n"
          ]
        }
      ]
    },
    {
      "cell_type": "code",
      "source": [
        "word_1, word_2 = sentence_2.split()"
      ],
      "metadata": {
        "id": "UzVrOyfMyT70"
      },
      "execution_count": 21,
      "outputs": []
    },
    {
      "cell_type": "code",
      "source": [
        "print(f'나는 올해는 {word_1}와', end = ' ')\n",
        "print(f'{word_2}에 집중할 것이다.\\n')"
      ],
      "metadata": {
        "colab": {
          "base_uri": "https://localhost:8080/"
        },
        "id": "BL369jQUyeUN",
        "outputId": "50317888-00fb-4ce9-8d5c-df26ae3d7233"
      },
      "execution_count": 23,
      "outputs": [
        {
          "output_type": "stream",
          "name": "stdout",
          "text": [
            "나는 올해는 창업와 개발에 집중할 것이다.\n",
            "\n"
          ]
        }
      ]
    },
    {
      "cell_type": "markdown",
      "source": [
        "### **`randrange()` 함수**\n",
        "\n",
        "파이썬의 **`random`** 라이브러리 내에 있는 **`randrange()`** 함수는 지정된 범위 안에서 무작위로 정수를 선택하여 반환하는 기능을 제공합니다. 이 함수는 게임, 시뮬레이션, 무작위 데이터 생성 등 다양한 상황에서 유용하게 사용됩니다. **`randrange()`** 함수의 작동 방식과 매개변수에 대해 더 자세히 설명하겠습니다.\n",
        "\n",
        "### **`randrange()` 함수의 사용법**\n",
        "\n",
        "```python\n",
        "randrange(start, stop[, step])\n",
        "```\n",
        "\n",
        "- **`start`**: 범위의 시작값입니다. 이 값은 범위에 포함됩니다. 만약 **`start`**가 생략되면, 기본값은 0이 됩니다.\n",
        "- **`stop`**: 범위의 끝값입니다. 이 값은 범위에 포함되지 않으며, 함수는 **`stop - 1`**까지의 수 중에서 무작위로 선택합니다.\n",
        "- **`step`**: 선택적 매개변수로, 숫자 간의 간격을 지정합니다. 예를 들어, **`step`**이 2이면 함수는 두 숫자 간격으로 무작위 수를 선택합니다."
      ],
      "metadata": {
        "id": "2GZPktcT1eXY"
      }
    },
    {
      "cell_type": "code",
      "source": [
        "import random\n",
        "\n",
        "'''\n",
        "0~9까지의 임의의 숫자를 선택하는 코드를 작성\n",
        "파이썬의 숫자의 시작은 무조건 0부터\n",
        "10으로 입력하여 -1 즉, 9까지\n",
        "'''\n",
        "\n",
        "num = random.randrange(10)\n",
        "print(num)"
      ],
      "metadata": {
        "colab": {
          "base_uri": "https://localhost:8080/"
        },
        "id": "YtL223ds1hNd",
        "outputId": "53752af6-4114-4687-d327-7860112b45e2"
      },
      "execution_count": 29,
      "outputs": [
        {
          "output_type": "stream",
          "name": "stdout",
          "text": [
            "7\n"
          ]
        }
      ]
    },
    {
      "cell_type": "code",
      "source": [
        "# 1.2 시작값과 끝값을 지정\n",
        "num_1 = random.randrange(10, 20)\n",
        "num_2 = random.randrange(10, 20)\n",
        "num_3 = random.randrange(10, 20)\n",
        "num_4 = random.randrange(10, 20)\n",
        "num_5 = random.randrange(10, 20)\n",
        "num_6 = random.randrange(10, 20)\n",
        "\n",
        "print(\"오늘의 로또 번호는\", num_1, num_2, num_3, num_4, num_5, num_6)"
      ],
      "metadata": {
        "colab": {
          "base_uri": "https://localhost:8080/"
        },
        "id": "K8cvsmaK1-K1",
        "outputId": "db59c7c1-19ca-4655-836b-b56e4e0f52c0"
      },
      "execution_count": 31,
      "outputs": [
        {
          "output_type": "stream",
          "name": "stdout",
          "text": [
            "오늘의 로또 번호는 18 12 12 11 17 17\n"
          ]
        }
      ]
    },
    {
      "cell_type": "code",
      "source": [
        "num10_100 = random.randrange(10, 101, 10)\n",
        "print(num10_100)"
      ],
      "metadata": {
        "colab": {
          "base_uri": "https://localhost:8080/"
        },
        "id": "TQgByGFh3JUE",
        "outputId": "c6aadd94-75fb-4537-ffb9-eb5b760f67db"
      },
      "execution_count": 34,
      "outputs": [
        {
          "output_type": "stream",
          "name": "stdout",
          "text": [
            "100\n"
          ]
        }
      ]
    },
    {
      "cell_type": "markdown",
      "source": [
        "### 3**. `choice()` 함수**\n",
        "\n",
        "**`random.choice()`** 함수는 파이썬의 **`random`** 라이브러리에서 제공하는 매우 유용한 함수 중 하나입니다. 이 함수는 주어진 시퀀스(예: 리스트, 튜플, 문자열 등)에서 무작위로 요소 하나를 선택하여 반환합니다. 시퀀스 내의 모든 요소는 선택될 가능성이 동일합니다. **`random.choice()`** 함수를 사용하는 여러 가지 측면에 대해 더 자세히 설명하겠습니다.\n",
        "\n",
        "### **`random.choice()` 함수의 사용법**\n",
        "\n",
        "기본적인 사용법은 다음과 같습니다:\n",
        "\n",
        "```python\n",
        "chosen_element = random.choice(sequence)\n",
        "```\n",
        "\n",
        "- **`sequence`**: 무작위로 요소를 선택할 시퀀스입니다. 이 시퀀스는 리스트, 튜플, 문자열 등이 될 수 있으며, 비어있지 않아야 합니다.\n",
        "\n",
        "### **예시**\n",
        "\n",
        "```python\n",
        "import random\n",
        "\n",
        "# 리스트에서 무작위 요소 선택\n",
        "elements = ['사과', '바나나', '체리']\n",
        "chosen_element = random.choice(elements)\n",
        "print(f\"선택된 요소: {chosen_element}\")\n",
        "\n",
        "```\n",
        "\n",
        "이 코드에서는 **`elements`**라는 리스트가 있고, **`random.choice()`** 함수를 사용하여 이 리스트에서 무작위로 하나의 요소를 선택합니다.\n",
        "\n",
        "### **응용 사용법**\n",
        "\n",
        "1. **문자열에서 무작위 문자 선택**:\n",
        "    \n",
        "    ```python\n",
        "    import random\n",
        "    \n",
        "    # 문자열에서 무작위 문자 선택\n",
        "    greeting = \"안녕하세요\"\n",
        "    chosen_char = random.choice(greeting)\n",
        "    print(f\"선택된 문자: {chosen_char}\")\n",
        "    ```\n",
        "    \n",
        "2. **튜플에서 무작위 요소 선택**:\n",
        "    \n",
        "    ```python\n",
        "    import random\n",
        "    \n",
        "    # 튜플에서 무작위 요소 선택\n",
        "    colors = ('빨강', '노랑', '파랑')\n",
        "    chosen_color = random.choice(colors)\n",
        "    print(f\"선택된 색상: {chosen_color}\")\n",
        "    ```\n",
        "    \n",
        "\n",
        "### **주의할 점**\n",
        "\n",
        "- **`random.choice()`** 함수를 사용할 때 시퀀스는 비어있지 않아야 합니다. 비어 있는 시퀀스에서 요소를 선택하려고 하면 **`IndexError`**가 발생합니다.\n",
        "- 반환된 요소는 시퀀스 내에서 완전히 무작위로 선택됩니다. 따라서 같은 요소가 연속해서 선택될 수도 있습니다.\n",
        "\n",
        "**`random.choice()`** 함수는 다양한 상황에서 유용하게 사용될 수 있으며, 특히 시뮬레이션, 게임, 무작위 테스트 데이터 생성 등에 자주 활용됩니다."
      ],
      "metadata": {
        "id": "26Qs_UjY8_au"
      }
    },
    {
      "cell_type": "code",
      "source": [
        "# 2. 문자열에서 무작위 문자 선택\n",
        "greeting = '안녕하세요'\n",
        "chosen_char = random.choice(greeting)\n",
        "print(f\"선택된 문자: {chosen_char}\")"
      ],
      "metadata": {
        "colab": {
          "base_uri": "https://localhost:8080/"
        },
        "id": "3WwZBsEs9O9_",
        "outputId": "875e46b7-e9fb-4650-cec6-61fb96bdcbed"
      },
      "execution_count": 36,
      "outputs": [
        {
          "output_type": "stream",
          "name": "stdout",
          "text": [
            "선택된 문자: 하\n"
          ]
        }
      ]
    },
    {
      "cell_type": "code",
      "source": [
        "'''\n",
        "주석 작성 근거\n",
        "1. 단락마다 중요한 내용이 있을 때\n",
        "2. 템플릿은 동료들에게 공유할 때\n",
        "'''\n",
        "\n",
        "# 이 코드는 Random 라이브러리를 사용한 예시입니다.\n",
        "import random\n",
        "\n",
        "# 두 개의 무작위 숫자를 생성하는 코드\n",
        "random_number1 = random.randint(1, 10)  #1부터 9까지의 임의의 숫자 한개를 가져옵니다.\n",
        "random_number2 = random.randint(1, 10)  #1부터 9까지의 임의의 숫자 한개를 가져옵니다.\n",
        "\n",
        "# 두 개의 무작위 숫자를 합산하는 코드 / 생성된 두 숫자의 합 계산\n",
        "sum_of_numbers = random_number1 + random_number2\n",
        "\n",
        "\n",
        "print(f\"첫 번째 생성된 숫자: {random_number1}\")\n",
        "print(f\"두 번째 생성된 숫자: {random_number2}\")\n",
        "print(f\"두 숫자의 합: {sum_of_numbers}\")"
      ],
      "metadata": {
        "colab": {
          "base_uri": "https://localhost:8080/"
        },
        "id": "Te4LP50RALLQ",
        "outputId": "d8714218-cc48-42a1-800e-9278c4f17ff6"
      },
      "execution_count": 37,
      "outputs": [
        {
          "output_type": "stream",
          "name": "stdout",
          "text": [
            "첫 번째 생성된 숫자: 6\n",
            "두 번째 생성된 숫자: 6\n",
            "두 숫자의 합: 12\n"
          ]
        }
      ]
    },
    {
      "cell_type": "code",
      "source": [
        "import random\n",
        "dice1 = random.randint(1, 6)\n",
        "dice2 = random.randint(1, 6)\n",
        "total = dice1 + dice2\n",
        "print(f\"주사위 결과: {dice1} + {dice2} = {total}\")"
      ],
      "metadata": {
        "colab": {
          "base_uri": "https://localhost:8080/"
        },
        "id": "z-snfWGQCzM2",
        "outputId": "aa79b0dd-ad83-4cc9-eeae-ada0fb641ece"
      },
      "execution_count": 39,
      "outputs": [
        {
          "output_type": "stream",
          "name": "stdout",
          "text": [
            "주사위 결과: 4 + 4 = 8\n"
          ]
        }
      ]
    },
    {
      "cell_type": "code",
      "source": [
        "import random\n",
        "\n",
        "# 윷 던지기 결과 (0: 앞, 1: 뒤)\n",
        "throw1 = random.choice([0, 1])\n",
        "throw2 = random.choice([0, 1])\n",
        "throw3 = random.choice([0, 1])\n",
        "throw4 = random.choice([0, 1])\n",
        "\n",
        "# 뒷면의 총 갯수 계산\n",
        "total_back = throw1 + throw2 + throw3 + throw4\n",
        "\n",
        "# 윷놀이 결과\n",
        "results = ['모', '도', '개', '걸', '윷']\n",
        "print(results[total_back])"
      ],
      "metadata": {
        "colab": {
          "base_uri": "https://localhost:8080/"
        },
        "id": "hs9311AXI6js",
        "outputId": "14225427-344d-4f66-ef50-c35440c034bf"
      },
      "execution_count": 1,
      "outputs": [
        {
          "output_type": "stream",
          "name": "stdout",
          "text": [
            "걸\n"
          ]
        }
      ]
    },
    {
      "cell_type": "code",
      "source": [
        "x = 10\n",
        "print(type(x))\n",
        "print(dir(x))"
      ],
      "metadata": {
        "colab": {
          "base_uri": "https://localhost:8080/"
        },
        "id": "025QIHG8mfOt",
        "outputId": "b0597a37-9570-4b97-92ae-902daae57afb"
      },
      "execution_count": 3,
      "outputs": [
        {
          "output_type": "stream",
          "name": "stdout",
          "text": [
            "<class 'int'>\n",
            "['__abs__', '__add__', '__and__', '__bool__', '__ceil__', '__class__', '__delattr__', '__dir__', '__divmod__', '__doc__', '__eq__', '__float__', '__floor__', '__floordiv__', '__format__', '__ge__', '__getattribute__', '__getnewargs__', '__gt__', '__hash__', '__index__', '__init__', '__init_subclass__', '__int__', '__invert__', '__le__', '__lshift__', '__lt__', '__mod__', '__mul__', '__ne__', '__neg__', '__new__', '__or__', '__pos__', '__pow__', '__radd__', '__rand__', '__rdivmod__', '__reduce__', '__reduce_ex__', '__repr__', '__rfloordiv__', '__rlshift__', '__rmod__', '__rmul__', '__ror__', '__round__', '__rpow__', '__rrshift__', '__rshift__', '__rsub__', '__rtruediv__', '__rxor__', '__setattr__', '__sizeof__', '__str__', '__sub__', '__subclasshook__', '__truediv__', '__trunc__', '__xor__', 'as_integer_ratio', 'bit_count', 'bit_length', 'conjugate', 'denominator', 'from_bytes', 'imag', 'numerator', 'real', 'to_bytes']\n"
          ]
        }
      ]
    },
    {
      "cell_type": "code",
      "source": [
        "x = '안녕'\n",
        "print(type(x))\n",
        "print(dir(x))"
      ],
      "metadata": {
        "colab": {
          "base_uri": "https://localhost:8080/"
        },
        "id": "DOiNYzuypS8k",
        "outputId": "491ac070-7bc7-4eec-8eb3-17bf95f13682"
      },
      "execution_count": 6,
      "outputs": [
        {
          "output_type": "stream",
          "name": "stdout",
          "text": [
            "<class 'str'>\n",
            "['__add__', '__class__', '__contains__', '__delattr__', '__dir__', '__doc__', '__eq__', '__format__', '__ge__', '__getattribute__', '__getitem__', '__getnewargs__', '__gt__', '__hash__', '__init__', '__init_subclass__', '__iter__', '__le__', '__len__', '__lt__', '__mod__', '__mul__', '__ne__', '__new__', '__reduce__', '__reduce_ex__', '__repr__', '__rmod__', '__rmul__', '__setattr__', '__sizeof__', '__str__', '__subclasshook__', 'capitalize', 'casefold', 'center', 'count', 'encode', 'endswith', 'expandtabs', 'find', 'format', 'format_map', 'index', 'isalnum', 'isalpha', 'isascii', 'isdecimal', 'isdigit', 'isidentifier', 'islower', 'isnumeric', 'isprintable', 'isspace', 'istitle', 'isupper', 'join', 'ljust', 'lower', 'lstrip', 'maketrans', 'partition', 'removeprefix', 'removesuffix', 'replace', 'rfind', 'rindex', 'rjust', 'rpartition', 'rsplit', 'rstrip', 'split', 'splitlines', 'startswith', 'strip', 'swapcase', 'title', 'translate', 'upper', 'zfill']\n"
          ]
        }
      ]
    },
    {
      "cell_type": "code",
      "source": [
        "x = 10\n",
        "print(x)\n",
        "\n",
        "del x\n",
        "print(x)"
      ],
      "metadata": {
        "colab": {
          "base_uri": "https://localhost:8080/",
          "height": 237
        },
        "id": "67nrOPL0pXV-",
        "outputId": "14f7849a-0451-4f86-c641-28447103f29a"
      },
      "execution_count": 8,
      "outputs": [
        {
          "output_type": "stream",
          "name": "stdout",
          "text": [
            "10\n"
          ]
        },
        {
          "output_type": "error",
          "ename": "NameError",
          "evalue": "ignored",
          "traceback": [
            "\u001b[0;31m---------------------------------------------------------------------------\u001b[0m",
            "\u001b[0;31mNameError\u001b[0m                                 Traceback (most recent call last)",
            "\u001b[0;32m<ipython-input-8-351bbb0b65cc>\u001b[0m in \u001b[0;36m<cell line: 5>\u001b[0;34m()\u001b[0m\n\u001b[1;32m      3\u001b[0m \u001b[0;34m\u001b[0m\u001b[0m\n\u001b[1;32m      4\u001b[0m \u001b[0;32mdel\u001b[0m \u001b[0mx\u001b[0m\u001b[0;34m\u001b[0m\u001b[0;34m\u001b[0m\u001b[0m\n\u001b[0;32m----> 5\u001b[0;31m \u001b[0mprint\u001b[0m\u001b[0;34m(\u001b[0m\u001b[0mx\u001b[0m\u001b[0;34m)\u001b[0m\u001b[0;34m\u001b[0m\u001b[0;34m\u001b[0m\u001b[0m\n\u001b[0m",
            "\u001b[0;31mNameError\u001b[0m: name 'x' is not defined"
          ]
        }
      ]
    },
    {
      "cell_type": "code",
      "source": [
        "x = 0o15\n",
        "print(x)\n",
        "print(type(x))"
      ],
      "metadata": {
        "colab": {
          "base_uri": "https://localhost:8080/"
        },
        "id": "wJ8brcY06Ntg",
        "outputId": "0b6a392f-a1f6-417c-9ea8-0e66dda657f8"
      },
      "execution_count": 9,
      "outputs": [
        {
          "output_type": "stream",
          "name": "stdout",
          "text": [
            "13\n",
            "<class 'int'>\n"
          ]
        }
      ]
    },
    {
      "cell_type": "code",
      "source": [
        "x = 26\n",
        "print(bin(x))\n",
        "print(oct(x))\n",
        "print(hex(x))"
      ],
      "metadata": {
        "colab": {
          "base_uri": "https://localhost:8080/"
        },
        "id": "xXY8IQQQRyQO",
        "outputId": "f540dda0-4dd3-4c87-cdb2-7cbb1fa2fbaf"
      },
      "execution_count": 10,
      "outputs": [
        {
          "output_type": "stream",
          "name": "stdout",
          "text": [
            "0b11010\n",
            "0o32\n",
            "0x1a\n"
          ]
        }
      ]
    },
    {
      "cell_type": "code",
      "source": [
        "b = int('0b11010', 2)\n",
        "o = int('0o32', 8)\n",
        "h = int('0x1a', 16)\n",
        "print(b, o, h)"
      ],
      "metadata": {
        "colab": {
          "base_uri": "https://localhost:8080/"
        },
        "id": "F5jEgTU2R0VG",
        "outputId": "a6f479f5-bd92-4e4f-f87d-e544d9ba6894"
      },
      "execution_count": 13,
      "outputs": [
        {
          "output_type": "stream",
          "name": "stdout",
          "text": [
            "26 26 26\n"
          ]
        }
      ]
    },
    {
      "cell_type": "code",
      "source": [
        "x = 9.9\n",
        "y = 20.1\n",
        "result = x + y\n",
        "print(result)\n",
        "print(type(result))"
      ],
      "metadata": {
        "colab": {
          "base_uri": "https://localhost:8080/"
        },
        "id": "w8aZ_HxrWqqY",
        "outputId": "25051109-9284-48b3-e58b-b45c8cedaa2d"
      },
      "execution_count": 16,
      "outputs": [
        {
          "output_type": "stream",
          "name": "stdout",
          "text": [
            "30.0\n",
            "<class 'float'>\n"
          ]
        }
      ]
    },
    {
      "cell_type": "code",
      "source": [
        "x = float(\"inf\")"
      ],
      "metadata": {
        "id": "VVcgr1ZeXNxi"
      },
      "execution_count": 17,
      "outputs": []
    },
    {
      "cell_type": "code",
      "source": [
        "x = float(\"-inf\")"
      ],
      "metadata": {
        "id": "W9ij-YwtXRkA"
      },
      "execution_count": 18,
      "outputs": []
    },
    {
      "cell_type": "code",
      "source": [
        "x = float(\"inf\")"
      ],
      "metadata": {
        "id": "EOy0Pco2X84z"
      },
      "execution_count": 20,
      "outputs": []
    },
    {
      "cell_type": "code",
      "source": [
        "x > 10"
      ],
      "metadata": {
        "colab": {
          "base_uri": "https://localhost:8080/"
        },
        "id": "g3qilEHBXUs9",
        "outputId": "e1beb045-8940-4115-debe-dde55d62b467"
      },
      "execution_count": 21,
      "outputs": [
        {
          "output_type": "execute_result",
          "data": {
            "text/plain": [
              "True"
            ]
          },
          "metadata": {},
          "execution_count": 21
        }
      ]
    },
    {
      "cell_type": "code",
      "source": [
        "import decimal\n",
        "# import decimal\n",
        "\n",
        "float(decimal.Decimal('.1') + decimal.Decimal('.2')) # 출력: 0.3\n",
        "# float(decimal.Decimal('.1') + decimal.Decimal('.2'))"
      ],
      "metadata": {
        "colab": {
          "base_uri": "https://localhost:8080/"
        },
        "id": "6GAkhmEleInQ",
        "outputId": "d82eabc7-97c0-4b4f-d052-2263d003ebbe"
      },
      "execution_count": 23,
      "outputs": [
        {
          "output_type": "execute_result",
          "data": {
            "text/plain": [
              "0.3"
            ]
          },
          "metadata": {},
          "execution_count": 23
        }
      ]
    },
    {
      "cell_type": "code",
      "source": [
        "print(2e3) # 지수표현, float형\n",
        "print(2E3)\n",
        "\n",
        "# 2 * (10 ** 3) # int 형\n",
        "2* (10 ** 3)"
      ],
      "metadata": {
        "colab": {
          "base_uri": "https://localhost:8080/"
        },
        "id": "c1gvZO27fkEG",
        "outputId": "5c19a579-8d18-4716-bf01-32e39b3ffff1"
      },
      "execution_count": 26,
      "outputs": [
        {
          "output_type": "stream",
          "name": "stdout",
          "text": [
            "2000.0\n",
            "2000.0\n"
          ]
        },
        {
          "output_type": "execute_result",
          "data": {
            "text/plain": [
              "2000"
            ]
          },
          "metadata": {},
          "execution_count": 26
        }
      ]
    },
    {
      "cell_type": "code",
      "source": [
        "print(float('inf') > 10e307)\n",
        "print(float('inf') > 10e308)\n",
        "\n",
        "float('inf') == 10e307, float('inf') == 10e308, float('inf') == 10e309"
      ],
      "metadata": {
        "colab": {
          "base_uri": "https://localhost:8080/"
        },
        "id": "sa-Pd9tUf5dW",
        "outputId": "fe37d4b6-473e-4754-fe3e-cb153e7ec178"
      },
      "execution_count": 27,
      "outputs": [
        {
          "output_type": "stream",
          "name": "stdout",
          "text": [
            "True\n",
            "False\n"
          ]
        },
        {
          "output_type": "execute_result",
          "data": {
            "text/plain": [
              "(False, True, True)"
            ]
          },
          "metadata": {},
          "execution_count": 27
        }
      ]
    },
    {
      "cell_type": "code",
      "source": [
        "dictionary_1 = {'name': 'Alice', 'age': 25}"
      ],
      "metadata": {
        "id": "ixoqOzEtLCCO"
      },
      "execution_count": 2,
      "outputs": []
    },
    {
      "cell_type": "code",
      "source": [
        "print(dictionary_1)\n",
        "\n",
        "print(dictionary_1['name'])"
      ],
      "metadata": {
        "colab": {
          "base_uri": "https://localhost:8080/"
        },
        "id": "LFuCcWbyLcZQ",
        "outputId": "2dd17bc3-b70c-4b13-d801-30d4bd2b9fb3"
      },
      "execution_count": 10,
      "outputs": [
        {
          "output_type": "stream",
          "name": "stdout",
          "text": [
            "{'name': 'Alice', 'age': 25}\n",
            "Alice\n"
          ]
        }
      ]
    },
    {
      "cell_type": "code",
      "source": [
        "# 정수형\n",
        "num = 10\n",
        "print(\"정수:\", num)\n",
        "\n",
        "# 부동소수점형\n",
        "float_num = 3.14\n",
        "print(\"부동소수점:\", float_num)"
      ],
      "metadata": {
        "id": "4SEWiS9mMMop"
      },
      "execution_count": null,
      "outputs": []
    },
    {
      "cell_type": "code",
      "source": [
        "# 불린\n",
        "is_student = True\n",
        "print(\"학생인가요?\", is_student)"
      ],
      "metadata": {
        "id": "cRzvdhPsUa0o"
      },
      "execution_count": null,
      "outputs": []
    },
    {
      "cell_type": "code",
      "source": [
        "# 리스트\n",
        "fruits = [\"apple\", \"banana\", \"cherry\"]\n",
        "print(\"과일 목록:\", fruits)"
      ],
      "metadata": {
        "id": "FJAntdYsU8RW"
      },
      "execution_count": null,
      "outputs": []
    },
    {
      "cell_type": "code",
      "source": [
        "x = a % b\n",
        "print(x)"
      ],
      "metadata": {
        "id": "6XXJOvVAYo0C"
      },
      "execution_count": null,
      "outputs": []
    }
  ]
}