{
  "nbformat": 4,
  "nbformat_minor": 0,
  "metadata": {
    "colab": {
      "provenance": []
    },
    "kernelspec": {
      "name": "python3",
      "display_name": "Python 3"
    },
    "language_info": {
      "name": "python"
    }
  },
  "cells": [
    {
      "cell_type": "code",
      "source": [
        "# step1 list안에 for문을 가져옵니다.\n",
        "\n",
        "# step2 append 항목을 앞으로 가져옵니다.\n",
        "a = [i for i in range(1, 10)] # 출력: [1, 2, 3, 4, 5, 6, 7, 8, 9]\n",
        "b = [i*2 for i in range(1, 10)] # 출력: [2, 4, 6, 8, 10, 12, 14, 16, 18]\n",
        "\n",
        "print(b)"
      ],
      "metadata": {
        "colab": {
          "base_uri": "https://localhost:8080/"
        },
        "id": "E0dElzrSZrCp",
        "outputId": "afc617e7-7574-48ad-9e04-d0ad603a2f8e"
      },
      "execution_count": null,
      "outputs": [
        {
          "output_type": "stream",
          "name": "stdout",
          "text": [
            "[2, 4, 6, 8, 10, 12, 14, 16, 18]\n"
          ]
        }
      ]
    },
    {
      "cell_type": "code",
      "source": [
        "# 전통적인 방법\n",
        "d = {}\n",
        "for i in range(5):\n",
        "    d[i] = i**2\n",
        "\n",
        "# 딕셔너리 컴프리헨션 사용\n",
        "dd = {i: i**2 for i in range(5)}\n",
        "print(dd)"
      ],
      "metadata": {
        "colab": {
          "base_uri": "https://localhost:8080/"
        },
        "id": "brPnKA9YGsgE",
        "outputId": "c232545b-a32d-4013-c93c-ab61471156df"
      },
      "execution_count": null,
      "outputs": [
        {
          "output_type": "stream",
          "name": "stdout",
          "text": [
            "{0: 0, 1: 1, 2: 4, 3: 9, 4: 16}\n"
          ]
        }
      ]
    },
    {
      "cell_type": "code",
      "execution_count": null,
      "metadata": {
        "id": "aYCUgifB7GsF"
      },
      "outputs": [],
      "source": [
        "hojun = print"
      ]
    },
    {
      "cell_type": "code",
      "source": [
        "id(print)"
      ],
      "metadata": {
        "colab": {
          "base_uri": "https://localhost:8080/"
        },
        "id": "IOFsNzg07fbL",
        "outputId": "95a5ca6f-bc1e-4d8b-eeaf-9c10a909ccb9"
      },
      "execution_count": null,
      "outputs": [
        {
          "output_type": "execute_result",
          "data": {
            "text/plain": [
              "135375898072368"
            ]
          },
          "metadata": {},
          "execution_count": 4
        }
      ]
    },
    {
      "cell_type": "code",
      "source": [
        "id(hojun)"
      ],
      "metadata": {
        "colab": {
          "base_uri": "https://localhost:8080/"
        },
        "id": "kfr_7mlW7qA4",
        "outputId": "8d67f71a-d49e-4ad7-c7e0-efe24383c627"
      },
      "execution_count": null,
      "outputs": [
        {
          "output_type": "execute_result",
          "data": {
            "text/plain": [
              "135375898072368"
            ]
          },
          "metadata": {},
          "execution_count": 5
        }
      ]
    },
    {
      "cell_type": "code",
      "source": [
        "def hello():\n",
        "    '''\n",
        "    DocString\n",
        "    주석은 여기 답니다.\n",
        "    '''\n",
        "    pass\n",
        "\n",
        "print(type(hello)) # 함수도 class입니다!?"
      ],
      "metadata": {
        "colab": {
          "base_uri": "https://localhost:8080/"
        },
        "id": "KSSf99zZ9OW3",
        "outputId": "9027b3dc-61a2-40d8-927f-0bb8d74d7466"
      },
      "execution_count": null,
      "outputs": [
        {
          "output_type": "stream",
          "name": "stdout",
          "text": [
            "<class 'function'>\n"
          ]
        }
      ]
    },
    {
      "cell_type": "code",
      "source": [
        "x = 10\n",
        "y = True if x % 2 == 0 else False\n",
        "\n",
        "y"
      ],
      "metadata": {
        "colab": {
          "base_uri": "https://localhost:8080/"
        },
        "id": "OE8pxQuR9Pj9",
        "outputId": "f47dee3d-375d-430d-cffc-005e57c013c3"
      },
      "execution_count": null,
      "outputs": [
        {
          "output_type": "execute_result",
          "data": {
            "text/plain": [
              "True"
            ]
          },
          "metadata": {},
          "execution_count": 7
        }
      ]
    },
    {
      "cell_type": "code",
      "source": [
        "def 제곱(x):\n",
        "  return x ** 2\n",
        "\n",
        "list(map(제곱, [1, 2, 3, 4]))"
      ],
      "metadata": {
        "colab": {
          "base_uri": "https://localhost:8080/"
        },
        "id": "UkgNY3qF90hs",
        "outputId": "32ee9d0e-1aeb-4751-e37d-dd5fb86a2754"
      },
      "execution_count": null,
      "outputs": [
        {
          "output_type": "execute_result",
          "data": {
            "text/plain": [
              "[1, 4, 9, 16]"
            ]
          },
          "metadata": {},
          "execution_count": 9
        }
      ]
    },
    {
      "cell_type": "code",
      "source": [
        "list(map(lambda x: x**2, [1, 2, 3, 4]))"
      ],
      "metadata": {
        "colab": {
          "base_uri": "https://localhost:8080/"
        },
        "id": "P-Bwj5fX-OZq",
        "outputId": "8e78af61-b44f-4de9-b11b-64459fd0bbb5"
      },
      "execution_count": null,
      "outputs": [
        {
          "output_type": "execute_result",
          "data": {
            "text/plain": [
              "[1, 4, 9, 16]"
            ]
          },
          "metadata": {},
          "execution_count": 10
        }
      ]
    },
    {
      "cell_type": "code",
      "source": [
        "list(map(lambda x: True if x % 2 == 0 else False, [1, 2, 3, 4]))"
      ],
      "metadata": {
        "colab": {
          "base_uri": "https://localhost:8080/"
        },
        "id": "HiKn8PEv-5Sf",
        "outputId": "594fd220-bf4c-4235-a988-51d7fc7bf46c"
      },
      "execution_count": null,
      "outputs": [
        {
          "output_type": "execute_result",
          "data": {
            "text/plain": [
              "[False, True, False, True]"
            ]
          },
          "metadata": {},
          "execution_count": 11
        }
      ]
    },
    {
      "cell_type": "code",
      "source": [
        "# 알고리즘 문제에서\n",
        "# 얼마나 효율적인지만 보고, 이해 X 괜춘\n",
        "# 마스킹의 역할 및 순기능 파악"
      ],
      "metadata": {
        "id": "QntK51BUDn6A"
      },
      "execution_count": null,
      "outputs": []
    },
    {
      "cell_type": "code",
      "source": [
        "# 101이 소수니?\n",
        "\n",
        "for i in range(2, 101):\n",
        "  if 101 % i == 0:\n",
        "    print('소수아님!')\n",
        "    break\n",
        "\n",
        "else :\n",
        "  print('소수임')"
      ],
      "metadata": {
        "colab": {
          "base_uri": "https://localhost:8080/"
        },
        "id": "pT_8RalVD2WR",
        "outputId": "da6292ee-0840-402f-aa4a-11dc72e69a0e"
      },
      "execution_count": null,
      "outputs": [
        {
          "output_type": "stream",
          "name": "stdout",
          "text": [
            "소수임\n"
          ]
        }
      ]
    },
    {
      "cell_type": "code",
      "source": [
        "list(filter(lambda x: x % 3 == 0, range(100)))"
      ],
      "metadata": {
        "colab": {
          "base_uri": "https://localhost:8080/"
        },
        "id": "wvn4FaEzGNm8",
        "outputId": "5d8e97ae-2b0b-48df-fe0e-f1fe3add561c"
      },
      "execution_count": null,
      "outputs": [
        {
          "output_type": "execute_result",
          "data": {
            "text/plain": [
              "[0,\n",
              " 3,\n",
              " 6,\n",
              " 9,\n",
              " 12,\n",
              " 15,\n",
              " 18,\n",
              " 21,\n",
              " 24,\n",
              " 27,\n",
              " 30,\n",
              " 33,\n",
              " 36,\n",
              " 39,\n",
              " 42,\n",
              " 45,\n",
              " 48,\n",
              " 51,\n",
              " 54,\n",
              " 57,\n",
              " 60,\n",
              " 63,\n",
              " 66,\n",
              " 69,\n",
              " 72,\n",
              " 75,\n",
              " 78,\n",
              " 81,\n",
              " 84,\n",
              " 87,\n",
              " 90,\n",
              " 93,\n",
              " 96,\n",
              " 99]"
            ]
          },
          "metadata": {},
          "execution_count": 14
        }
      ]
    },
    {
      "cell_type": "code",
      "source": [
        "list(filter(lambda x: x > 50 and x < 80, range(100)))"
      ],
      "metadata": {
        "colab": {
          "base_uri": "https://localhost:8080/"
        },
        "id": "41y1CBulGiOB",
        "outputId": "54eed47f-d0b8-4c01-f451-748b0282fab8"
      },
      "execution_count": null,
      "outputs": [
        {
          "output_type": "execute_result",
          "data": {
            "text/plain": [
              "[51,\n",
              " 52,\n",
              " 53,\n",
              " 54,\n",
              " 55,\n",
              " 56,\n",
              " 57,\n",
              " 58,\n",
              " 59,\n",
              " 60,\n",
              " 61,\n",
              " 62,\n",
              " 63,\n",
              " 64,\n",
              " 65,\n",
              " 66,\n",
              " 67,\n",
              " 68,\n",
              " 69,\n",
              " 70,\n",
              " 71,\n",
              " 72,\n",
              " 73,\n",
              " 74,\n",
              " 75,\n",
              " 76,\n",
              " 77,\n",
              " 78,\n",
              " 79]"
            ]
          },
          "metadata": {},
          "execution_count": 15
        }
      ]
    },
    {
      "cell_type": "code",
      "source": [
        "list(filter(lambda x: True if x % 3 == 0 or x % 5 == 0 else False, range(1, 100)))"
      ],
      "metadata": {
        "colab": {
          "base_uri": "https://localhost:8080/"
        },
        "id": "-T1NTRzTGtC8",
        "outputId": "2c4ded92-3d00-4ac8-f89e-39f5f05bc796"
      },
      "execution_count": null,
      "outputs": [
        {
          "output_type": "execute_result",
          "data": {
            "text/plain": [
              "[3,\n",
              " 5,\n",
              " 6,\n",
              " 9,\n",
              " 10,\n",
              " 12,\n",
              " 15,\n",
              " 18,\n",
              " 20,\n",
              " 21,\n",
              " 24,\n",
              " 25,\n",
              " 27,\n",
              " 30,\n",
              " 33,\n",
              " 35,\n",
              " 36,\n",
              " 39,\n",
              " 40,\n",
              " 42,\n",
              " 45,\n",
              " 48,\n",
              " 50,\n",
              " 51,\n",
              " 54,\n",
              " 55,\n",
              " 57,\n",
              " 60,\n",
              " 63,\n",
              " 65,\n",
              " 66,\n",
              " 69,\n",
              " 70,\n",
              " 72,\n",
              " 75,\n",
              " 78,\n",
              " 80,\n",
              " 81,\n",
              " 84,\n",
              " 85,\n",
              " 87,\n",
              " 90,\n",
              " 93,\n",
              " 95,\n",
              " 96,\n",
              " 99]"
            ]
          },
          "metadata": {},
          "execution_count": 19
        }
      ]
    },
    {
      "cell_type": "code",
      "source": [
        "# list(filter(lambda x: x % 2 == 0, range(100)))\n",
        "list(filter(lambda x: x % 2 != 0, range(100)))"
      ],
      "metadata": {
        "colab": {
          "base_uri": "https://localhost:8080/"
        },
        "id": "Df6Q0tNwHSJ7",
        "outputId": "02294a0e-58ff-4fbc-97c5-931cfd649ee7"
      },
      "execution_count": null,
      "outputs": [
        {
          "output_type": "execute_result",
          "data": {
            "text/plain": [
              "[1,\n",
              " 3,\n",
              " 5,\n",
              " 7,\n",
              " 9,\n",
              " 11,\n",
              " 13,\n",
              " 15,\n",
              " 17,\n",
              " 19,\n",
              " 21,\n",
              " 23,\n",
              " 25,\n",
              " 27,\n",
              " 29,\n",
              " 31,\n",
              " 33,\n",
              " 35,\n",
              " 37,\n",
              " 39,\n",
              " 41,\n",
              " 43,\n",
              " 45,\n",
              " 47,\n",
              " 49,\n",
              " 51,\n",
              " 53,\n",
              " 55,\n",
              " 57,\n",
              " 59,\n",
              " 61,\n",
              " 63,\n",
              " 65,\n",
              " 67,\n",
              " 69,\n",
              " 71,\n",
              " 73,\n",
              " 75,\n",
              " 77,\n",
              " 79,\n",
              " 81,\n",
              " 83,\n",
              " 85,\n",
              " 87,\n",
              " 89,\n",
              " 91,\n",
              " 93,\n",
              " 95,\n",
              " 97,\n",
              " 99]"
            ]
          },
          "metadata": {},
          "execution_count": 21
        }
      ]
    },
    {
      "cell_type": "markdown",
      "source": [
        "## Top3 - 3. sorted에서 사용!"
      ],
      "metadata": {
        "id": "Ut-LFLOnHlw9"
      }
    },
    {
      "cell_type": "code",
      "source": [
        "lst = [10, 20, 5, 4, 22, 32, 5, 9, 11]\n",
        "lst.sort() # sort를 자주 사용하진 않습니다. 원본을 변경시키기 때문입니다.\n",
        "\n",
        "lst"
      ],
      "metadata": {
        "colab": {
          "base_uri": "https://localhost:8080/"
        },
        "id": "Zcupat97IieF",
        "outputId": "88c6236e-ad6f-4f48-8e49-d2948075e890"
      },
      "execution_count": null,
      "outputs": [
        {
          "output_type": "execute_result",
          "data": {
            "text/plain": [
              "[4, 5, 5, 9, 10, 11, 20, 22, 32]"
            ]
          },
          "metadata": {},
          "execution_count": 23
        }
      ]
    },
    {
      "cell_type": "code",
      "source": [
        "lst = [10, 20, 5, 4, 22, 32, 5, 9, 11]\n",
        "sorted(lst)"
      ],
      "metadata": {
        "colab": {
          "base_uri": "https://localhost:8080/"
        },
        "id": "ICgCUY_IJcGz",
        "outputId": "105598fb-84b5-4103-fdf8-d43210f7c4d6"
      },
      "execution_count": null,
      "outputs": [
        {
          "output_type": "execute_result",
          "data": {
            "text/plain": [
              "[4, 5, 5, 9, 10, 11, 20, 22, 32]"
            ]
          },
          "metadata": {},
          "execution_count": 25
        }
      ]
    },
    {
      "cell_type": "code",
      "source": [
        "test = lambda i:i % 2 == 0\n",
        "[test(i) for i in range(10)]"
      ],
      "metadata": {
        "colab": {
          "base_uri": "https://localhost:8080/"
        },
        "id": "1N4aOjmeKs2c",
        "outputId": "7353a827-c17c-40ed-ce73-eb20bfb7bdc0"
      },
      "execution_count": null,
      "outputs": [
        {
          "output_type": "execute_result",
          "data": {
            "text/plain": [
              "[True, False, True, False, True, False, True, False, True, False]"
            ]
          },
          "metadata": {},
          "execution_count": 26
        }
      ]
    },
    {
      "cell_type": "code",
      "source": [
        "반별점수 = [\n",
        "    ['홍길동', 30, 55, 22],\n",
        "    ['홍춘향', 55, 60, 73],\n",
        "    ['이철수', 32, 65, 68],\n",
        "    ['이호준', 92, 11, 95],\n",
        "]"
      ],
      "metadata": {
        "id": "Bxd9v2uhLPNA"
      },
      "execution_count": null,
      "outputs": []
    },
    {
      "cell_type": "code",
      "source": [
        "def 함수(x):\n",
        "  return x[3]\n",
        "\n",
        "sorted(반별점수, key=함수)"
      ],
      "metadata": {
        "colab": {
          "base_uri": "https://localhost:8080/"
        },
        "id": "nVg95XE9Mrqw",
        "outputId": "4d20154e-debd-497e-f10e-f6cbf9447989"
      },
      "execution_count": null,
      "outputs": [
        {
          "output_type": "execute_result",
          "data": {
            "text/plain": [
              "[['홍길동', 30, 55, 22],\n",
              " ['이철수', 32, 65, 68],\n",
              " ['홍춘향', 55, 60, 73],\n",
              " ['이호준', 92, 11, 95]]"
            ]
          },
          "metadata": {},
          "execution_count": 29
        }
      ]
    },
    {
      "cell_type": "markdown",
      "source": [],
      "metadata": {
        "id": "V49mf31gQ6RB"
      }
    },
    {
      "cell_type": "code",
      "source": [],
      "metadata": {
        "colab": {
          "base_uri": "https://localhost:8080/"
        },
        "id": "xlsKAQncNZll",
        "outputId": "ef2da906-3b4e-41ca-9494-1d852262d0d9"
      },
      "execution_count": null,
      "outputs": [
        {
          "output_type": "execute_result",
          "data": {
            "text/plain": [
              "[['홍길동', 30, 55, 22],\n",
              " ['이철수', 32, 65, 68],\n",
              " ['홍춘향', 55, 60, 73],\n",
              " ['이호준', 92, 11, 95]]"
            ]
          },
          "metadata": {},
          "execution_count": 30
        }
      ]
    },
    {
      "cell_type": "code",
      "source": [
        "# 문제 : 영어 점수대로 출력해주세요\n",
        "# 정답 :\n",
        "sorted(반별점수, key=lambda x: x[2])"
      ],
      "metadata": {
        "id": "a4ilFtQyQm-7"
      },
      "execution_count": null,
      "outputs": []
    },
    {
      "cell_type": "code",
      "source": [
        "sorted(반별점수, key=lambda x: x[1] + x[2] + x[3]))"
      ],
      "metadata": {
        "id": "xLSl3YUdQz_X"
      },
      "execution_count": null,
      "outputs": []
    },
    {
      "cell_type": "code",
      "source": [
        "# 문제가 살짝 어려워집니다.\n",
        "# 동점자인 경우 수학점수를 우선순위로 두겠습니다!!!?\n",
        "반별점수 = [\n",
        "    ['홍길동', 50, 50, 50],\n",
        "    ['이철수', 45, 50, 55],\n",
        "    ['홍춘향', 60, 35, 75],\n",
        "    ['이호준', 92, 11, 95]\n",
        "]\n",
        "\n",
        "sorted(반별점수, key=lambda x: x[1] + x[2] + x[3], reverse=True) # 철수가 수학 점수가 높은데 뒤에 있네요?\n",
        "# 제 의도는 수학 점수가 높으니 앞에 두겠다는 얘기입니다.\n",
        "\n",
        "# 1\n",
        "# sorted(반별점수, key=lambda x: x[1] + x[2] + x[3], reverse=True)\n",
        "# 반별점수 = [\n",
        "#     ['홍길동', 50, 50, 50] => 50,\n",
        "#     ['이철수', 45, 50, 55] => 50,\n",
        "#     ['홍춘향', 60, 35, 75] => ??,\n",
        "#     ['이호준', 92, 11, 95] => ??\n",
        "# ]\n",
        "# 국, 영, 수 순서이다.\n",
        "\n",
        "# 2\n",
        "# sorted(반별점수, key=lambda x: (x[1] + x[2] + x[3], x[3]), reverse=True)\n",
        "# 반별점수 = [\n",
        "#     ['홍길동', 50, 50, 50] => (50, 50),\n",
        "#     ['이철수', 45, 50, 55] => (50, 55),\n",
        "#     ['홍춘향', 60, 35, 75] => ??,\n",
        "#     ['이호준', 92, 11, 95] => ??\n",
        "# ]\n",
        "\n",
        "sorted(반별점수, key=lambda x: (x[1] + x[2] + x[3], x[3]), reverse=True) # 철수랑 길동이 바뀌었습니다!"
      ],
      "metadata": {
        "colab": {
          "base_uri": "https://localhost:8080/"
        },
        "id": "Ox7s_wH6Tp_Z",
        "outputId": "92afce8d-68b1-412e-e136-c98cf6c4e258"
      },
      "execution_count": null,
      "outputs": [
        {
          "output_type": "execute_result",
          "data": {
            "text/plain": [
              "[['이호준', 92, 11, 95],\n",
              " ['홍춘향', 60, 35, 75],\n",
              " ['이철수', 45, 50, 55],\n",
              " ['홍길동', 50, 50, 50]]"
            ]
          },
          "metadata": {},
          "execution_count": 33
        }
      ]
    },
    {
      "cell_type": "code",
      "source": [
        "우편번호 = [\n",
        "    {\n",
        "        '주소': '경기도 용인시',\n",
        "        '우편번호': 321\n",
        "    },\n",
        "    {\n",
        "        '주소': '경기도 수원시',\n",
        "        '우편번호': 355\n",
        "    },\n",
        "    {\n",
        "        '주소': '제주특별자치도 제주시',\n",
        "        '우편번호': 333\n",
        "    }\n",
        "]\n",
        "\n",
        "# sorted(우편번호) # error!?\n",
        "sorted(우편번호, key=lambda x: x['우편번호'])"
      ],
      "metadata": {
        "colab": {
          "base_uri": "https://localhost:8080/"
        },
        "id": "asVjw25OTtD-",
        "outputId": "a3e80ede-5c4c-41ce-aa36-6a8c06307b43"
      },
      "execution_count": null,
      "outputs": [
        {
          "output_type": "execute_result",
          "data": {
            "text/plain": [
              "[{'주소': '경기도 용인시', '우편번호': 321},\n",
              " {'주소': '제주특별자치도 제주시', '우편번호': 333},\n",
              " {'주소': '경기도 수원시', '우편번호': 355}]"
            ]
          },
          "metadata": {},
          "execution_count": 37
        }
      ]
    },
    {
      "cell_type": "code",
      "source": [
        "# 입력값 : s = [1, 3, 4, 8, 13, 17, 20]\n",
        "# 출력값 : (3, 4)\n",
        "\n",
        "s = [1, 3, 4, 8, 13, 17, 20]\n",
        "s[1:]"
      ],
      "metadata": {
        "colab": {
          "base_uri": "https://localhost:8080/"
        },
        "id": "BaWvuQ4cWILk",
        "outputId": "82400c30-7771-46e2-df7d-73686c8ad075"
      },
      "execution_count": null,
      "outputs": [
        {
          "output_type": "execute_result",
          "data": {
            "text/plain": [
              "[3, 4, 8, 13, 17, 20]"
            ]
          },
          "metadata": {},
          "execution_count": 38
        }
      ]
    },
    {
      "cell_type": "code",
      "source": [
        "x = list(zip(s, s[1:]))"
      ],
      "metadata": {
        "id": "H5F1k2LdXPOm"
      },
      "execution_count": null,
      "outputs": []
    },
    {
      "cell_type": "code",
      "source": [
        "sorted(x, key = lambda x: x[0] - x[1], reverse = True)"
      ],
      "metadata": {
        "id": "nkQXZnIbYY6a"
      },
      "execution_count": null,
      "outputs": []
    },
    {
      "cell_type": "code",
      "source": [
        "x = [(1, 3), (3, 4), (4, 8), (8, 13), (13, 17)]\n",
        "\n",
        "sorted(x)"
      ],
      "metadata": {
        "id": "BAfyeOF_YwA7"
      },
      "execution_count": null,
      "outputs": []
    }
  ]
}