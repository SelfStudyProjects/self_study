{
  "nbformat": 4,
  "nbformat_minor": 0,
  "metadata": {
    "colab": {
      "provenance": []
    },
    "kernelspec": {
      "name": "python3",
      "display_name": "Python 3"
    },
    "language_info": {
      "name": "python"
    }
  },
  "cells": [
    {
      "cell_type": "code",
      "execution_count": 3,
      "metadata": {
        "colab": {
          "base_uri": "https://localhost:8080/"
        },
        "id": "993-ZUmHHHPq",
        "outputId": "fd238f0c-60f7-45d2-8f2c-524aac2d4521"
      },
      "outputs": [
        {
          "output_type": "stream",
          "name": "stdout",
          "text": [
            "선택된 요소: 사과\n"
          ]
        }
      ],
      "source": [
        "import random\n",
        "\n",
        "element = ['사과', '바나나', '체리']\n",
        "chosen_element = random.choice(element)\n",
        "print(f'선택된 요소: {chosen_element}')"
      ]
    },
    {
      "cell_type": "code",
      "source": [
        "x = 10\n",
        "y = x\n",
        "z = y # x = 10\n",
        "\n",
        "x = 20\n",
        "print(y, z) # 결과 값은 10입니다."
      ],
      "metadata": {
        "colab": {
          "base_uri": "https://localhost:8080/"
        },
        "id": "VqaUGBWJMjFd",
        "outputId": "2ad7bef0-dd8e-49fb-c738-3e516b32d89d"
      },
      "execution_count": 4,
      "outputs": [
        {
          "output_type": "stream",
          "name": "stdout",
          "text": [
            "10 10\n"
          ]
        }
      ]
    },
    {
      "cell_type": "code",
      "source": [
        "\n",
        "class int(int):\n",
        "  def __add__(self, a):\n",
        "    return self * a\n",
        "\n",
        "int(10) + int(10)"
      ],
      "metadata": {
        "colab": {
          "base_uri": "https://localhost:8080/"
        },
        "id": "KqB3PzD-Q8em",
        "outputId": "bc1fc76e-0e73-4f0c-cfef-46b7af40461f"
      },
      "execution_count": 11,
      "outputs": [
        {
          "output_type": "execute_result",
          "data": {
            "text/plain": [
              "100"
            ]
          },
          "metadata": {},
          "execution_count": 11
        }
      ]
    },
    {
      "cell_type": "code",
      "source": [
        "x = float(\"-inf\")\n",
        "return x"
      ],
      "metadata": {
        "colab": {
          "base_uri": "https://localhost:8080/",
          "height": 148
        },
        "id": "BcerkeY0PImn",
        "outputId": "dd847fb2-4f0d-430e-f3a8-1b54415b893f"
      },
      "execution_count": 6,
      "outputs": [
        {
          "output_type": "error",
          "ename": "SyntaxError",
          "evalue": "'return' outside function (<ipython-input-6-a5e66e12c9d2>, line 2)",
          "traceback": [
            "\u001b[0;36m  File \u001b[0;32m\"<ipython-input-6-a5e66e12c9d2>\"\u001b[0;36m, line \u001b[0;32m2\u001b[0m\n\u001b[0;31m    return x\u001b[0m\n\u001b[0m    ^\u001b[0m\n\u001b[0;31mSyntaxError\u001b[0m\u001b[0;31m:\u001b[0m 'return' outside function\n"
          ]
        }
      ]
    },
    {
      "cell_type": "code",
      "source": [
        "print(float('inf') > 10e307)\n",
        "print(float('inf') > 10e308)\n",
        "\n",
        "float('inf') == 10e307, float('inf') == 10e308, float('inf') == 10e309"
      ],
      "metadata": {
        "colab": {
          "base_uri": "https://localhost:8080/"
        },
        "id": "1KcD4ApDTFKe",
        "outputId": "9e11391a-02d8-45e7-d3d9-188595618321"
      },
      "execution_count": 7,
      "outputs": [
        {
          "output_type": "stream",
          "name": "stdout",
          "text": [
            "True\n",
            "False\n"
          ]
        },
        {
          "output_type": "execute_result",
          "data": {
            "text/plain": [
              "(False, True, True)"
            ]
          },
          "metadata": {},
          "execution_count": 7
        }
      ]
    }
  ]
}